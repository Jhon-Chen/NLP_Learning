{
 "cells": [
  {
   "cell_type": "markdown",
   "metadata": {
    "collapsed": true,
    "pycharm": {
     "name": "#%% md\n"
    }
   },
   "source": [
    "# 正向向前匹配\n",
    "正向最大匹配算法（MM）的思想是假设自动分词中最长词条所含汉字的个数为n， 则截取需要分词文本中当前字符串序列中的前n个字符作为匹配字段，\n",
    "查找分词词典，若词典中有这样一个n字词那么就匹配成功，匹配字段作为一个词被切分出来；若词典中找不到这样的一个n字词那么匹配失败， \n",
    "匹配字段去掉最后一个汉字， 剩下的字符作为新的匹配字段再进行匹配，如此进行下去，直到匹配成功为止。因为停用词对后续文本处理可能会造成干扰，\n",
    "所以在用正向最大匹配算法分词的过程中直接去除了停用词。"
   ]
  },
  {
   "cell_type": "code",
   "execution_count": 1,
   "outputs": [],
   "source": [
    "dic = ['我', '你', '想着'] # 字典文本\n",
    "text = '我想着想着你想着想着我' # 需要分词的文本"
   ],
   "metadata": {
    "collapsed": false,
    "pycharm": {
     "name": "#%%\n",
     "is_executing": false
    }
   }
  },
  {
   "cell_type": "code",
   "execution_count": 2,
   "outputs": [],
   "source": [
    "# 遍历分词词典，获得最大的分词长度\n",
    "max_len = 0\n",
    "for i in dic:\n",
    "    if len(i) > max_len:\n",
    "        max_len = len(i)"
   ],
   "metadata": {
    "collapsed": false,
    "pycharm": {
     "name": "#%%\n",
     "is_executing": false
    }
   }
  },
  {
   "cell_type": "code",
   "execution_count": 3,
   "outputs": [
    {
     "name": "stdout",
     "text": [
      "['我', '想着', '想着', '你', '想着', '想着', '我']\n"
     ],
     "output_type": "stream"
    }
   ],
   "source": [
    "# 定义一个空列表来储存分词结果\n",
    "result_word = []\n",
    "k = 0\n",
    "while k < len(text):\n",
    "    test_str = text[k: max_len + k]\n",
    "    if test_str in dic:\n",
    "        result_word.append(test_str)\n",
    "        k = max_len + k\n",
    "    else:\n",
    "        while len(test_str) > 1:\n",
    "            test_str = test_str[0:len(test_str)-1]\n",
    "            if test_str in dic or len(test_str) == 1:\n",
    "                result_word.append(test_str)\n",
    "                k = k + 1\n",
    "print(result_word)   \n",
    "    "
   ],
   "metadata": {
    "collapsed": false,
    "pycharm": {
     "name": "#%%\n",
     "is_executing": false
    }
   }
  },
  {
   "cell_type": "code",
   "execution_count": 3,
   "outputs": [],
   "source": [
    "\n"
   ],
   "metadata": {
    "collapsed": false,
    "pycharm": {
     "name": "#%%\n",
     "is_executing": false
    }
   }
  }
 ],
 "metadata": {
  "kernelspec": {
   "name": "python3",
   "language": "python",
   "display_name": "Python 3"
  },
  "language_info": {
   "codemirror_mode": {
    "name": "ipython",
    "version": 2
   },
   "file_extension": ".py",
   "mimetype": "text/x-python",
   "name": "python",
   "nbconvert_exporter": "python",
   "pygments_lexer": "ipython2",
   "version": "2.7.6"
  },
  "pycharm": {
   "stem_cell": {
    "cell_type": "raw",
    "source": [],
    "metadata": {
     "collapsed": false
    }
   }
  }
 },
 "nbformat": 4,
 "nbformat_minor": 0
}