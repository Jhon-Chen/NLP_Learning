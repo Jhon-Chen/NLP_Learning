{
 "cells": [
  {
   "cell_type": "code",
   "execution_count": 135,
   "metadata": {
    "collapsed": true,
    "pycharm": {
     "is_executing": false
    }
   },
   "outputs": [],
   "source": [
    "import random\n",
    "simple_grammar = \"\"\"\n",
    "sentence => noun_phrase verb_phrase\n",
    "noun_phrase => Article Adj* noun\n",
    "Adj* => null | Adj Adj*\n",
    "verb_phrase => verb noun_phrase\n",
    "Article => 一个 | 这个\n",
    "noun => 女人 | 篮球 | 桌子 | 小猫\n",
    "verb => 看着 | 坐在 | 听着 | 看见\n",
    "Adj => 蓝色的 | 好看的 | 小小的\n",
    "\"\"\""
   ]
  },
  {
   "cell_type": "code",
   "execution_count": 136,
   "outputs": [],
   "source": [
    "simplest_grammar = \"\"\"\n",
    "number = number number | single_number\n",
    "single_number = 1 | 2 | 3 | 4 | 5 | 6 | 7 | 8 | 9 | 0\n",
    "\"\"\""
   ],
   "metadata": {
    "collapsed": false,
    "pycharm": {
     "name": "#%%\n",
     "is_executing": false
    }
   }
  },
  {
   "cell_type": "code",
   "execution_count": 137,
   "outputs": [],
   "source": [
    "def adj():  return random.choice('Adj => 蓝色的 | 好看的 | 小小的'.split('|')).split()[0]"
   ],
   "metadata": {
    "collapsed": false,
    "pycharm": {
     "name": "#%%\n",
     "is_executing": false
    }
   }
  },
  {
   "cell_type": "code",
   "execution_count": 138,
   "outputs": [],
   "source": [
    "def adj_star(): return random.choice([None, adj() + adj()])"
   ],
   "metadata": {
    "collapsed": false,
    "pycharm": {
     "name": "#%%\n",
     "is_executing": false
    }
   }
  },
  {
   "cell_type": "code",
   "execution_count": 139,
   "outputs": [
    {
     "data": {
      "text/plain": "'好看的小小的'"
     },
     "metadata": {},
     "output_type": "execute_result",
     "execution_count": 139
    }
   ],
   "source": [
    "adj_star()"
   ],
   "metadata": {
    "collapsed": false,
    "pycharm": {
     "name": "#%%\n",
     "is_executing": false
    }
   }
  },
  {
   "cell_type": "markdown",
   "source": [
    "## But the Question is ?\n",
    "如果我们更换了语法，就会发现所有的程序都要重写。:(\n"
   ],
   "metadata": {
    "collapsed": false
   }
  },
  {
   "cell_type": "code",
   "execution_count": 140,
   "outputs": [],
   "source": [
    "# 定义adj语法\n",
    "adj_grammar = \"\"\"\n",
    "Adj* => null | Adj Adj*\n",
    "Adj => 蓝色的 | 好看的 | 小小的\n",
    "\"\"\""
   ],
   "metadata": {
    "collapsed": false,
    "pycharm": {
     "name": "#%%\n",
     "is_executing": false
    }
   }
  },
  {
   "cell_type": "code",
   "execution_count": 141,
   "outputs": [],
   "source": [
    "def create_grammar(grammar_str, split):\n",
    "    grammar = {}\n",
    "    for line in grammar_str.split('\\n'):\n",
    "        if not line.strip(): continue  # 注意这里strip不能去除段中的空格\n",
    "        exp, stmt = line.split(split)\n",
    "        grammar[exp.strip()] = [s.split() for s in stmt.split('|')]\n",
    "    return grammar"
   ],
   "metadata": {
    "collapsed": false,
    "pycharm": {
     "name": "#%%\n",
     "is_executing": false
    }
   }
  },
  {
   "cell_type": "code",
   "execution_count": 142,
   "outputs": [],
   "source": [
    "def generate(gram, target):\n",
    "    if target not in gram: # means target is a terminal expression\n",
    "        return target\n",
    "    if target in gram: # target can be expanded\n",
    "        new_expanded = [generate(gram, t) for t in random.choice(gram[target])]\n",
    "        # 这里存在一个函数的递归调用，及对gram中target的内容随机选取并再次调用函数自身\n",
    "        # 如果这个随机选取出的target是不可迭代的就直接返回，如果仍然是可迭代的就继续迭代\n",
    "        return ' '.join(e for e in new_expanded if e != 'null')\n",
    "    else:\n",
    "        return target\n",
    "        "
   ],
   "metadata": {
    "collapsed": false,
    "pycharm": {
     "name": "#%%\n",
     "is_executing": false
    }
   }
  },
  {
   "cell_type": "code",
   "execution_count": 143,
   "outputs": [
    {
     "data": {
      "text/plain": "'一个  桌子 听着 这个 蓝色的 好看的 蓝色的 小小的  小猫'"
     },
     "metadata": {},
     "output_type": "execute_result",
     "execution_count": 143
    }
   ],
   "source": [
    "example_grammar = create_grammar(simple_grammar, split='=>')\n",
    "\n",
    "# example_grammar\n",
    "\n",
    "generate(gram=example_grammar, target='sentence')"
   ],
   "metadata": {
    "collapsed": false,
    "pycharm": {
     "name": "#%%\n",
     "is_executing": false
    }
   }
  },
  {
   "cell_type": "code",
   "execution_count": 144,
   "outputs": [],
   "source": [
    "#　在西部世界里，一个“人类”的语言可以定义为：\n",
    "\n",
    "human = \"\"\"\n",
    "human = 自己 寻找 活动\n",
    "自己 = 我 | 俺 | 我们 \n",
    "寻找 = 找找 | 想找点 \n",
    "活动 = 乐子 | 玩的\n",
    "\"\"\"\n",
    "\n",
    "\n",
    "#　一个“接待员”的语言可以定义为\n",
    "\n",
    "host = \"\"\"\n",
    "host = 寒暄 报数 询问 业务相关 结尾 \n",
    "报数 = 我是 数字 号 ,\n",
    "数字 = 单个数字 | 数字 单个数字 \n",
    "单个数字 = 1 | 2 | 3 | 4 | 5 | 6 | 7 | 8 | 9 \n",
    "寒暄 = 称谓 打招呼 | 打招呼\n",
    "称谓 = 人称 ,\n",
    "人称 = 先生 | 女士 | 小朋友\n",
    "打招呼 = 你好 | 您好 \n",
    "询问 = 请问你要 | 您需要\n",
    "业务相关 = 玩玩 具体业务\n",
    "玩玩 = null\n",
    "具体业务 = 喝酒 | 打牌 | 打猎 | 赌博\n",
    "结尾 = 吗？\n",
    "\"\"\""
   ],
   "metadata": {
    "collapsed": false,
    "pycharm": {
     "name": "#%%\n",
     "is_executing": false
    }
   }
  },
  {
   "cell_type": "code",
   "execution_count": 145,
   "outputs": [
    {
     "data": {
      "text/plain": "'女士 , 你好 我是 3 号 , 您需要  打牌 吗？'"
     },
     "metadata": {},
     "output_type": "execute_result",
     "execution_count": 145
    }
   ],
   "source": [
    "host_gram = create_grammar(host, split='=')\n",
    "generate(gram=host_gram, target='host')\n"
   ],
   "metadata": {
    "collapsed": false,
    "pycharm": {
     "name": "#%%\n",
     "is_executing": false
    }
   }
  },
  {
   "cell_type": "markdown",
   "source": [
    "\n",
    "## Data Driven\n",
    "我们的目标是，希望能做以一个程序，当我们输入的数据变化的时候，我们的程序不同重写。 Generalization\n",
    "\n",
    "Ai? 如何能够自动化解决问题，我们找到一个方法之后，输入变了，我们的这个方法不用变。"
   ],
   "metadata": {
    "collapsed": false
   }
  },
  {
   "cell_type": "markdown",
   "source": [
    "\n",
    "## Language Model\n",
    "\n",
    "$$ language_model(String) = Probability(String) \\in (0, 1) $$\n",
    "$$ Pro(w_1w_2w_3w_4) = Pro(w_1|w_2w_3w_4)*Pro(w_2|w_3w_4)*Pro(w_3|w_4)*Pro(w_4) $$\n",
    "\n",
    "* 上边是条件概率 "
   ],
   "metadata": {
    "collapsed": false,
    "pycharm": {
     "name": "#%% md\n"
    }
   }
  },
  {
   "cell_type": "code",
   "execution_count": 146,
   "outputs": [
    {
     "data": {
      "text/plain": "44"
     },
     "metadata": {},
     "output_type": "execute_result",
     "execution_count": 146
    }
   ],
   "source": [
    "import random\n",
    "random.choice(range(1000))\n"
   ],
   "metadata": {
    "collapsed": false,
    "pycharm": {
     "name": "#%%\n",
     "is_executing": false
    }
   }
  },
  {
   "cell_type": "code",
   "execution_count": 147,
   "outputs": [],
   "source": [
    "   \n",
    "filename = \"D:\\\\datasource\\\\datasource\\\\export_sql_1558435\\\\sqlResult_1558435.csv\""
   ],
   "metadata": {
    "collapsed": false,
    "pycharm": {
     "name": "#%%\n",
     "is_executing": false
    }
   }
  },
  {
   "cell_type": "code",
   "execution_count": 148,
   "outputs": [],
   "source": [
    "import pandas as pd"
   ],
   "metadata": {
    "collapsed": false,
    "pycharm": {
     "name": "#%%\n",
     "is_executing": false
    }
   }
  },
  {
   "cell_type": "code",
   "execution_count": 149,
   "outputs": [
    {
     "data": {
      "text/plain": "      id      author                  source  \\\n0  89617         NaN  快科技@http://www.kkj.cn/   \n1  89616         NaN  快科技@http://www.kkj.cn/   \n2  89615         NaN  快科技@http://www.kkj.cn/   \n3  89614         NaN                     新华社   \n4  89613  胡淑丽_MN7479                   深圳大件事   \n\n                                             content  \\\n0  此外，自本周（6月12日）起，除小米手机6等15款机型外，其余机型已暂停更新发布（含开发版/...   \n1  骁龙835作为唯一通过Windows 10桌面平台认证的ARM处理器，高通强调，不会因为只考...   \n2  此前的一加3T搭载的是3400mAh电池，DashCharge快充规格为5V/4A。\\r\\n...   \n3    这是6月18日在葡萄牙中部大佩德罗冈地区拍摄的被森林大火烧毁的汽车。新华社记者张立云摄\\r\\n   \n4  （原标题：44岁女子跑深圳约会网友被拒，暴雨中裸身奔走……）\\r\\n@深圳交警微博称：昨日清...   \n\n                                             feature  \\\n0  {\"type\":\"科技\",\"site\":\"cnbeta\",\"commentNum\":\"37\"...   \n1  {\"type\":\"科技\",\"site\":\"cnbeta\",\"commentNum\":\"15\"...   \n2  {\"type\":\"科技\",\"site\":\"cnbeta\",\"commentNum\":\"18\"...   \n3  {\"type\":\"国际新闻\",\"site\":\"环球\",\"commentNum\":\"0\",\"j...   \n4  {\"type\":\"新闻\",\"site\":\"网易热门\",\"commentNum\":\"978\",...   \n\n                           title  \\\n0           小米MIUI 9首批机型曝光：共计15款   \n1     骁龙835在Windows 10上的性能表现有望改善   \n2      一加手机5细节曝光：3300mAh、充半小时用1天   \n3  葡森林火灾造成至少62人死亡 政府宣布进入紧急状态（组图）   \n4       44岁女子约网友被拒暴雨中裸奔 交警为其披衣相随   \n\n                                                 url  \n0     http://www.cnbeta.com/articles/tech/623597.htm  \n1     http://www.cnbeta.com/articles/tech/623599.htm  \n2     http://www.cnbeta.com/articles/tech/623601.htm  \n3  http://world.huanqiu.com/hot/2017-06/10866126....  \n4  http://news.163.com/17/0618/00/CN617P3Q0001875...  ",
      "text/html": "<div>\n<style scoped>\n    .dataframe tbody tr th:only-of-type {\n        vertical-align: middle;\n    }\n\n    .dataframe tbody tr th {\n        vertical-align: top;\n    }\n\n    .dataframe thead th {\n        text-align: right;\n    }\n</style>\n<table border=\"1\" class=\"dataframe\">\n  <thead>\n    <tr style=\"text-align: right;\">\n      <th></th>\n      <th>id</th>\n      <th>author</th>\n      <th>source</th>\n      <th>content</th>\n      <th>feature</th>\n      <th>title</th>\n      <th>url</th>\n    </tr>\n  </thead>\n  <tbody>\n    <tr>\n      <th>0</th>\n      <td>89617</td>\n      <td>NaN</td>\n      <td>快科技@http://www.kkj.cn/</td>\n      <td>此外，自本周（6月12日）起，除小米手机6等15款机型外，其余机型已暂停更新发布（含开发版/...</td>\n      <td>{\"type\":\"科技\",\"site\":\"cnbeta\",\"commentNum\":\"37\"...</td>\n      <td>小米MIUI 9首批机型曝光：共计15款</td>\n      <td>http://www.cnbeta.com/articles/tech/623597.htm</td>\n    </tr>\n    <tr>\n      <th>1</th>\n      <td>89616</td>\n      <td>NaN</td>\n      <td>快科技@http://www.kkj.cn/</td>\n      <td>骁龙835作为唯一通过Windows 10桌面平台认证的ARM处理器，高通强调，不会因为只考...</td>\n      <td>{\"type\":\"科技\",\"site\":\"cnbeta\",\"commentNum\":\"15\"...</td>\n      <td>骁龙835在Windows 10上的性能表现有望改善</td>\n      <td>http://www.cnbeta.com/articles/tech/623599.htm</td>\n    </tr>\n    <tr>\n      <th>2</th>\n      <td>89615</td>\n      <td>NaN</td>\n      <td>快科技@http://www.kkj.cn/</td>\n      <td>此前的一加3T搭载的是3400mAh电池，DashCharge快充规格为5V/4A。\\r\\n...</td>\n      <td>{\"type\":\"科技\",\"site\":\"cnbeta\",\"commentNum\":\"18\"...</td>\n      <td>一加手机5细节曝光：3300mAh、充半小时用1天</td>\n      <td>http://www.cnbeta.com/articles/tech/623601.htm</td>\n    </tr>\n    <tr>\n      <th>3</th>\n      <td>89614</td>\n      <td>NaN</td>\n      <td>新华社</td>\n      <td>这是6月18日在葡萄牙中部大佩德罗冈地区拍摄的被森林大火烧毁的汽车。新华社记者张立云摄\\r\\n</td>\n      <td>{\"type\":\"国际新闻\",\"site\":\"环球\",\"commentNum\":\"0\",\"j...</td>\n      <td>葡森林火灾造成至少62人死亡 政府宣布进入紧急状态（组图）</td>\n      <td>http://world.huanqiu.com/hot/2017-06/10866126....</td>\n    </tr>\n    <tr>\n      <th>4</th>\n      <td>89613</td>\n      <td>胡淑丽_MN7479</td>\n      <td>深圳大件事</td>\n      <td>（原标题：44岁女子跑深圳约会网友被拒，暴雨中裸身奔走……）\\r\\n@深圳交警微博称：昨日清...</td>\n      <td>{\"type\":\"新闻\",\"site\":\"网易热门\",\"commentNum\":\"978\",...</td>\n      <td>44岁女子约网友被拒暴雨中裸奔 交警为其披衣相随</td>\n      <td>http://news.163.com/17/0618/00/CN617P3Q0001875...</td>\n    </tr>\n  </tbody>\n</table>\n</div>"
     },
     "metadata": {},
     "output_type": "execute_result",
     "execution_count": 149
    }
   ],
   "source": [
    "content = pd.read_csv(filename, encoding='gb18030')\n",
    "# articles = content['content'].tolist()\n",
    "content.head()"
   ],
   "metadata": {
    "collapsed": false,
    "pycharm": {
     "name": "#%%\n",
     "is_executing": false
    }
   }
  },
  {
   "cell_type": "code",
   "execution_count": 150,
   "outputs": [
    {
     "data": {
      "text/plain": "'在外国名著《麦田里的守望者》中，作者想要守护麦田里如自己内心一般纯真的孩子们。而驻村干部们，也在这个炎热的夏天里撸袖子上阵，真正做起了村民们的“麦田守望者”。\\r\\n三夏时节不等人\\r\\n你看到了吗？不停翻涌起伏、仿若铺陈至天边的金黄麦浪中，那若隐若现的人影，是自治区新闻出版广电局驻和田市肖尔巴格乡合尼村工作队的队员与工作队组织的青年志愿者。\\r\\n在这个炎热的夏季，他们深入田间地头，帮助村民们收割小麦。扛起收麦机，麦田中的每个人都显得兴致勃勃，一天下来就近22亩小麦收割完毕。\\r\\n志愿者麦麦提亚森擦去满脸的汗水，高兴地告诉驻村队员：“我们青年志愿者应该多做贡献，为村里的脱贫致富出把力。工作队带着我们为村里的老人服务，看到那些像我爷爷奶奶一样的老人赞许感谢的目光，我体会到了帮助他人的快乐。”（自治区新闻出版广电局驻村工作队孙敏 艾力依布拉音）\\r\\n麦收时节 我们在一起\\r\\n6月中旬的和田墨玉，麦田金黄，静待收割。\\r\\n6月14日、15日两天，自治区高级人民法院驻和田地区墨玉县吐外特乡罕勒克艾日克村工作队与48名村民志愿者一道，帮助村里29户有需要的村民进行小麦收割工作。\\r\\n田间地头，罕勒克艾日克村志愿队的红旗迎风飘扬，格外醒目。10余台割麦机一起轰鸣，男人们在用机器收割小麦的同时，几名妇女也加入到志愿队，构成了一道美丽的麦收风景。\\r\\n休息空闲，工作队员和村民们坐在树荫下、田埂上，互相问好、聊天。语言交流有困难，就用手势、动作比划着聊天，有趣地交流方式不时引来阵阵欢笑。大家在一同享受丰收和喜悦，也一同增进着彼此的情感和友谊。（自治区高级人民法院驻村工作队周春梅 艾地艾木·阿不拉）\\r\\n细看稻菽千重浪\\r\\n6月15日，自治区煤田灭火工程局的干部职工们再一次跋涉1000多公里来到了叶城县萨依巴格乡阿亚格欧尔达贝格村，见到了自己的亲戚。现场处处都透出掩盖不住的喜悦，一声声亲切的“谢谢”、一个个结实的拥抱，都透露出浓浓的亲情。\\r\\n没坐一会儿，在嘘寒问暖中大家了解到在麦收的关键时刻，部分村民家中却存在收割难的问题。小麦成熟期短，收获的时间集中，天气的变化对小麦最终产量的影响极大，如果不能及时收割，会有不小损失的。于是，大家几乎立刻就决定要帮助亲戚们收割麦子。\\r\\n在茂密的麦地里，干部们每人手持一把镰刀，一字排开，挽起衣袖、卷起裤腿，挥舞着镰刀进行着无声的竞赛。\\r\\n骄阳似火，汗如雨下，但这都挡不住大家的热情。随着此起彼伏的镰刀割倒麦子的“刷刷”声响，不一会，一束束沉甸甸的麦穗就被整齐地堆放了起来。\\r\\n当看到自己亲手收割的金黄色麦穗，被一簇簇地打成捆运送到晒场，每个人的脸上都露出了灿烂的笑容。（自治区煤田灭火工程局驻村工作队马浩南）\\r\\n这是一个收获多多的季节\\r\\n6月13日清晨6时许，和田地区民丰县若雅乡特开墩村的麦田里已经传来马达轰鸣声。原来是自治区质监局驻村工作队趁着天气尚且凉爽，开始了麦田的收割工作。\\r\\n忙碌间隙，志愿者队伍搬来清凉的水，村民们拎来鲜甜的西瓜，抹一把汗水，吃一牙西瓜，甜蜜的汁水似乎流进了每一个人的心里。\\r\\n说起割麦子，对于生活在这片土地上的村民来说是再平常不过的事，但是对于工作队队员们来说却是陌生的。\\r\\n自治区质监局驻民丰县若克雅乡博斯坦村工作队队员们一开始觉得十几个人一起收割二亩地应该会挺快的，结果却一点不简单。\\r\\n镰刀拿到自己手里割起来，考验才真正的开始。大家弓着腰、弯着腿，亦步亦趋，手上挥舞着镰刀，时刻注意不要让镰刀割到自己，脚下还要留心不要把套种的玉米苗踩伤，不一会儿，就已经汗流浃背了。抬头看看，身边的村民早就远远地割到前面去了，只有今年已经56岁的工作队队长李树刚有割麦经验，多少给队员们挽回了些“面子”。\\r\\n赶不上村民们割麦子的速度，更不要说搞定收割机这台大家伙了。“现代化的机械收割，能成倍提升小麦的收割速度。”李树刚说，“不过，能有这样的体验，拉近和村民的距离，也是很难得的体验。”（自治区质监局驻村工作队王辉 马君刚）\\r\\n我们是麦田的守护者\\r\\n为了应对麦收，新疆银监局驻和田县塔瓦库勒乡也先巴扎村工作队一早就从经济支援和人力支援两方面做好了准备。一方面，工作队帮村里购入了5台小麦收割机，另一边，还组织村干部、青年团员等组成了6支近百人的“收割先锋突击队”，帮助村民们抢收麦子。\\r\\n看着及时归仓的麦子，村民们喜得合不拢嘴，纷纷摘下自家杏树上的杏子送给工作队。金黄的麦穗温暖了村民们的心，香甜的杏子温暖了工作队员的心，麦子加杏子，拉近了村民和队员们的心……（新疆银监局驻村工作队王继发）\\r\\n免责声明：本文仅代表作者个人观点，与环球网无关。其原创性以及文中陈述文字和内容未经本站证实，对本文以及其中全部或者部分内容、文字的真实性、完整性、及时性本站不作任何保证或承诺，请读者仅作参考，并请自行核实相关内容。\\r\\n'"
     },
     "metadata": {},
     "output_type": "execute_result",
     "execution_count": 150
    }
   ],
   "source": [
    "articles = content['content'].tolist()\n",
    "articles[110]"
   ],
   "metadata": {
    "collapsed": false,
    "pycharm": {
     "name": "#%%\n",
     "is_executing": false
    }
   }
  },
  {
   "cell_type": "code",
   "execution_count": 151,
   "outputs": [],
   "source": [
    "import re\n",
    "\n",
    "# 定义一个正则表达式\n",
    "def token(string):\n",
    "    return re.findall('\\w+', string)"
   ],
   "metadata": {
    "collapsed": false,
    "pycharm": {
     "name": "#%%\n",
     "is_executing": false
    }
   }
  },
  {
   "cell_type": "code",
   "execution_count": 152,
   "outputs": [],
   "source": [
    "# ''.join(token(articles[110]))"
   ],
   "metadata": {
    "collapsed": false,
    "pycharm": {
     "name": "#%%\n",
     "is_executing": false
    }
   }
  },
  {
   "cell_type": "code",
   "execution_count": 153,
   "outputs": [
    {
     "data": {
      "text/plain": "'骁龙835作为唯一通过Windows10桌面平台认证的ARM处理器高通强调不会因为只考虑性能而去屏蔽掉小核心相反他们正联手微软找到一种适合桌面平台的兼顾性能和功耗的完美方案报道称微软已经拿到了一些新的源码以便Windows10更好地理解biglittle架构资料显示骁龙835作为一款集成了CPUGPU基带蓝牙WiFi的SoC比传统的Wintel方案可以节省至少30的PCB空间按计划今年Q4华硕惠普联想将首发骁龙835Win10电脑预计均是二合一形态的产品当然高通骁龙只是个开始未来也许还能见到三星Exynos联发科华为麒麟小米澎湃等进入Windows10桌面平台'"
     },
     "metadata": {},
     "output_type": "execute_result",
     "execution_count": 153
    }
   ],
   "source": [
    "# type(token(articles[110]))\n",
    "articles_clean = [''.join(token(str(a))) for a in articles[:1000]]\n",
    "\n",
    "articles_clean[1]\n"
   ],
   "metadata": {
    "collapsed": false,
    "pycharm": {
     "name": "#%%\n",
     "is_executing": false
    }
   }
  },
  {
   "cell_type": "code",
   "execution_count": 154,
   "outputs": [],
   "source": [
    "import jieba"
   ],
   "metadata": {
    "collapsed": false,
    "pycharm": {
     "name": "#%%\n",
     "is_executing": false
    }
   }
  },
  {
   "cell_type": "code",
   "execution_count": 155,
   "outputs": [
    {
     "data": {
      "text/plain": "[('，', 88),\n ('的', 73),\n ('。', 39),\n ('\\r\\n', 27),\n ('了', 20),\n ('们', 18),\n ('工作队', 16),\n ('村民', 15),\n ('收割', 14),\n ('、', 12)]"
     },
     "metadata": {},
     "output_type": "execute_result",
     "execution_count": 155
    }
   ],
   "source": [
    "from collections import Counter\n",
    "with_jie_ba_cut = Counter(jieba.cut(articles[110]))\n",
    "with_jie_ba_cut.most_common()[:10]"
   ],
   "metadata": {
    "collapsed": false,
    "pycharm": {
     "name": "#%%\n",
     "is_executing": false
    }
   }
  },
  {
   "cell_type": "code",
   "execution_count": 156,
   "outputs": [],
   "source": [
    "def cut(string): return list(jieba.cut(string))"
   ],
   "metadata": {
    "collapsed": false,
    "pycharm": {
     "name": "#%%\n",
     "is_executing": false
    }
   }
  },
  {
   "cell_type": "code",
   "execution_count": 157,
   "outputs": [],
   "source": [
    "articles_words = [\n",
    "    cut(string) for string in articles_clean\n",
    "]"
   ],
   "metadata": {
    "collapsed": false,
    "pycharm": {
     "name": "#%%\n",
     "is_executing": false
    }
   }
  },
  {
   "cell_type": "code",
   "execution_count": 158,
   "outputs": [],
   "source": [
    "TOKENS = []"
   ],
   "metadata": {
    "collapsed": false,
    "pycharm": {
     "name": "#%%\n",
     "is_executing": false
    }
   }
  },
  {
   "cell_type": "code",
   "execution_count": 159,
   "outputs": [],
   "source": [
    "from functools import reduce\n",
    "from operator import add"
   ],
   "metadata": {
    "collapsed": false,
    "pycharm": {
     "name": "#%%\n",
     "is_executing": false
    }
   }
  },
  {
   "cell_type": "code",
   "execution_count": 160,
   "outputs": [
    {
     "name": "stdout",
     "text": [
      "asd\n"
     ],
     "output_type": "stream"
    },
    {
     "data": {
      "text/plain": "440274"
     },
     "metadata": {},
     "output_type": "execute_result",
     "execution_count": 160
    }
   ],
   "source": [
    "TOKENS = reduce(add, articles_words)\n",
    "print('asd')\n",
    "len(TOKENS)"
   ],
   "metadata": {
    "collapsed": false,
    "pycharm": {
     "name": "#%%\n",
     "is_executing": false
    }
   }
  },
  {
   "cell_type": "code",
   "execution_count": 161,
   "outputs": [],
   "source": [
    "from collections import Counter"
   ],
   "metadata": {
    "collapsed": false,
    "pycharm": {
     "name": "#%%\n",
     "is_executing": false
    }
   }
  },
  {
   "cell_type": "code",
   "execution_count": 162,
   "outputs": [
    {
     "data": {
      "text/plain": "[('的', 23730),\n ('在', 6156),\n ('了', 5473),\n ('是', 3990),\n ('和', 3470),\n ('也', 2085),\n ('有', 2001),\n ('月', 1999),\n ('将', 1746),\n ('他', 1617)]"
     },
     "metadata": {},
     "output_type": "execute_result",
     "execution_count": 162
    }
   ],
   "source": [
    "words_count = Counter(TOKENS)\n",
    "\n",
    "words_count.most_common(10)"
   ],
   "metadata": {
    "collapsed": false,
    "pycharm": {
     "name": "#%%\n",
     "is_executing": false
    }
   }
  },
  {
   "cell_type": "code",
   "execution_count": 163,
   "outputs": [],
   "source": [
    "frequences = [f for w, f in words_count.most_common(100)]"
   ],
   "metadata": {
    "collapsed": false,
    "pycharm": {
     "name": "#%%\n",
     "is_executing": false
    }
   }
  },
  {
   "cell_type": "code",
   "execution_count": 164,
   "outputs": [],
   "source": [
    "x = [i for i in range(100)]"
   ],
   "metadata": {
    "collapsed": false,
    "pycharm": {
     "name": "#%%\n",
     "is_executing": false
    }
   }
  },
  {
   "cell_type": "code",
   "execution_count": 165,
   "outputs": [],
   "source": [
    "%matplotlib inline\n",
    "import matplotlib.pyplot as plt"
   ],
   "metadata": {
    "collapsed": false,
    "pycharm": {
     "name": "#%%\n",
     "is_executing": false
    }
   }
  },
  {
   "cell_type": "code",
   "execution_count": 166,
   "outputs": [
    {
     "data": {
      "text/plain": "[<matplotlib.lines.Line2D at 0x25b86af2160>]"
     },
     "metadata": {},
     "output_type": "execute_result",
     "execution_count": 166
    },
    {
     "data": {
      "text/plain": "<Figure size 432x288 with 1 Axes>",
      "image/png": "[encoded data removed]"
     },
     "metadata": {
      "needs_background": "light"
     },
     "output_type": "display_data"
    }
   ],
   "source": [
    "plt.plot(x, frequences)"
   ],
   "metadata": {
    "collapsed": false,
    "pycharm": {
     "name": "#%%\n",
     "is_executing": false
    }
   }
  },
  {
   "cell_type": "code",
   "execution_count": 167,
   "outputs": [],
   "source": [
    "# 现在我们考虑求一个联合概率"
   ],
   "metadata": {
    "collapsed": false,
    "pycharm": {
     "name": "#%%\n",
     "is_executing": false
    }
   }
  },
  {
   "cell_type": "code",
   "execution_count": 168,
   "outputs": [],
   "source": [
    "# 先查看一个单词出现的概率\n",
    "def prob_1(w1):\n",
    "    return words_count[w1]/len(TOKENS)\n"
   ],
   "metadata": {
    "collapsed": false,
    "pycharm": {
     "name": "#%%\n",
     "is_executing": false
    }
   }
  },
  {
   "cell_type": "code",
   "execution_count": 169,
   "outputs": [
    {
     "data": {
      "text/plain": "0.0020328250135143115"
     },
     "metadata": {},
     "output_type": "execute_result",
     "execution_count": 169
    }
   ],
   "source": [
    "prob_1('我们')"
   ],
   "metadata": {
    "collapsed": false,
    "pycharm": {
     "name": "#%%\n",
     "is_executing": false
    }
   }
  },
  {
   "cell_type": "code",
   "execution_count": 170,
   "outputs": [
    {
     "data": {
      "text/plain": "['此外', '自', '本周', '6', '月', '12', '日起', '除', '小米', '手机']"
     },
     "metadata": {},
     "output_type": "execute_result",
     "execution_count": 170
    }
   ],
   "source": [
    "TOKENS[:10]"
   ],
   "metadata": {
    "collapsed": false,
    "pycharm": {
     "name": "#%%\n",
     "is_executing": false
    }
   }
  },
  {
   "cell_type": "code",
   "execution_count": 171,
   "outputs": [],
   "source": [
    "TOKENS = [str(s) for s in TOKENS]\n",
    "\n",
    "TOKENS_2_GRAM = [''.join(TOKENS[i:i+2]) for i in range(len(TOKENS[:-2]))]"
   ],
   "metadata": {
    "collapsed": false,
    "pycharm": {
     "name": "#%%\n",
     "is_executing": false
    }
   }
  },
  {
   "cell_type": "code",
   "execution_count": 172,
   "outputs": [],
   "source": [
    "words_count_2 = Counter(TOKENS_2_GRAM)"
   ],
   "metadata": {
    "collapsed": false,
    "pycharm": {
     "name": "#%%\n",
     "is_executing": false
    }
   }
  },
  {
   "cell_type": "code",
   "execution_count": 173,
   "outputs": [],
   "source": [
    "def prob_2(w1, w2):\n",
    "    if w1 + w2 in words_count_2:\n",
    "        return words_count_2[w1+w2] / len(TOKENS_2_GRAM)\n",
    "    else:\n",
    "        return 1 / len(TOKENS_2_GRAM)"
   ],
   "metadata": {
    "collapsed": false,
    "pycharm": {
     "name": "#%%\n",
     "is_executing": false
    }
   }
  },
  {
   "cell_type": "code",
   "execution_count": 174,
   "outputs": [
    {
     "data": {
      "text/plain": "2.2713231820329252e-06"
     },
     "metadata": {},
     "output_type": "execute_result",
     "execution_count": 174
    }
   ],
   "source": [
    "prob_2('我们', '想')"
   ],
   "metadata": {
    "collapsed": false,
    "pycharm": {
     "name": "#%%\n",
     "is_executing": false
    }
   }
  },
  {
   "cell_type": "code",
   "execution_count": 178,
   "outputs": [],
   "source": [
    "def get_probablity(sentence):\n",
    "    words = cut(sentence)\n",
    "    \n",
    "    sentence_pro = 1\n",
    "    \n",
    "    for i, word in enumerate(words[:-1]):\n",
    "        next_ = words[i+1]\n",
    "        probaility = prob_2(word, next_)\n",
    "        \n",
    "        sentence_pro *= probaility\n",
    "    return sentence_pro"
   ],
   "metadata": {
    "collapsed": false,
    "pycharm": {
     "name": "#%%\n",
     "is_executing": false
    }
   }
  },
  {
   "cell_type": "code",
   "execution_count": 180,
   "outputs": [
    {
     "data": {
      "text/plain": "1.547672699172052e-11"
     },
     "metadata": {},
     "output_type": "execute_result",
     "execution_count": 180
    }
   ],
   "source": [
    "get_probablity('我中奖了')"
   ],
   "metadata": {
    "collapsed": false,
    "pycharm": {
     "name": "#%%\n",
     "is_executing": false
    }
   }
  },
  {
   "cell_type": "code",
   "execution_count": 182,
   "outputs": [
    {
     "data": {
      "text/plain": "3.348084228859145e-20"
     },
     "metadata": {},
     "output_type": "execute_result",
     "execution_count": 182
    }
   ],
   "source": [
    "get_probablity('好的我们来看一下')"
   ],
   "metadata": {
    "collapsed": false,
    "pycharm": {
     "name": "#%%\n",
     "is_executing": false
    }
   }
  },
  {
   "cell_type": "code",
   "execution_count": 184,
   "outputs": [
    {
     "name": "stdout",
     "text": [
      "sentence: 一个  篮球 坐在 这个  桌子 with Prb: 3.6541749413934434e-57\nsentence: 这个 小小的 蓝色的 蓝色的  桌子 听着 这个 小小的  小猫 with Prb: 6.06579319252997e-119\nsentence: 一个  小猫 听着 一个  桌子 with Prb: 1.6599624511181468e-62\nsentence: 这个 好看的 小小的 小小的 好看的  篮球 看着 这个 小小的  桌子 with Prb: 6.199819513024872e-124\nsentence: 这个 小小的  女人 听着 一个  女人 with Prb: 8.563595224154257e-74\nsentence: 这个  小猫 看见 这个 蓝色的 小小的 好看的  篮球 with Prb: 7.765010688956406e-102\nsentence: 这个  女人 坐在 一个  女人 with Prb: 3.6541749413934434e-57\nsentence: 这个  桌子 看着 一个 小小的  篮球 with Prb: 1.8851555982644215e-68\nsentence: 这个 蓝色的 好看的  小猫 听着 这个 蓝色的 蓝色的 好看的 好看的 小小的 小小的  女人 with Prb: 3.087440278599265e-185\nsentence: 这个 小小的 小小的  小猫 坐在 一个  小猫 with Prb: 9.725346177084004e-80\n"
     ],
     "output_type": "stream"
    }
   ],
   "source": [
    "for sen in [generate(gram=example_grammar, target='sentence') for i in range(10)]:\n",
    "    print('sentence: {} with Prb: {}'.format(sen, get_probablity(sen)))\n"
   ],
   "metadata": {
    "collapsed": false,
    "pycharm": {
     "name": "#%%\n",
     "is_executing": false
    }
   }
  }
 ],
 "metadata": {
  "kernelspec": {
   "name": "python3",
   "language": "python",
   "display_name": "Python 3"
  },
  "language_info": {
   "codemirror_mode": {
    "name": "ipython",
    "version": 2
   },
   "file_extension": ".py",
   "mimetype": "text/x-python",
   "name": "python",
   "nbconvert_exporter": "python",
   "pygments_lexer": "ipython2",
   "version": "2.7.6"
  },
  "pycharm": {
   "stem_cell": {
    "cell_type": "raw",
    "source": [],
    "metadata": {
     "collapsed": false
    }
   }
  }
 },
 "nbformat": 4,
 "nbformat_minor": 0
}