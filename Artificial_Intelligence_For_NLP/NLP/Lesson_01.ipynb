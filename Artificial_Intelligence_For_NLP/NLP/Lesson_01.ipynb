{
 "cells": [
  {
   "cell_type": "markdown",
   "metadata": {
    "collapsed": true,
    "pycharm": {
     "name": "#%% md\n"
    }
   },
   "source": [
    "# 项目背景\n",
    "* 随着每天涌入的新闻信息越来越多，获得不同任务对于不同事件的观点，获得重要人物每天对于不同事项的观点描述，这个功能对于新闻阅读、观点总结能够起到很大的辅助作用。\n",
    "* 例如，我们现在如果有一款新闻阅读的 app，我们能够把文中的每个人的核心观点整理出来，总结成表格，那么对于读者来说，就容易看清楚多了。"
   ]
  },
  {
   "cell_type": "markdown",
   "source": [
    "1. 毕业之前，那么可以在把任务的言论提取出来以后，进一步做成“知识图谱”，“人物观点图谱”等偏向学术类的应用；\n",
    "\n",
    "2. 找工作时，那么可以把任务的言论提取出来之后，加上我们项目2的情感分类，对言论进行极性分析，变成一个能够依据网络信息，获得群众对该时间的危机预警应用。\n",
    "\n",
    "### 这个项目实际被用在哪里？\n",
    "* 被用在新闻app中\n",
    "\n",
    "* 被用在公司内部的事件跟踪中\n",
    "\n",
    "* 被用在商用的舆情监督系统中\n",
    "\n",
    "* 被用在学术研究中"
   ],
   "metadata": {
    "collapsed": false,
    "pycharm": {
     "name": "#%% md\n"
    }
   }
  },
  {
   "cell_type": "markdown",
   "source": [
    "## 我该如何完成？\n",
    "\n",
    "* 这个项目要做成需要综合3大块\n",
    "\n",
    "* * 视图层（使用HTML、Python Web 服务进行网页展示）\n",
    "* * 模型层（构建自然语言处理模型，能够提取出文章中客户的言论）\n",
    "* * 数据层（能够使用数据库操作，对数据库中的信息进行访问） \n",
    "* * 我们需要前后端通吃！！！！！！！！！"
   ],
   "metadata": {
    "collapsed": false,
    "pycharm": {
     "name": "#%% md\n"
    }
   }
  },
  {
   "cell_type": "markdown",
   "source": [
    "### 获得所有表示“说”的意思的单词\n",
    "\n",
    "* 1.使用维基百科+新闻语料库制作的词向量，在基于第一课、第二课讲过的搜索树+第四节课的动态规划，结合第五课所讲的内容，获得出所有与“说”意思相近的单词。\n",
    "\n",
    "* 2.思考： 词向量结合图搜索的时候，每个找到的单词如何赋其权重，这个和广度优先，A*搜索有何不同？\n",
    "\n",
    "* 3.使用NER，Dependency Parsing等对句子形式进行解析，获得是谁说了话，说了什么话。其中 Dependency Parsing 我们有 Stanford 的 CoreNLP 和\n",
    "    哈工大的 LTP，但这两个工具的安装会比较麻烦。\n",
    "    * * [Standford CoreNLP](https://standfordnlp.github.io/CoreNLP/)\n",
    "    * * [哈工大LTP](https://github.com/HIT-SCIR/pyltp)\n",
    "\n",
    "* 4.确定言论的结束\n",
    "    在确定了谁说的，说了什么之后 ，我们要做的就是确定这个话语的结束。\n",
    "    要确定这个话语如何结束，最简单的方式就是碰见句号的时候就停止，但是有的语句可能是跨了多个句子的。那么这个时候我们应该如何确定呢？\n",
    "    这个相对来说就会比较困难，我们可以使用 tfidf 等关键字，或者使用 tfidf 关键字首先获得句子的向量然后使用向量进行对比。获得句子向\n",
    "    量之后，那么我们就可以把判断两句话是不是类似的、说的是不是同一个主题这个问题编变成两个句子的距离是不是小于某个阈值。Tfidf的句\n",
    "    子向量化是一种比较基础的向量化方法，长久以来也是大家用的比较多的方法。但是tfidf并不能分辨不同的单词的语义的相似性，在词向量提\n",
    "    出来以后，有一个比较好的方式解释基于词向量进行句子的向量化。基于词向量获得句子的向量化也是现在研究的一个课题。\n",
    "    在这里给大家推荐一个简单性与高效性并存的方法，其原理就是使用单词的词向量加权 * PCA 降维，这个方法是普林斯顿在2017年提出的一个\n",
    "    方法，很简单，但是效果也不错。\n",
    "    \n",
    "* 5.展示自己的作品\n",
    "    * * 基于以上几步，相信大家已经能够输入一段新闻，获得新闻中每个人说了什么话，最后一步就是我们要能有一个展示自己作品的环境。\n",
    "    * * 大家使用Flask或者Bottle、使用Bootstrap + HTML 构建一个简单的网页，在这个网页中，我们能够提交文本内容，然后会生成表格，表\n",
    "        格里边能够显示这个文章中每个人的观点。\n",
    "    * * 如果你有兴趣，还可以使用 D3 工具，做成网络状的示意图\n",
    "    * * [Bootstrap](https://getbootstrap.com)\n",
    "    * * [Bottle](https://bottlepy.org)\n",
    "    * * [D3](https://d3js.org)\n"
   ],
   "metadata": {
    "collapsed": false
   }
  },
  {
   "cell_type": "markdown",
   "source": [
    "## TF-IDF\n",
    "\n",
    "* Term Frequency - Inverse Document Frequency\n",
    "    * The Simplest approach is to assign the weight to be equal to the number of occurrences of term *t* in document *d*.\n",
    "    ---> *Term Frequency(tf)*\n",
    "    \n",
    "    * It is more commonplace to use *document frequency df* , defined to be the number of documents in the collections that\n",
    "    contain term *t*.\n",
    "    \n",
    "    * Denoting as usual the total number of documents in a collection by *N*, we define the *inverse document frequency(idf)*\n",
    "    of a term t as follow.\n",
    "    \n"
   ],
   "metadata": {
    "collapsed": false
   }
  }
 ],
 "metadata": {
  "kernelspec": {
   "display_name": "Python 3",
   "language": "python",
   "name": "python3"
  },
  "language_info": {
   "codemirror_mode": {
    "name": "ipython",
    "version": 2
   },
   "file_extension": ".py",
   "mimetype": "text/x-python",
   "name": "python",
   "nbconvert_exporter": "python",
   "pygments_lexer": "ipython2",
   "version": "2.7.6"
  },
  "pycharm": {
   "stem_cell": {
    "cell_type": "raw",
    "source": [],
    "metadata": {
     "collapsed": false
    }
   }
  }
 },
 "nbformat": 4,
 "nbformat_minor": 0
}