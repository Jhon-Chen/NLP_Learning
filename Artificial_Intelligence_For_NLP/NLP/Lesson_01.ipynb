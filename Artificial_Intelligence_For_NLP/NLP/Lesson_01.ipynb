{
 "cells": [
  {
   "cell_type": "markdown",
   "metadata": {
    "collapsed": true,
    "pycharm": {
     "name": "#%% md\n"
    }
   },
   "source": [
    "# 项目背景\n",
    "* 随着每天涌入的新闻信息越来越多，获得不同任务对于不同事件的观点，获得重要人物每天对于不同事项的观点描述，这个功能对于新闻阅读、观点总结能够起到很大的辅助作用。\n",
    "* 例如，我们现在如果有一款新闻阅读的 app，我们能够把文中的每个人的核心观点整理出来，总结成表格，那么对于读者来说，就容易看清楚多了。"
   ]
  },
  {
   "cell_type": "markdown",
   "source": [
    "1. 毕业之前，那么可以在把任务的言论提取出来以后，进一步做成“知识图谱”，“人物观点图谱”等偏向学术类的应用；\n",
    "\n",
    "2. 找工作时，那么可以把任务的言论提取出来之后，加上我们项目2的情感分类，对言论进行极性分析，变成一个能够依据网络信息，获得群众对该时间的危机预警应用。\n",
    "\n",
    "### 这个项目实际被用在哪里？\n",
    "* 被用在新闻app中\n",
    "\n",
    "* 被用在公司内部的事件跟踪中\n",
    "\n",
    "* 被用在商用的舆情监督系统中\n",
    "\n",
    "* 被用在学术研究中"
   ],
   "metadata": {
    "collapsed": false,
    "pycharm": {
     "name": "#%% md\n"
    }
   }
  },
  {
   "cell_type": "markdown",
   "source": [
    "## 我该如何完成？\n",
    "\n",
    "* 这个项目要做成需要综合3大块\n",
    "\n",
    "* * 视图层（使用HTML、Python Web 服务进行网页展示）\n",
    "* * 模型层（构建自然语言处理模型，能够提取出文章中客户的言论）\n",
    "* * 数据层（能够使用数据库操作，对数据库中的信息进行访问） \n",
    "* * 我们需要前后端通吃！！！！！！！！！\n"
   ],
   "metadata": {
    "collapsed": false,
    "pycharm": {
     "name": "#%% md\n"
    }
   }
  }
 ],
 "metadata": {
  "kernelspec": {
   "display_name": "Python 3",
   "language": "python",
   "name": "python3"
  },
  "language_info": {
   "codemirror_mode": {
    "name": "ipython",
    "version": 2
   },
   "file_extension": ".py",
   "mimetype": "text/x-python",
   "name": "python",
   "nbconvert_exporter": "python",
   "pygments_lexer": "ipython2",
   "version": "2.7.6"
  },
  "pycharm": {
   "stem_cell": {
    "cell_type": "raw",
    "source": [],
    "metadata": {
     "collapsed": false
    }
   }
  }
 },
 "nbformat": 4,
 "nbformat_minor": 0
}