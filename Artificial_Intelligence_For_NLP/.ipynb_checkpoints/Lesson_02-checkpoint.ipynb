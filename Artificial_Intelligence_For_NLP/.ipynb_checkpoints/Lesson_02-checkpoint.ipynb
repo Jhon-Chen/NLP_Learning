{
 "cells": [
  {
   "cell_type": "markdown",
   "metadata": {
    "collapsed": true,
    "pycharm": {
     "name": "#%% md\n"
    }
   },
   "source": [
    "## Previous Course\n",
    "1. What's the language model? OOV problem?\n",
    "2. Syntax Tree. lambda\n",
    "\n",
    "$$ pr(word) $$\n",
    "\n",
    "## Out of vocabulary(OOV)\n",
    "求一个词的概率，但是这个词没有出现，有很多的解法，如下是一种：\n",
    "\n",
    "`pr(w_0) = constant < pr(w_1)`\n",
    "\n",
    "## Language Model: Smooth"
   ]
  },
  {
   "cell_type": "markdown",
   "metadata": {
    "pycharm": {
     "name": "#%% md\n"
    }
   },
   "source": [
    "## Problem Solving: Search Based\n",
    "1. Map Application\n",
    "2. Decision System\n",
    "3. Expert System\n",
    "\n",
    "*Online Programming*"
   ]
  },
  {
   "cell_type": "markdown",
   "metadata": {
    "pycharm": {
     "name": "#%% md\n"
    }
   },
   "source": [
    "## Search Policy"
   ]
  },
  {
   "cell_type": "code",
   "execution_count": 139,
   "metadata": {
    "pycharm": {
     "is_executing": false,
     "name": "#%%\n"
    }
   },
   "outputs": [],
   "source": [
    "coordination_source = \"\"\"\n",
    "{name:'兰州', geoCoord:[103.73, 36.03]},\n",
    "{name:'嘉峪关', geoCoord:[98.17, 39.47]},\n",
    "{name:'西宁', geoCoord:[101.74, 36.56]},\n",
    "{name:'成都', geoCoord:[104.06, 30.67]},\n",
    "{name:'石家庄', geoCoord:[114.48, 38.03]},\n",
    "{name:'拉萨', geoCoord:[102.73, 25.04]},\n",
    "{name:'贵阳', geoCoord:[106.71, 26.57]},\n",
    "{name:'武汉', geoCoord:[114.31, 30.52]},\n",
    "{name:'郑州', geoCoord:[113.65, 34.76]},\n",
    "{name:'济南', geoCoord:[117, 36.65]},\n",
    "{name:'南京', geoCoord:[118.78, 32.04]},\n",
    "{name:'合肥', geoCoord:[117.27, 31.86]},\n",
    "{name:'杭州', geoCoord:[120.19, 30.26]},\n",
    "{name:'南昌', geoCoord:[115.89, 28.68]},\n",
    "{name:'福州', geoCoord:[119.3, 26.08]},\n",
    "{name:'广州', geoCoord:[113.23, 23.16]},\n",
    "{name:'长沙', geoCoord:[113, 28.21]},\n",
    "//{name:'海口', geoCoord:[110.35, 20.02]},\n",
    "{name:'沈阳', geoCoord:[123.38, 41.8]},\n",
    "{name:'长春', geoCoord:[125.35, 43.88]},\n",
    "{name:'哈尔滨', geoCoord:[126.63, 45.75]},\n",
    "{name:'太原', geoCoord:[112.53, 37.87]},\n",
    "{name:'西安', geoCoord:[108.95, 34.27]},\n",
    "//{name:'台湾', geoCoord:[121.30, 25.03]},\n",
    "{name:'北京', geoCoord:[116.46, 39.92]},\n",
    "{name:'上海', geoCoord:[121.48, 31.22]},\n",
    "{name:'重庆', geoCoord:[106.54, 29.59]},\n",
    "{name:'天津', geoCoord:[117.2, 39.13]},\n",
    "{name:'呼和浩特', geoCoord:[111.65, 40.82]},\n",
    "{name:'南宁', geoCoord:[108.33, 22.84]},\n",
    "//{name:'西藏', geoCoord:[91.11, 29.97]},\n",
    "{name:'银川', geoCoord:[106.27, 38.47]},\n",
    "{name:'乌鲁木齐', geoCoord:[87.68, 43.77]},\n",
    "{name:'香港', geoCoord:[114.17, 22.28]},\n",
    "{name:'澳门', geoCoord:[113.54, 22.19]}\n",
    "\"\"\""
   ]
  },
  {
   "cell_type": "code",
   "execution_count": 140,
   "metadata": {
    "pycharm": {
     "is_executing": false,
     "name": "#%%\n"
    }
   },
   "outputs": [],
   "source": [
    "city_location = {\n",
    "    '香港' : (114.17, 22.28)\n",
    "}"
   ]
  },
  {
   "cell_type": "markdown",
   "metadata": {
    "pycharm": {
     "is_executing": false,
     "name": "#%% md\n"
    }
   },
   "source": [
    "## 要注意正则表达式的使用"
   ]
  },
  {
   "cell_type": "code",
   "execution_count": 141,
   "metadata": {
    "pycharm": {
     "is_executing": false,
     "name": "#%%\n"
    }
   },
   "outputs": [],
   "source": [
    "test_string = \"{name:'兰州', geoCoord:[103.73, 36.03]}\""
   ]
  },
  {
   "cell_type": "code",
   "execution_count": 142,
   "metadata": {
    "pycharm": {
     "is_executing": false,
     "name": "#%%\n"
    }
   },
   "outputs": [],
   "source": [
    "# 导入正则模块\n",
    "import re"
   ]
  },
  {
   "cell_type": "code",
   "execution_count": 143,
   "metadata": {
    "pycharm": {
     "is_executing": false,
     "name": "#%%\n"
    }
   },
   "outputs": [],
   "source": [
    "# 注意这里的[]需要用\\转义\n",
    "pattern = re.compile(r\"name:'(\\w+)',\\s+geoCoord:\\[(\\d+.?\\d+),\\s(\\d+.?\\d+)\\]\")"
   ]
  },
  {
   "cell_type": "code",
   "execution_count": 144,
   "metadata": {
    "pycharm": {
     "is_executing": false,
     "name": "#%%\n"
    }
   },
   "outputs": [],
   "source": [
    "for line in coordination_source.split('\\n'):\n",
    "    city_info = pattern.findall(line)\n",
    "    if not city_info: continue\n",
    "    \n",
    "    # following we find the city info\n",
    "    \n",
    "    city, long, lat = city_info[0]\n",
    "    \n",
    "    # 要注意正则匹配出的结果都是字符串格式 \n",
    "    long, lat = float(long), float(lat)\n",
    "    \n",
    "    city_location[city] = (long, lat)\n"
   ]
  },
  {
   "cell_type": "code",
   "execution_count": 145,
   "metadata": {
    "pycharm": {
     "is_executing": false,
     "name": "#%%\n"
    }
   },
   "outputs": [
    {
     "data": {
      "text/plain": [
       "{'香港': (114.17, 22.28),\n",
       " '兰州': (103.73, 36.03),\n",
       " '嘉峪关': (98.17, 39.47),\n",
       " '西宁': (101.74, 36.56),\n",
       " '成都': (104.06, 30.67),\n",
       " '石家庄': (114.48, 38.03),\n",
       " '拉萨': (102.73, 25.04),\n",
       " '贵阳': (106.71, 26.57),\n",
       " '武汉': (114.31, 30.52),\n",
       " '郑州': (113.65, 34.76),\n",
       " '济南': (117.0, 36.65),\n",
       " '南京': (118.78, 32.04),\n",
       " '合肥': (117.27, 31.86),\n",
       " '杭州': (120.19, 30.26),\n",
       " '南昌': (115.89, 28.68),\n",
       " '福州': (119.3, 26.08),\n",
       " '广州': (113.23, 23.16),\n",
       " '长沙': (113.0, 28.21),\n",
       " '海口': (110.35, 20.02),\n",
       " '沈阳': (123.38, 41.8),\n",
       " '长春': (125.35, 43.88),\n",
       " '哈尔滨': (126.63, 45.75),\n",
       " '太原': (112.53, 37.87),\n",
       " '西安': (108.95, 34.27),\n",
       " '台湾': (121.3, 25.03),\n",
       " '北京': (116.46, 39.92),\n",
       " '上海': (121.48, 31.22),\n",
       " '重庆': (106.54, 29.59),\n",
       " '天津': (117.2, 39.13),\n",
       " '呼和浩特': (111.65, 40.82),\n",
       " '南宁': (108.33, 22.84),\n",
       " '西藏': (91.11, 29.97),\n",
       " '银川': (106.27, 38.47),\n",
       " '乌鲁木齐': (87.68, 43.77),\n",
       " '澳门': (113.54, 22.19)}"
      ]
     },
     "execution_count": 145,
     "metadata": {},
     "output_type": "execute_result"
    }
   ],
   "source": [
    "city_location"
   ]
  },
  {
   "cell_type": "code",
   "execution_count": 146,
   "metadata": {
    "pycharm": {
     "is_executing": false,
     "name": "#%%\n"
    }
   },
   "outputs": [],
   "source": [
    "import math\n",
    "# 导入数学计算模块，以下是通过经纬度计算两城市之间距离的算法，暂无需掌握"
   ]
  },
  {
   "cell_type": "code",
   "execution_count": 147,
   "metadata": {
    "pycharm": {
     "is_executing": false,
     "name": "#%%\n"
    }
   },
   "outputs": [],
   "source": [
    "def geo_distance(origin, destination):\n",
    "    \"\"\"\n",
    "    Calculate the Haversine distance.\n",
    "\n",
    "    Parameters\n",
    "    ----------\n",
    "    origin : tuple of float\n",
    "        (lat, long)\n",
    "    destination : tuple of float\n",
    "        (lat, long)\n",
    "\n",
    "    Returns\n",
    "    -------\n",
    "    distance_in_km : float\n",
    "\n",
    "    Examples\n",
    "    --------\n",
    "    >>> origin = (48.1372, 11.5756)  # Munich\n",
    "    >>> destination = (52.5186, 13.4083)  # Berlin\n",
    "    >>> round(distance(origin, destination), 1)\n",
    "    504.2\n",
    "    \"\"\"\n",
    "    lat1, lon1 = origin\n",
    "    lat2, lon2 = destination\n",
    "    radius = 6371  # km\n",
    "\n",
    "    dlat = math.radians(lat2 - lat1)\n",
    "    dlon = math.radians(lon2 - lon1)\n",
    "    a = (math.sin(dlat / 2) * math.sin(dlat / 2) +\n",
    "         math.cos(math.radians(lat1)) * math.cos(math.radians(lat2)) *\n",
    "         math.sin(dlon / 2) * math.sin(dlon / 2))\n",
    "    c = 2 * math.atan2(math.sqrt(a), math.sqrt(1 - a))\n",
    "    d = radius * c\n",
    "\n",
    "    return d"
   ]
  },
  {
   "cell_type": "code",
   "execution_count": 148,
   "metadata": {
    "pycharm": {
     "is_executing": false,
     "name": "#%%\n"
    }
   },
   "outputs": [],
   "source": [
    "def get_geo_distance(city1, city2):\n",
    "    return geo_distance(city_location[city1], city_location[city2])"
   ]
  },
  {
   "cell_type": "code",
   "execution_count": 149,
   "metadata": {
    "pycharm": {
     "is_executing": false,
     "name": "#%%\n"
    }
   },
   "outputs": [
    {
     "data": {
      "text/plain": [
       "1719.4501542708233"
      ]
     },
     "execution_count": 149,
     "metadata": {},
     "output_type": "execute_result"
    }
   ],
   "source": [
    "get_geo_distance('上海', '银川')"
   ]
  },
  {
   "cell_type": "code",
   "execution_count": 150,
   "metadata": {
    "pycharm": {
     "is_executing": false,
     "name": "#%%\n"
    }
   },
   "outputs": [],
   "source": [
    "import networkx as nx"
   ]
  },
  {
   "cell_type": "code",
   "execution_count": 151,
   "metadata": {
    "pycharm": {
     "is_executing": false,
     "name": "#%%\n"
    }
   },
   "outputs": [],
   "source": [
    "city_graph = nx.Graph()"
   ]
  },
  {
   "cell_type": "code",
   "execution_count": 152,
   "metadata": {
    "pycharm": {
     "is_executing": false,
     "name": "#%%\n"
    }
   },
   "outputs": [],
   "source": [
    "city_graph.add_nodes_from(city_location.keys())"
   ]
  },
  {
   "cell_type": "code",
   "execution_count": 153,
   "metadata": {
    "pycharm": {
     "is_executing": false,
     "name": "#%%\n"
    }
   },
   "outputs": [
    {
     "data": {
      "image/png": "[encoded data removed]",
      "text/plain": [
       "<Figure size 432x288 with 1 Axes>"
      ]
     },
     "metadata": {},
     "output_type": "display_data"
    }
   ],
   "source": [
    "%matplotlib inline\n",
    "\n",
    "nx.draw(city_graph, city_location, with_labels=True, node_size=20)"
   ]
  },
  {
   "cell_type": "code",
   "execution_count": 154,
   "metadata": {
    "pycharm": {
     "is_executing": false,
     "name": "#%%\n"
    }
   },
   "outputs": [],
   "source": [
    "from collections import defaultdict\n",
    "\n",
    "simple_connection_info = {\n",
    "    '北京': ['太原', '沈阳'],\n",
    "    '太原': ['北京', '西安', '郑州'],\n",
    "    '兰州': ['西安'],\n",
    "    '西安': ['兰州', '长沙'],\n",
    "    '长沙': ['福州', '南宁'],\n",
    "    '沈阳': ['北京'],\n",
    "    '郑州': ['太原']\n",
    "}\n",
    "\n",
    "simple_connection_info_bfs = defaultdict(list)\n",
    "simple_connection_info_bfs.update(simple_connection_info)\n"
   ]
  },
  {
   "cell_type": "code",
   "execution_count": 155,
   "metadata": {
    "pycharm": {
     "is_executing": false,
     "name": "#%%\n"
    }
   },
   "outputs": [
    {
     "data": {
      "image/png": "[encoded data removed]",
      "text/plain": [
       "<Figure size 432x288 with 1 Axes>"
      ]
     },
     "metadata": {},
     "output_type": "display_data"
    }
   ],
   "source": [
    "nx.draw(nx.Graph(simple_connection_info), city_location, with_labels=True)"
   ]
  },
  {
   "cell_type": "code",
   "execution_count": 156,
   "metadata": {
    "pycharm": {
     "is_executing": false,
     "name": "#%%\n"
    }
   },
   "outputs": [],
   "source": [
    "def search(start, destination, connection_graph):\n",
    "    \"\"\"connection_graph: 以字典方式储存的图的邻接表？(存储了以上的simple_connection_info这种信息)\"\"\"\n",
    "    pathes = [[start]]\n",
    "    \n",
    "    visited = set()\n",
    "    while pathes: # if we find existing pathes\n",
    "        path = pathes.pop(0)\n",
    "        froninter = path[-1]\n",
    "        \n",
    "        if froninter in visited: continue\n",
    "        successors = connection_graph[froninter]\n",
    "        \n",
    "        for city in successors:\n",
    "            if city in path: continue # eliminate loop\n",
    "            new_path = path + [city] \n",
    "            pathes.append(new_path)\n",
    "            \n",
    "            if city == destination: return new_path\n",
    "            \n",
    "        visited.add(froninter)"
   ]
  },
  {
   "cell_type": "code",
   "execution_count": 157,
   "metadata": {
    "pycharm": {
     "is_executing": false,
     "name": "#%%\n"
    }
   },
   "outputs": [
    {
     "data": {
      "text/plain": [
       "['兰州', '西安', '长沙', '福州']"
      ]
     },
     "execution_count": 157,
     "metadata": {},
     "output_type": "execute_result"
    }
   ],
   "source": [
    "search('兰州', '福州', simple_connection_info)"
   ]
  },
  {
   "cell_type": "markdown",
   "metadata": {},
   "source": [
    "## 注意，要回顾数据结构的图的BFS和DFS搜索算法原理"
   ]
  },
  {
   "cell_type": "code",
   "execution_count": 158,
   "metadata": {
    "pycharm": {
     "is_executing": false,
     "name": "#%%\n"
    }
   },
   "outputs": [],
   "source": [
    "def pretty_print(cities):\n",
    "    print('-汽车--->'.join(cities))"
   ]
  },
  {
   "cell_type": "code",
   "execution_count": 159,
   "metadata": {
    "pycharm": {
     "is_executing": false,
     "name": "#%%\n"
    }
   },
   "outputs": [
    {
     "name": "stdout",
     "output_type": "stream",
     "text": [
      "兰州-汽车--->西安-汽车--->长沙-汽车--->福州\n"
     ]
    }
   ],
   "source": [
    "pretty_print(search('兰州', '福州', simple_connection_info))"
   ]
  },
  {
   "cell_type": "code",
   "execution_count": 160,
   "metadata": {
    "pycharm": {
     "is_executing": false,
     "name": "#%% \n"
    }
   },
   "outputs": [],
   "source": [
    "def bfs(graph, start):\n",
    "    \"\"\"breadth-first-search\"\"\"\n",
    "    visited = [start]\n",
    "    seen = set()\n",
    "    while visited:\n",
    "        froninter = visited.pop()\n",
    "        if froninter in seen: continue\n",
    "        for successor in graph[froninter]:\n",
    "            print(successor)\n",
    "            visited.append(successor)\n",
    "        seen.add(froninter)\n",
    "    return seen\n",
    "        "
   ]
  },
  {
   "cell_type": "code",
   "execution_count": 161,
   "metadata": {
    "pycharm": {
     "is_executing": false,
     "name": "#%%\n"
    }
   },
   "outputs": [
    {
     "name": "stdout",
     "output_type": "stream",
     "text": [
      "太原\n",
      "沈阳\n",
      "北京\n",
      "北京\n",
      "西安\n",
      "郑州\n",
      "太原\n",
      "兰州\n",
      "长沙\n",
      "福州\n",
      "南宁\n",
      "西安\n"
     ]
    },
    {
     "data": {
      "text/plain": [
       "{'兰州', '北京', '南宁', '太原', '沈阳', '福州', '西安', '郑州', '长沙'}"
      ]
     },
     "execution_count": 161,
     "metadata": {},
     "output_type": "execute_result"
    }
   ],
   "source": [
    "bfs(simple_connection_info_bfs, '北京')"
   ]
  },
  {
   "cell_type": "code",
   "execution_count": 162,
   "metadata": {
    "pycharm": {
     "is_executing": false,
     "name": "#%%\n"
    }
   },
   "outputs": [],
   "source": [
    "def dfs(graph, start):\n",
    "    \"\"\"depth-first-search\"\"\"\n",
    "    visited = [start]\n",
    "    seen = set()\n",
    "    while visited:\n",
    "        froninter = visited.pop()\n",
    "        if froninter in seen: continue\n",
    "        for successor in graph[froninter]:\n",
    "            print(successor)\n",
    "            # visited.append(successor)\n",
    "            \n",
    "            visited = [successor] + visited\n",
    "            \n",
    "        seen.add(froninter)\n",
    "    return seen                    \n",
    "                    "
   ]
  },
  {
   "cell_type": "markdown",
   "metadata": {
    "pycharm": {
     "name": "#%% md\n"
    }
   },
   "source": [
    "### 网络爬虫 + 正则"
   ]
  },
  {
   "cell_type": "code",
   "execution_count": 163,
   "metadata": {
    "pycharm": {
     "is_executing": false,
     "name": "#%%\n"
    }
   },
   "outputs": [],
   "source": [
    "import requests\n",
    "\n",
    "url = 'https://movie.douban.com/subject/26931786/?from=showing'\n",
    "response = requests.get(url)\n",
    "\n",
    "what_we_want = r'<a href=\"https://(movie\\.douban\\.com/subject/\\d+/\\?from=subject-page)\" class=\"\" '\n",
    "\n",
    "pattern = re.compile(what_we_want)\n",
    "\n",
    "likes = pattern.findall(response.text)\n",
    "\n",
    "for like in likes:\n",
    "    print(like)"
   ]
  },
  {
   "cell_type": "markdown",
   "metadata": {
    "pycharm": {
     "name": "#%% md\n"
    }
   },
   "source": [
    "## Machine Learning"
   ]
  },
  {
   "cell_type": "code",
   "execution_count": 164,
   "metadata": {
    "pycharm": {
     "is_executing": false,
     "name": "#%%\n"
    }
   },
   "outputs": [],
   "source": [
    "from sklearn.datasets import load_boston\n",
    "\n",
    "data = load_boston()"
   ]
  },
  {
   "cell_type": "code",
   "execution_count": 165,
   "metadata": {
    "pycharm": {
     "is_executing": false,
     "name": "#%%\n"
    }
   },
   "outputs": [],
   "source": [
    "x, y = data['data'], data['target']"
   ]
  },
  {
   "cell_type": "code",
   "execution_count": 166,
   "metadata": {
    "pycharm": {
     "is_executing": false,
     "name": "#%%\n"
    }
   },
   "outputs": [
    {
     "data": {
      "text/plain": [
       "array([2.7310e-02, 0.0000e+00, 7.0700e+00, 0.0000e+00, 4.6900e-01,\n",
       "       6.4210e+00, 7.8900e+01, 4.9671e+00, 2.0000e+00, 2.4200e+02,\n",
       "       1.7800e+01, 3.9690e+02, 9.1400e+00])"
      ]
     },
     "execution_count": 166,
     "metadata": {},
     "output_type": "execute_result"
    }
   ],
   "source": [
    "x[1]"
   ]
  },
  {
   "cell_type": "code",
   "execution_count": 167,
   "metadata": {
    "pycharm": {
     "is_executing": false,
     "name": "#%%\n"
    }
   },
   "outputs": [
    {
     "data": {
      "text/plain": [
       "21.6"
      ]
     },
     "execution_count": 167,
     "metadata": {},
     "output_type": "execute_result"
    }
   ],
   "source": [
    "y[1]"
   ]
  },
  {
   "cell_type": "code",
   "execution_count": 168,
   "metadata": {
    "pycharm": {
     "is_executing": false,
     "name": "#%%\n"
    }
   },
   "outputs": [
    {
     "data": {
      "text/plain": [
       "506"
      ]
     },
     "execution_count": 168,
     "metadata": {},
     "output_type": "execute_result"
    }
   ],
   "source": [
    "len(x[:, 0])"
   ]
  },
  {
   "cell_type": "code",
   "execution_count": 169,
   "metadata": {
    "pycharm": {
     "is_executing": false,
     "name": "#%%\n"
    }
   },
   "outputs": [
    {
     "data": {
      "text/plain": [
       "506"
      ]
     },
     "execution_count": 169,
     "metadata": {},
     "output_type": "execute_result"
    }
   ],
   "source": [
    "len(y)"
   ]
  },
  {
   "cell_type": "code",
   "execution_count": 170,
   "metadata": {
    "pycharm": {
     "is_executing": false,
     "name": "#%%\n"
    }
   },
   "outputs": [],
   "source": [
    "%matplotlib inline\n",
    "\n",
    "import matplotlib.pyplot as plt"
   ]
  },
  {
   "cell_type": "code",
   "execution_count": 171,
   "metadata": {
    "pycharm": {
     "is_executing": false,
     "name": "#%%\n"
    }
   },
   "outputs": [],
   "source": [
    "def draw_rm_and_price():\n",
    "    plt.scatter(x[:, 5], y)"
   ]
  },
  {
   "cell_type": "code",
   "execution_count": 172,
   "metadata": {
    "pycharm": {
     "is_executing": false,
     "name": "#%%\n"
    }
   },
   "outputs": [
    {
     "data": {
      "image/png": "[encoded data removed]",
      "text/plain": [
       "<Figure size 432x288 with 1 Axes>"
      ]
     },
     "metadata": {
      "needs_background": "light"
     },
     "output_type": "display_data"
    }
   ],
   "source": [
    "draw_rm_and_price()"
   ]
  },
  {
   "cell_type": "code",
   "execution_count": 173,
   "metadata": {
    "pycharm": {
     "is_executing": false,
     "name": "#%%\n"
    }
   },
   "outputs": [],
   "source": [
    "import random"
   ]
  },
  {
   "cell_type": "code",
   "execution_count": 174,
   "metadata": {
    "pycharm": {
     "is_executing": false,
     "name": "#%%\n"
    }
   },
   "outputs": [],
   "source": [
    "def price(rm, k, b):\n",
    "    \"\"\"f(x) = kx + b\"\"\"\n",
    "    return k * rm + b"
   ]
  },
  {
   "cell_type": "code",
   "execution_count": 175,
   "metadata": {
    "pycharm": {
     "is_executing": false,
     "name": "#%%\n"
    }
   },
   "outputs": [],
   "source": [
    "k = random.randint(-100, 100)\n",
    "b = random.randint(-100, 100)\n",
    "x_rm = x[:, 5]"
   ]
  },
  {
   "cell_type": "code",
   "execution_count": 176,
   "metadata": {
    "pycharm": {
     "is_executing": false,
     "name": "#%%\n"
    }
   },
   "outputs": [],
   "source": [
    "price_by_random_k_and_b = [price(r, k, b) for r in x_rm]"
   ]
  },
  {
   "cell_type": "code",
   "execution_count": 177,
   "metadata": {
    "pycharm": {
     "is_executing": false,
     "name": "#%%\n"
    }
   },
   "outputs": [
    {
     "data": {
      "text/plain": [
       "<matplotlib.collections.PathCollection at 0x1b72a504ba8>"
      ]
     },
     "execution_count": 177,
     "metadata": {},
     "output_type": "execute_result"
    },
    {
     "data": {
      "image/png": "[encoded data removed]",
      "text/plain": [
       "<Figure size 432x288 with 1 Axes>"
      ]
     },
     "metadata": {
      "needs_background": "light"
     },
     "output_type": "display_data"
    }
   ],
   "source": [
    "plt.scatter(x_rm, price_by_random_k_and_b)"
   ]
  },
  {
   "cell_type": "code",
   "execution_count": 178,
   "metadata": {
    "pycharm": {
     "is_executing": false,
     "name": "#%%\n"
    }
   },
   "outputs": [],
   "source": [
    "def loss(y, y_hat):  # to evaluate the performance\n",
    "     return sum((y_i - y_hat_i)**2 for y_i, y_hat_i in zip(list(y), list(y_hat)))\n",
    "    "
   ]
  },
  {
   "cell_type": "code",
   "execution_count": 179,
   "metadata": {
    "pycharm": {
     "is_executing": false,
     "name": "#%%\n"
    }
   },
   "outputs": [
    {
     "data": {
      "text/plain": [
       "6"
      ]
     },
     "execution_count": 179,
     "metadata": {},
     "output_type": "execute_result"
    }
   ],
   "source": [
    "loss([1, 1, 1], [2, 2, 3])"
   ]
  },
  {
   "cell_type": "markdown",
   "metadata": {
    "pycharm": {
     "name": "#%% md\n"
    }
   },
   "source": [
    "$$ loss = \\frac{1}{n} \\sum{(y_i - \\hat{y_i})} $$\n"
   ]
  },
  {
   "cell_type": "markdown",
   "metadata": {
    "pycharm": {
     "is_executing": false,
     "name": "#%% md\n"
    }
   },
   "source": [
    "First-Method: Random generation: get best k and best"
   ]
  },
  {
   "cell_type": "code",
   "execution_count": 180,
   "metadata": {
    "pycharm": {
     "is_executing": false,
     "name": "#%%\n"
    }
   },
   "outputs": [
    {
     "name": "stdout",
     "output_type": "stream",
     "text": [
      "Get best_k: -8 best_b: 48, and the loss is : 406437.06940800056\n",
      "Get best_k: 18 best_b: -72, and the loss is : 216678.97842799997\n",
      "Get best_k: 8 best_b: -12, and the loss is : 147792.9862079999\n",
      "Get best_k: 6 best_b: -20, and the loss is : 36240.94569199997\n",
      "Get best_k: 3 best_b: 6, and the loss is : 34070.958622999984\n",
      "Get best_k: 8 best_b: -26, and the loss is : 23904.186207999985\n",
      "Get best_k: 9 best_b: -35, and the loss is : 22541.651207\n"
     ]
    }
   ],
   "source": [
    "try_times = 100\n",
    "\n",
    "min_loss = float('inf')\n",
    "best_k, best_b = None, None\n",
    "\n",
    "for i in range(10000):\n",
    "    k = random.randint(-100, 100)\n",
    "    b = random.randint(-100, 100)\n",
    "    price_by_random_k_and_b = [price(r, k, b) for r in x_rm]\n",
    "    \n",
    "    current_loss = loss(y, price_by_random_k_and_b)\n",
    "    \n",
    "    if current_loss < min_loss:\n",
    "        min_loss = current_loss\n",
    "        best_k, best_b = k, b\n",
    "        print('Get best_k: {} best_b: {}, and the loss is : {}'.format(best_k, best_b, min_loss))"
   ]
  },
  {
   "cell_type": "markdown",
   "metadata": {
    "pycharm": {
     "is_executing": false,
     "name": "#%% md\n"
    }
   },
   "source": [
    "## 2nd-Method: Direction Adjusting"
   ]
  },
  {
   "cell_type": "code",
   "execution_count": 184,
   "metadata": {
    "pycharm": {
     "is_executing": false,
     "name": "#%%\n"
    }
   },
   "outputs": [
    {
     "name": "stdout",
     "output_type": "stream",
     "text": [
      "When time is : 0, get best_k: -47.999555544390425  best_b: -63.084421351124426 , and the loss is : 76726534.95722643\n",
      "When time is : 1, get best_k: -47.899555544390424  best_b: -62.984421351124425 , and the loss is : 76438456.3755277\n",
      "When time is : 2, get best_k: -47.79955554439042  best_b: -62.88442135112442 , and the loss is : 76150919.80679388\n",
      "When time is : 3, get best_k: -47.69955554439042  best_b: -62.78442135112442 , and the loss is : 75863925.25102492\n",
      "When time is : 4, get best_k: -47.59955554439042  best_b: -62.68442135112442 , and the loss is : 75577472.70822093\n",
      "When time is : 5, get best_k: -47.49955554439042  best_b: -62.58442135112442 , and the loss is : 75291562.17838208\n",
      "When time is : 6, get best_k: -47.39955554439042  best_b: -62.48442135112442 , and the loss is : 75006193.66150798\n",
      "When time is : 7, get best_k: -47.299555544390415  best_b: -62.384421351124416 , and the loss is : 74721367.15759887\n",
      "When time is : 8, get best_k: -47.199555544390414  best_b: -62.284421351124415 , and the loss is : 74437082.66665456\n",
      "When time is : 9, get best_k: -47.09955554439041  best_b: -62.18442135112441 , and the loss is : 74153340.18867536\n",
      "When time is : 10, get best_k: -46.99955554439041  best_b: -62.08442135112441 , and the loss is : 73870139.72366107\n",
      "When time is : 11, get best_k: -46.89955554439041  best_b: -61.98442135112441 , and the loss is : 73587481.27161165\n",
      "When time is : 12, get best_k: -46.79955554439041  best_b: -61.88442135112441 , and the loss is : 73305364.83252732\n",
      "When time is : 13, get best_k: -46.69955554439041  best_b: -61.78442135112441 , and the loss is : 73023790.40640779\n",
      "When time is : 14, get best_k: -46.599555544390405  best_b: -61.684421351124406 , and the loss is : 72742757.99325335\n",
      "When time is : 15, get best_k: -46.499555544390404  best_b: -61.584421351124405 , and the loss is : 72462267.59306377\n",
      "When time is : 16, get best_k: -46.3995555443904  best_b: -61.4844213511244 , and the loss is : 72182319.20583902\n",
      "When time is : 17, get best_k: -46.2995555443904  best_b: -61.3844213511244 , and the loss is : 71902912.8315793\n",
      "When time is : 18, get best_k: -46.1995555443904  best_b: -61.2844213511244 , and the loss is : 71624048.47028463\n",
      "When time is : 19, get best_k: -46.0995555443904  best_b: -61.1844213511244 , and the loss is : 71345726.12195468\n",
      "When time is : 20, get best_k: -45.9995555443904  best_b: -61.0844213511244 , and the loss is : 71067945.78658985\n",
      "When time is : 21, get best_k: -45.899555544390395  best_b: -60.984421351124396 , and the loss is : 70790707.46418989\n",
      "When time is : 22, get best_k: -45.799555544390394  best_b: -60.884421351124395 , and the loss is : 70514011.15475488\n",
      "When time is : 23, get best_k: -45.69955554439039  best_b: -60.784421351124394 , and the loss is : 70237856.8582848\n",
      "When time is : 24, get best_k: -45.59955554439039  best_b: -60.68442135112439 , and the loss is : 69962244.57477961\n",
      "When time is : 25, get best_k: -45.49955554439039  best_b: -60.58442135112439 , and the loss is : 69687174.30423938\n",
      "When time is : 26, get best_k: -45.39955554439039  best_b: -60.48442135112439 , and the loss is : 69412646.04666415\n",
      "When time is : 27, get best_k: -45.29955554439039  best_b: -60.38442135112439 , and the loss is : 69138659.80205381\n",
      "When time is : 28, get best_k: -45.199555544390385  best_b: -60.28442135112439 , and the loss is : 68865215.5704084\n",
      "When time is : 29, get best_k: -45.099555544390384  best_b: -60.184421351124385 , and the loss is : 68592313.35172804\n",
      "When time is : 30, get best_k: -44.99955554439038  best_b: -60.084421351124384 , and the loss is : 68319953.14601246\n",
      "When time is : 31, get best_k: -44.89955554439038  best_b: -59.98442135112438 , and the loss is : 68048134.95326188\n",
      "When time is : 32, get best_k: -44.79955554439038  best_b: -59.88442135112438 , and the loss is : 67776858.77347638\n",
      "When time is : 33, get best_k: -44.69955554439038  best_b: -59.78442135112438 , and the loss is : 67506124.60665561\n",
      "When time is : 34, get best_k: -44.59955554439038  best_b: -59.68442135112438 , and the loss is : 67235932.45279987\n",
      "When time is : 35, get best_k: -44.499555544390375  best_b: -59.58442135112438 , and the loss is : 66966282.31190908\n",
      "When time is : 36, get best_k: -44.399555544390374  best_b: -59.484421351124375 , and the loss is : 66697174.18398324\n",
      "When time is : 37, get best_k: -44.29955554439037  best_b: -59.384421351124374 , and the loss is : 66428608.06902236\n",
      "When time is : 38, get best_k: -44.19955554439037  best_b: -59.28442135112437 , and the loss is : 66160583.96702638\n",
      "When time is : 39, get best_k: -44.09955554439037  best_b: -59.18442135112437 , and the loss is : 65893101.87799535\n",
      "When time is : 40, get best_k: -43.99955554439037  best_b: -59.08442135112437 , and the loss is : 65626161.801929176\n",
      "When time is : 41, get best_k: -43.89955554439037  best_b: -58.98442135112437 , and the loss is : 65359763.73882806\n",
      "When time is : 42, get best_k: -43.799555544390365  best_b: -58.88442135112437 , and the loss is : 65093907.68869188\n",
      "When time is : 43, get best_k: -43.699555544390364  best_b: -58.784421351124365 , and the loss is : 64828593.65152058\n",
      "When time is : 44, get best_k: -43.59955554439036  best_b: -58.684421351124364 , and the loss is : 64563821.627314195\n",
      "When time is : 45, get best_k: -43.49955554439036  best_b: -58.58442135112436 , and the loss is : 64299591.61607286\n",
      "When time is : 46, get best_k: -43.39955554439036  best_b: -58.48442135112436 , and the loss is : 64035903.61779632\n",
      "When time is : 47, get best_k: -43.29955554439036  best_b: -58.38442135112436 , and the loss is : 63772757.63248488\n",
      "When time is : 48, get best_k: -43.19955554439036  best_b: -58.28442135112436 , and the loss is : 63510153.66013827\n",
      "When time is : 49, get best_k: -43.099555544390356  best_b: -58.18442135112436 , and the loss is : 63248091.70075663\n",
      "When time is : 50, get best_k: -42.999555544390354  best_b: -58.084421351124355 , and the loss is : 62986571.75433996\n",
      "When time is : 51, get best_k: -42.89955554439035  best_b: -57.984421351124354 , and the loss is : 62725593.820888184\n",
      "When time is : 52, get best_k: -42.79955554439035  best_b: -57.88442135112435 , and the loss is : 62465157.900401324\n",
      "When time is : 53, get best_k: -42.69955554439035  best_b: -57.78442135112435 , and the loss is : 62205263.992879495\n",
      "When time is : 54, get best_k: -42.59955554439035  best_b: -57.68442135112435 , and the loss is : 61945912.098322496\n",
      "When time is : 55, get best_k: -42.49955554439035  best_b: -57.58442135112435 , and the loss is : 61687102.21673049\n",
      "When time is : 56, get best_k: -42.399555544390346  best_b: -57.48442135112435 , and the loss is : 61428834.34810349\n",
      "When time is : 57, get best_k: -42.299555544390344  best_b: -57.384421351124345 , and the loss is : 61171108.49244135\n",
      "When time is : 58, get best_k: -42.19955554439034  best_b: -57.284421351124344 , and the loss is : 60913924.649744116\n",
      "When time is : 59, get best_k: -42.09955554439034  best_b: -57.18442135112434 , and the loss is : 60657282.820011936\n",
      "When time is : 60, get best_k: -41.99955554439034  best_b: -57.08442135112434 , and the loss is : 60401183.00324469\n",
      "When time is : 61, get best_k: -41.89955554439034  best_b: -56.98442135112434 , and the loss is : 60145625.19944229\n",
      "When time is : 62, get best_k: -41.79955554439034  best_b: -56.88442135112434 , and the loss is : 59890609.40860484\n",
      "When time is : 63, get best_k: -41.699555544390336  best_b: -56.78442135112434 , and the loss is : 59636135.63073236\n",
      "When time is : 64, get best_k: -41.599555544390334  best_b: -56.684421351124335 , and the loss is : 59382203.86582489\n",
      "When time is : 65, get best_k: -41.49955554439033  best_b: -56.584421351124334 , and the loss is : 59128814.1138822\n",
      "When time is : 66, get best_k: -41.39955554439033  best_b: -56.48442135112433 , and the loss is : 58875966.37490453\n",
      "When time is : 67, get best_k: -41.29955554439033  best_b: -56.38442135112433 , and the loss is : 58623660.648891814\n",
      "When time is : 68, get best_k: -41.19955554439033  best_b: -56.28442135112433 , and the loss is : 58371896.935844034\n",
      "When time is : 69, get best_k: -41.09955554439033  best_b: -56.18442135112433 , and the loss is : 58120675.235761255\n",
      "When time is : 70, get best_k: -40.999555544390326  best_b: -56.08442135112433 , and the loss is : 57869995.54864335\n",
      "When time is : 71, get best_k: -40.899555544390324  best_b: -55.984421351124325 , and the loss is : 57619857.87449039\n",
      "When time is : 72, get best_k: -40.79955554439032  best_b: -55.884421351124324 , and the loss is : 57370262.21330238\n",
      "When time is : 73, get best_k: -40.69955554439032  best_b: -55.78442135112432 , and the loss is : 57121208.56507928\n",
      "When time is : 74, get best_k: -40.59955554439032  best_b: -55.68442135112432 , and the loss is : 56872696.929821126\n",
      "When time is : 75, get best_k: -40.49955554439032  best_b: -55.58442135112432 , and the loss is : 56624727.30752788\n",
      "When time is : 76, get best_k: -40.39955554439032  best_b: -55.48442135112432 , and the loss is : 56377299.6981997\n",
      "When time is : 77, get best_k: -40.299555544390316  best_b: -55.38442135112432 , and the loss is : 56130414.101836376\n",
      "When time is : 78, get best_k: -40.199555544390314  best_b: -55.284421351124315 , and the loss is : 55884070.51843798\n",
      "When time is : 79, get best_k: -40.09955554439031  best_b: -55.184421351124314 , and the loss is : 55638268.94800453\n",
      "When time is : 80, get best_k: -39.99955554439031  best_b: -55.08442135112431 , and the loss is : 55393009.39053601\n",
      "When time is : 81, get best_k: -39.89955554439031  best_b: -54.98442135112431 , and the loss is : 55148291.84603246\n",
      "When time is : 82, get best_k: -39.79955554439031  best_b: -54.88442135112431 , and the loss is : 54904116.31449385\n",
      "When time is : 83, get best_k: -39.69955554439031  best_b: -54.78442135112431 , and the loss is : 54660482.79592017\n",
      "When time is : 84, get best_k: -39.599555544390306  best_b: -54.68442135112431 , and the loss is : 54417391.29031146\n",
      "When time is : 85, get best_k: -39.499555544390304  best_b: -54.584421351124305 , and the loss is : 54174841.7976676\n",
      "When time is : 86, get best_k: -39.3995555443903  best_b: -54.484421351124304 , and the loss is : 53932834.317988805\n",
      "When time is : 87, get best_k: -39.2995555443903  best_b: -54.3844213511243 , and the loss is : 53691368.851274885\n",
      "When time is : 88, get best_k: -39.1995555443903  best_b: -54.2844213511243 , and the loss is : 53450445.3975259\n",
      "When time is : 89, get best_k: -39.0995555443903  best_b: -54.1844213511243 , and the loss is : 53210063.956741855\n",
      "When time is : 90, get best_k: -38.9995555443903  best_b: -54.0844213511243 , and the loss is : 52970224.52892276\n",
      "When time is : 91, get best_k: -38.899555544390296  best_b: -53.9844213511243 , and the loss is : 52730927.11406855\n",
      "When time is : 92, get best_k: -38.799555544390294  best_b: -53.884421351124296 , and the loss is : 52492171.71217935\n",
      "When time is : 93, get best_k: -38.69955554439029  best_b: -53.784421351124294 , and the loss is : 52253958.32325503\n",
      "When time is : 94, get best_k: -38.59955554439029  best_b: -53.68442135112429 , and the loss is : 52016286.947295785\n",
      "When time is : 95, get best_k: -38.49955554439029  best_b: -53.58442135112429 , and the loss is : 51779157.5843014\n",
      "When time is : 96, get best_k: -38.39955554439029  best_b: -53.48442135112429 , and the loss is : 51542570.23427189\n",
      "When time is : 97, get best_k: -38.29955554439029  best_b: -53.38442135112429 , and the loss is : 51306524.897207364\n",
      "When time is : 98, get best_k: -38.199555544390286  best_b: -53.28442135112429 , and the loss is : 51071021.57310776\n",
      "When time is : 99, get best_k: -38.099555544390284  best_b: -53.184421351124286 , and the loss is : 50836060.26197315\n",
      "When time is : 100, get best_k: -37.99955554439028  best_b: -53.084421351124284 , and the loss is : 50601640.963803455\n",
      "When time is : 101, get best_k: -37.89955554439028  best_b: -52.98442135112428 , and the loss is : 50367763.67859866\n",
      "When time is : 102, get best_k: -37.79955554439028  best_b: -52.88442135112428 , and the loss is : 50134428.40635891\n",
      "When time is : 103, get best_k: -37.69955554439028  best_b: -52.78442135112428 , and the loss is : 49901635.14708403\n",
      "When time is : 104, get best_k: -37.59955554439028  best_b: -52.68442135112428 , and the loss is : 49669383.900774084\n",
      "When time is : 105, get best_k: -37.499555544390276  best_b: -52.58442135112428 , and the loss is : 49437674.66742905\n",
      "When time is : 106, get best_k: -37.399555544390275  best_b: -52.484421351124276 , and the loss is : 49206507.447049044\n",
      "When time is : 107, get best_k: -37.29955554439027  best_b: -52.384421351124274 , and the loss is : 48975882.23963388\n",
      "When time is : 108, get best_k: -37.19955554439027  best_b: -52.28442135112427 , and the loss is : 48745799.04518365\n",
      "When time is : 109, get best_k: -37.09955554439027  best_b: -52.18442135112427 , and the loss is : 48516257.863698475\n",
      "When time is : 110, get best_k: -36.99955554439027  best_b: -52.08442135112427 , and the loss is : 48287258.69517818\n",
      "When time is : 111, get best_k: -36.89955554439027  best_b: -51.98442135112427 , and the loss is : 48058801.53962283\n",
      "When time is : 112, get best_k: -36.799555544390266  best_b: -51.88442135112427 , and the loss is : 47830886.3970324\n",
      "When time is : 113, get best_k: -36.699555544390265  best_b: -51.784421351124266 , and the loss is : 47603513.26740695\n",
      "When time is : 114, get best_k: -36.59955554439026  best_b: -51.684421351124264 , and the loss is : 47376682.15074641\n",
      "When time is : 115, get best_k: -36.49955554439026  best_b: -51.58442135112426 , and the loss is : 47150393.047050804\n",
      "When time is : 116, get best_k: -36.39955554439026  best_b: -51.48442135112426 , and the loss is : 46924645.956320114\n",
      "When time is : 117, get best_k: -36.29955554439026  best_b: -51.38442135112426 , and the loss is : 46699440.87855444\n",
      "When time is : 118, get best_k: -36.19955554439026  best_b: -51.28442135112426 , and the loss is : 46474777.81375364\n",
      "When time is : 119, get best_k: -36.099555544390256  best_b: -51.18442135112426 , and the loss is : 46250656.76191777\n",
      "When time is : 120, get best_k: -35.999555544390255  best_b: -51.084421351124256 , and the loss is : 46027077.72304692\n",
      "When time is : 121, get best_k: -35.89955554439025  best_b: -50.984421351124254 , and the loss is : 45804040.69714095\n",
      "When time is : 122, get best_k: -35.79955554439025  best_b: -50.88442135112425 , and the loss is : 45581545.68419994\n",
      "When time is : 123, get best_k: -35.69955554439025  best_b: -50.78442135112425 , and the loss is : 45359592.68422386\n",
      "When time is : 124, get best_k: -35.59955554439025  best_b: -50.68442135112425 , and the loss is : 45138181.69721266\n",
      "When time is : 125, get best_k: -35.49955554439025  best_b: -50.58442135112425 , and the loss is : 44917312.72316653\n",
      "When time is : 126, get best_k: -35.399555544390246  best_b: -50.48442135112425 , and the loss is : 44696985.76208528\n",
      "When time is : 127, get best_k: -35.299555544390245  best_b: -50.384421351124246 , and the loss is : 44477200.81396895\n",
      "When time is : 128, get best_k: -35.19955554439024  best_b: -50.284421351124244 , and the loss is : 44257957.878817536\n",
      "When time is : 129, get best_k: -35.09955554439024  best_b: -50.18442135112424 , and the loss is : 44039256.95663111\n",
      "When time is : 130, get best_k: -34.99955554439024  best_b: -50.08442135112424 , and the loss is : 43821098.047409624\n",
      "When time is : 131, get best_k: -34.89955554439024  best_b: -49.98442135112424 , and the loss is : 43603481.151152976\n",
      "When time is : 132, get best_k: -34.79955554439024  best_b: -49.88442135112424 , and the loss is : 43386406.267861485\n",
      "When time is : 133, get best_k: -34.699555544390236  best_b: -49.78442135112424 , and the loss is : 43169873.397534736\n",
      "When time is : 134, get best_k: -34.599555544390235  best_b: -49.684421351124236 , and the loss is : 42953882.54017306\n",
      "When time is : 135, get best_k: -34.49955554439023  best_b: -49.584421351124234 , and the loss is : 42738433.69577627\n",
      "When time is : 136, get best_k: -34.39955554439023  best_b: -49.48442135112423 , and the loss is : 42523526.86434436\n",
      "When time is : 137, get best_k: -34.29955554439023  best_b: -49.38442135112423 , and the loss is : 42309162.045877464\n",
      "When time is : 138, get best_k: -34.19955554439023  best_b: -49.28442135112423 , and the loss is : 42095339.24037548\n",
      "When time is : 139, get best_k: -34.09955554439023  best_b: -49.18442135112423 , and the loss is : 41882058.44783845\n",
      "When time is : 140, get best_k: -33.999555544390226  best_b: -49.08442135112423 , and the loss is : 41669319.6682663\n",
      "When time is : 141, get best_k: -33.899555544390225  best_b: -48.984421351124226 , and the loss is : 41457122.901659176\n",
      "When time is : 142, get best_k: -33.79955554439022  best_b: -48.884421351124224 , and the loss is : 41245468.14801696\n",
      "When time is : 143, get best_k: -33.69955554439022  best_b: -48.78442135112422 , and the loss is : 41034355.40733972\n",
      "When time is : 144, get best_k: -33.59955554439022  best_b: -48.68442135112422 , and the loss is : 40823784.67962733\n",
      "When time is : 145, get best_k: -33.49955554439022  best_b: -48.58442135112422 , and the loss is : 40613755.964879975\n",
      "When time is : 146, get best_k: -33.39955554439022  best_b: -48.48442135112422 , and the loss is : 40404269.26309747\n",
      "When time is : 147, get best_k: -33.299555544390216  best_b: -48.38442135112422 , and the loss is : 40195324.57427991\n",
      "When time is : 148, get best_k: -33.199555544390215  best_b: -48.284421351124216 , and the loss is : 39986921.8984274\n",
      "When time is : 149, get best_k: -33.09955554439021  best_b: -48.184421351124215 , and the loss is : 39779061.235539794\n",
      "When time is : 150, get best_k: -32.99955554439021  best_b: -48.08442135112421 , and the loss is : 39571742.58561709\n",
      "When time is : 151, get best_k: -32.89955554439021  best_b: -47.98442135112421 , and the loss is : 39364965.948659286\n",
      "When time is : 152, get best_k: -32.79955554439021  best_b: -47.88442135112421 , and the loss is : 39158731.32466646\n",
      "When time is : 153, get best_k: -32.69955554439021  best_b: -47.78442135112421 , and the loss is : 38953038.71363854\n",
      "When time is : 154, get best_k: -32.599555544390206  best_b: -47.68442135112421 , and the loss is : 38747888.11557566\n",
      "When time is : 155, get best_k: -32.499555544390205  best_b: -47.584421351124206 , and the loss is : 38543279.530477695\n",
      "When time is : 156, get best_k: -32.3995555443902  best_b: -47.484421351124205 , and the loss is : 38339212.958344616\n",
      "When time is : 157, get best_k: -32.2995555443902  best_b: -47.3844213511242 , and the loss is : 38135688.399176486\n",
      "When time is : 158, get best_k: -32.1995555443902  best_b: -47.2844213511242 , and the loss is : 37932705.85297334\n",
      "When time is : 159, get best_k: -32.0995555443902  best_b: -47.1844213511242 , and the loss is : 37730265.31973511\n",
      "When time is : 160, get best_k: -31.999555544390198  best_b: -47.0844213511242 , and the loss is : 37528366.79946181\n",
      "When time is : 161, get best_k: -31.899555544390196  best_b: -46.9844213511242 , and the loss is : 37327010.29215342\n",
      "When time is : 162, get best_k: -31.799555544390195  best_b: -46.884421351124196 , and the loss is : 37126195.79781002\n",
      "When time is : 163, get best_k: -31.699555544390194  best_b: -46.784421351124195 , and the loss is : 36925923.316431545\n",
      "When time is : 164, get best_k: -31.599555544390192  best_b: -46.68442135112419 , and the loss is : 36726192.84801799\n",
      "When time is : 165, get best_k: -31.49955554439019  best_b: -46.58442135112419 , and the loss is : 36527004.392569415\n",
      "When time is : 166, get best_k: -31.39955554439019  best_b: -46.48442135112419 , and the loss is : 36328357.95008576\n",
      "When time is : 167, get best_k: -31.299555544390188  best_b: -46.38442135112419 , and the loss is : 36130253.5205671\n",
      "When time is : 168, get best_k: -31.199555544390186  best_b: -46.28442135112419 , and the loss is : 35932691.10401323\n",
      "When time is : 169, get best_k: -31.099555544390185  best_b: -46.184421351124186 , and the loss is : 35735670.700424396\n",
      "When time is : 170, get best_k: -30.999555544390184  best_b: -46.084421351124185 , and the loss is : 35539192.30980047\n",
      "When time is : 171, get best_k: -30.899555544390182  best_b: -45.98442135112418 , and the loss is : 35343255.93214153\n",
      "When time is : 172, get best_k: -30.79955554439018  best_b: -45.88442135112418 , and the loss is : 35147861.56744752\n",
      "When time is : 173, get best_k: -30.69955554439018  best_b: -45.78442135112418 , and the loss is : 34953009.21571845\n",
      "When time is : 174, get best_k: -30.599555544390178  best_b: -45.68442135112418 , and the loss is : 34758698.8769543\n",
      "When time is : 175, get best_k: -30.499555544390176  best_b: -45.58442135112418 , and the loss is : 34564930.551155105\n",
      "When time is : 176, get best_k: -30.399555544390175  best_b: -45.484421351124176 , and the loss is : 34371704.23832086\n",
      "When time is : 177, get best_k: -30.299555544390174  best_b: -45.384421351124175 , and the loss is : 34179019.93845155\n",
      "When time is : 178, get best_k: -30.199555544390172  best_b: -45.28442135112417 , and the loss is : 33986877.65154717\n",
      "When time is : 179, get best_k: -30.09955554439017  best_b: -45.18442135112417 , and the loss is : 33795277.37760773\n",
      "When time is : 180, get best_k: -29.99955554439017  best_b: -45.08442135112417 , and the loss is : 33604219.11663325\n",
      "When time is : 181, get best_k: -29.899555544390168  best_b: -44.98442135112417 , and the loss is : 33413702.868623685\n",
      "When time is : 182, get best_k: -29.799555544390167  best_b: -44.88442135112417 , and the loss is : 33223728.63357907\n",
      "When time is : 183, get best_k: -29.699555544390165  best_b: -44.784421351124166 , and the loss is : 33034296.411499362\n",
      "When time is : 184, get best_k: -29.599555544390164  best_b: -44.684421351124165 , and the loss is : 32845406.20238464\n",
      "When time is : 185, get best_k: -29.499555544390162  best_b: -44.58442135112416 , and the loss is : 32657058.006234862\n",
      "When time is : 186, get best_k: -29.39955554439016  best_b: -44.48442135112416 , and the loss is : 32469251.82304999\n",
      "When time is : 187, get best_k: -29.29955554439016  best_b: -44.38442135112416 , and the loss is : 32281987.65283008\n",
      "When time is : 188, get best_k: -29.199555544390158  best_b: -44.28442135112416 , and the loss is : 32095265.495575115\n",
      "When time is : 189, get best_k: -29.099555544390157  best_b: -44.18442135112416 , and the loss is : 31909085.351285044\n",
      "When time is : 190, get best_k: -28.999555544390155  best_b: -44.084421351124156 , and the loss is : 31723447.219959956\n",
      "When time is : 191, get best_k: -28.899555544390154  best_b: -43.984421351124155 , and the loss is : 31538351.101599827\n",
      "When time is : 192, get best_k: -28.799555544390152  best_b: -43.88442135112415 , and the loss is : 31353796.996204585\n",
      "When time is : 193, get best_k: -28.69955554439015  best_b: -43.78442135112415 , and the loss is : 31169784.903774325\n",
      "When time is : 194, get best_k: -28.59955554439015  best_b: -43.68442135112415 , and the loss is : 30986314.824308984\n",
      "When time is : 195, get best_k: -28.499555544390148  best_b: -43.58442135112415 , and the loss is : 30803386.757808585\n",
      "When time is : 196, get best_k: -28.399555544390147  best_b: -43.48442135112415 , and the loss is : 30621000.704273097\n",
      "When time is : 197, get best_k: -28.299555544390145  best_b: -43.384421351124146 , and the loss is : 30439156.663702622\n",
      "When time is : 198, get best_k: -28.199555544390144  best_b: -43.284421351124145 , and the loss is : 30257854.636097025\n",
      "When time is : 199, get best_k: -28.099555544390142  best_b: -43.18442135112414 , and the loss is : 30077094.621456403\n",
      "When time is : 200, get best_k: -27.99955554439014  best_b: -43.08442135112414 , and the loss is : 29896876.619780693\n",
      "When time is : 201, get best_k: -27.89955554439014  best_b: -42.98442135112414 , and the loss is : 29717200.631069932\n",
      "When time is : 202, get best_k: -27.799555544390138  best_b: -42.88442135112414 , and the loss is : 29538066.65532411\n",
      "When time is : 203, get best_k: -27.699555544390137  best_b: -42.78442135112414 , and the loss is : 29359474.69254323\n",
      "When time is : 204, get best_k: -27.599555544390135  best_b: -42.684421351124136 , and the loss is : 29181424.742727302\n",
      "When time is : 205, get best_k: -27.499555544390134  best_b: -42.584421351124135 , and the loss is : 29003916.805876307\n",
      "When time is : 206, get best_k: -27.399555544390132  best_b: -42.48442135112413 , and the loss is : 28826950.881990224\n",
      "When time is : 207, get best_k: -27.29955554439013  best_b: -42.38442135112413 , and the loss is : 28650526.971069116\n",
      "When time is : 208, get best_k: -27.19955554439013  best_b: -42.28442135112413 , and the loss is : 28474645.07311297\n",
      "When time is : 209, get best_k: -27.099555544390128  best_b: -42.18442135112413 , and the loss is : 28299305.18812172\n",
      "When time is : 210, get best_k: -26.999555544390127  best_b: -42.08442135112413 , and the loss is : 28124507.316095404\n",
      "When time is : 211, get best_k: -26.899555544390125  best_b: -41.984421351124126 , and the loss is : 27950251.457034066\n",
      "When time is : 212, get best_k: -26.799555544390124  best_b: -41.884421351124125 , and the loss is : 27776537.61093765\n",
      "When time is : 213, get best_k: -26.699555544390122  best_b: -41.784421351124124 , and the loss is : 27603365.77780616\n",
      "When time is : 214, get best_k: -26.59955554439012  best_b: -41.68442135112412 , and the loss is : 27430735.95763962\n",
      "When time is : 215, get best_k: -26.49955554439012  best_b: -41.58442135112412 , and the loss is : 27258648.150438048\n",
      "When time is : 216, get best_k: -26.399555544390118  best_b: -41.48442135112412 , and the loss is : 27087102.35620136\n",
      "When time is : 217, get best_k: -26.299555544390117  best_b: -41.38442135112412 , and the loss is : 26916098.57492964\n",
      "When time is : 218, get best_k: -26.199555544390115  best_b: -41.28442135112412 , and the loss is : 26745636.80662289\n",
      "When time is : 219, get best_k: -26.099555544390114  best_b: -41.184421351124115 , and the loss is : 26575717.051281035\n",
      "When time is : 220, get best_k: -25.999555544390113  best_b: -41.084421351124114 , and the loss is : 26406339.308904134\n",
      "When time is : 221, get best_k: -25.89955554439011  best_b: -40.98442135112411 , and the loss is : 26237503.57949221\n",
      "When time is : 222, get best_k: -25.79955554439011  best_b: -40.88442135112411 , and the loss is : 26069209.863045186\n",
      "When time is : 223, get best_k: -25.69955554439011  best_b: -40.78442135112411 , and the loss is : 25901458.159563076\n",
      "When time is : 224, get best_k: -25.599555544390107  best_b: -40.68442135112411 , and the loss is : 25734248.469045978\n",
      "When time is : 225, get best_k: -25.499555544390105  best_b: -40.58442135112411 , and the loss is : 25567580.791493747\n",
      "When time is : 226, get best_k: -25.399555544390104  best_b: -40.484421351124105 , and the loss is : 25401455.12690651\n",
      "When time is : 227, get best_k: -25.299555544390103  best_b: -40.384421351124104 , and the loss is : 25235871.475284204\n",
      "When time is : 228, get best_k: -25.1995555443901  best_b: -40.2844213511241 , and the loss is : 25070829.836626813\n",
      "When time is : 229, get best_k: -25.0995555443901  best_b: -40.1844213511241 , and the loss is : 24906330.21093437\n",
      "When time is : 230, get best_k: -24.9995555443901  best_b: -40.0844213511241 , and the loss is : 24742372.598206896\n",
      "When time is : 231, get best_k: -24.899555544390097  best_b: -39.9844213511241 , and the loss is : 24578956.998444334\n",
      "When time is : 232, get best_k: -24.799555544390095  best_b: -39.8844213511241 , and the loss is : 24416083.411646713\n",
      "When time is : 233, get best_k: -24.699555544390094  best_b: -39.784421351124095 , and the loss is : 24253751.83781403\n",
      "When time is : 234, get best_k: -24.599555544390093  best_b: -39.684421351124094 , and the loss is : 24091962.276946306\n",
      "When time is : 235, get best_k: -24.49955554439009  best_b: -39.58442135112409 , and the loss is : 23930714.729043506\n",
      "When time is : 236, get best_k: -24.39955554439009  best_b: -39.48442135112409 , and the loss is : 23770009.19410566\n",
      "When time is : 237, get best_k: -24.29955554439009  best_b: -39.38442135112409 , and the loss is : 23609845.67213271\n",
      "When time is : 238, get best_k: -24.199555544390087  best_b: -39.28442135112409 , and the loss is : 23450224.163124766\n",
      "When time is : 239, get best_k: -24.099555544390086  best_b: -39.18442135112409 , and the loss is : 23291144.667081743\n",
      "When time is : 240, get best_k: -23.999555544390084  best_b: -39.084421351124085 , and the loss is : 23132607.184003633\n",
      "When time is : 241, get best_k: -23.899555544390083  best_b: -38.984421351124084 , and the loss is : 22974611.713890463\n",
      "When time is : 242, get best_k: -23.79955554439008  best_b: -38.88442135112408 , and the loss is : 22817158.256742228\n",
      "When time is : 243, get best_k: -23.69955554439008  best_b: -38.78442135112408 , and the loss is : 22660246.812558956\n",
      "When time is : 244, get best_k: -23.59955554439008  best_b: -38.68442135112408 , and the loss is : 22503877.381340627\n",
      "When time is : 245, get best_k: -23.499555544390077  best_b: -38.58442135112408 , and the loss is : 22348049.963087223\n",
      "When time is : 246, get best_k: -23.399555544390076  best_b: -38.48442135112408 , and the loss is : 22192764.55779877\n",
      "When time is : 247, get best_k: -23.299555544390074  best_b: -38.384421351124075 , and the loss is : 22038021.165475264\n",
      "When time is : 248, get best_k: -23.199555544390073  best_b: -38.284421351124074 , and the loss is : 21883819.786116656\n",
      "When time is : 249, get best_k: -23.09955554439007  best_b: -38.18442135112407 , and the loss is : 21730160.419723045\n",
      "When time is : 250, get best_k: -22.99955554439007  best_b: -38.08442135112407 , and the loss is : 21577043.066294342\n",
      "When time is : 251, get best_k: -22.89955554439007  best_b: -37.98442135112407 , and the loss is : 21424467.725830592\n",
      "When time is : 252, get best_k: -22.799555544390067  best_b: -37.88442135112407 , and the loss is : 21272434.398331784\n",
      "When time is : 253, get best_k: -22.699555544390066  best_b: -37.78442135112407 , and the loss is : 21120943.083797917\n",
      "When time is : 254, get best_k: -22.599555544390064  best_b: -37.684421351124065 , and the loss is : 20969993.782228943\n",
      "When time is : 255, get best_k: -22.499555544390063  best_b: -37.584421351124064 , and the loss is : 20819586.49362498\n",
      "When time is : 256, get best_k: -22.39955554439006  best_b: -37.48442135112406 , and the loss is : 20669721.21798591\n",
      "When time is : 257, get best_k: -22.29955554439006  best_b: -37.38442135112406 , and the loss is : 20520397.955311786\n",
      "When time is : 258, get best_k: -22.19955554439006  best_b: -37.28442135112406 , and the loss is : 20371616.705602642\n",
      "When time is : 259, get best_k: -22.099555544390057  best_b: -37.18442135112406 , and the loss is : 20223377.46885837\n",
      "When time is : 260, get best_k: -21.999555544390056  best_b: -37.08442135112406 , and the loss is : 20075680.24507909\n",
      "When time is : 261, get best_k: -21.899555544390054  best_b: -36.984421351124055 , and the loss is : 19928525.034264743\n",
      "When time is : 262, get best_k: -21.799555544390053  best_b: -36.884421351124054 , and the loss is : 19781911.83641531\n",
      "When time is : 263, get best_k: -21.69955554439005  best_b: -36.78442135112405 , and the loss is : 19635840.651530832\n",
      "When time is : 264, get best_k: -21.59955554439005  best_b: -36.68442135112405 , and the loss is : 19490311.479611304\n",
      "When time is : 265, get best_k: -21.49955554439005  best_b: -36.58442135112405 , and the loss is : 19345324.3206567\n",
      "When time is : 266, get best_k: -21.399555544390047  best_b: -36.48442135112405 , and the loss is : 19200879.174667064\n",
      "When time is : 267, get best_k: -21.299555544390046  best_b: -36.38442135112405 , and the loss is : 19056976.041642334\n",
      "When time is : 268, get best_k: -21.199555544390044  best_b: -36.284421351124045 , and the loss is : 18913614.921582554\n",
      "When time is : 269, get best_k: -21.099555544390043  best_b: -36.184421351124044 , and the loss is : 18770795.814487733\n",
      "When time is : 270, get best_k: -20.99955554439004  best_b: -36.08442135112404 , and the loss is : 18628518.720357828\n",
      "When time is : 271, get best_k: -20.89955554439004  best_b: -35.98442135112404 , and the loss is : 18486783.639192894\n",
      "When time is : 272, get best_k: -20.79955554439004  best_b: -35.88442135112404 , and the loss is : 18345590.57099285\n",
      "When time is : 273, get best_k: -20.699555544390037  best_b: -35.78442135112404 , and the loss is : 18204939.515757773\n",
      "When time is : 274, get best_k: -20.599555544390036  best_b: -35.68442135112404 , and the loss is : 18064830.473487645\n",
      "When time is : 275, get best_k: -20.499555544390034  best_b: -35.584421351124035 , and the loss is : 17925263.444182478\n",
      "When time is : 276, get best_k: -20.399555544390033  best_b: -35.484421351124034 , and the loss is : 17786238.427842196\n",
      "When time is : 277, get best_k: -20.29955554439003  best_b: -35.38442135112403 , and the loss is : 17647755.424466874\n",
      "When time is : 278, get best_k: -20.19955554439003  best_b: -35.28442135112403 , and the loss is : 17509814.434056506\n",
      "When time is : 279, get best_k: -20.09955554439003  best_b: -35.18442135112403 , and the loss is : 17372415.456611075\n",
      "When time is : 280, get best_k: -19.999555544390027  best_b: -35.08442135112403 , and the loss is : 17235558.492130596\n",
      "When time is : 281, get best_k: -19.899555544390026  best_b: -34.98442135112403 , and the loss is : 17099243.54061502\n",
      "When time is : 282, get best_k: -19.799555544390024  best_b: -34.884421351124026 , and the loss is : 16963470.602064397\n",
      "When time is : 283, get best_k: -19.699555544390023  best_b: -34.784421351124024 , and the loss is : 16828239.676478714\n",
      "When time is : 284, get best_k: -19.59955554439002  best_b: -34.68442135112402 , and the loss is : 16693550.763857987\n",
      "When time is : 285, get best_k: -19.49955554439002  best_b: -34.58442135112402 , and the loss is : 16559403.8642022\n",
      "When time is : 286, get best_k: -19.39955554439002  best_b: -34.48442135112402 , and the loss is : 16425798.977511331\n",
      "When time is : 287, get best_k: -19.299555544390017  best_b: -34.38442135112402 , and the loss is : 16292736.103785427\n",
      "When time is : 288, get best_k: -19.199555544390016  best_b: -34.28442135112402 , and the loss is : 16160215.243024444\n",
      "When time is : 289, get best_k: -19.099555544390014  best_b: -34.184421351124016 , and the loss is : 16028236.3952284\n",
      "When time is : 290, get best_k: -18.999555544390013  best_b: -34.084421351124014 , and the loss is : 15896799.560397308\n",
      "When time is : 291, get best_k: -18.89955554439001  best_b: -33.98442135112401 , and the loss is : 15765904.73853115\n",
      "When time is : 292, get best_k: -18.79955554439001  best_b: -33.88442135112401 , and the loss is : 15635551.929629935\n",
      "When time is : 293, get best_k: -18.69955554439001  best_b: -33.78442135112401 , and the loss is : 15505741.13369367\n",
      "When time is : 294, get best_k: -18.599555544390007  best_b: -33.68442135112401 , and the loss is : 15376472.35072235\n",
      "When time is : 295, get best_k: -18.499555544390006  best_b: -33.58442135112401 , and the loss is : 15247745.58071596\n",
      "When time is : 296, get best_k: -18.399555544390005  best_b: -33.484421351124006 , and the loss is : 15119560.823674485\n",
      "When time is : 297, get best_k: -18.299555544390003  best_b: -33.384421351124004 , and the loss is : 14991918.079597963\n",
      "When time is : 298, get best_k: -18.19955554439  best_b: -33.284421351124 , and the loss is : 14864817.348486386\n",
      "When time is : 299, get best_k: -18.09955554439  best_b: -33.184421351124 , and the loss is : 14738258.630339753\n",
      "When time is : 300, get best_k: -17.99955554439  best_b: -33.084421351124 , and the loss is : 14612241.925158057\n",
      "When time is : 301, get best_k: -17.899555544389997  best_b: -32.984421351124 , and the loss is : 14486767.232941313\n",
      "When time is : 302, get best_k: -17.799555544389996  best_b: -32.884421351124 , and the loss is : 14361834.553689491\n",
      "When time is : 303, get best_k: -17.699555544389995  best_b: -32.784421351123996 , and the loss is : 14237443.887402624\n",
      "When time is : 304, get best_k: -17.599555544389993  best_b: -32.684421351123994 , and the loss is : 14113595.234080672\n",
      "When time is : 305, get best_k: -17.49955554438999  best_b: -32.58442135112399 , and the loss is : 13990288.593723662\n",
      "When time is : 306, get best_k: -17.39955554438999  best_b: -32.48442135112399 , and the loss is : 13867523.96633163\n",
      "When time is : 307, get best_k: -17.29955554438999  best_b: -32.38442135112399 , and the loss is : 13745301.351904497\n",
      "When time is : 308, get best_k: -17.199555544389987  best_b: -32.28442135112399 , and the loss is : 13623620.750442326\n",
      "When time is : 309, get best_k: -17.099555544389986  best_b: -32.18442135112399 , and the loss is : 13502482.161945105\n",
      "When time is : 310, get best_k: -16.999555544389985  best_b: -32.084421351123986 , and the loss is : 13381885.5864128\n",
      "When time is : 311, get best_k: -16.899555544389983  best_b: -31.984421351123984 , and the loss is : 13261831.02384547\n",
      "When time is : 312, get best_k: -16.79955554438998  best_b: -31.884421351123983 , and the loss is : 13142318.474243028\n",
      "When time is : 313, get best_k: -16.69955554438998  best_b: -31.78442135112398 , and the loss is : 13023347.93760556\n",
      "When time is : 314, get best_k: -16.59955554438998  best_b: -31.68442135112398 , and the loss is : 12904919.413933022\n",
      "When time is : 315, get best_k: -16.499555544389978  best_b: -31.58442135112398 , and the loss is : 12787032.903225435\n",
      "When time is : 316, get best_k: -16.399555544389976  best_b: -31.484421351123977 , and the loss is : 12669688.405482762\n",
      "When time is : 317, get best_k: -16.299555544389975  best_b: -31.384421351123976 , and the loss is : 12552885.92070506\n",
      "When time is : 318, get best_k: -16.199555544389973  best_b: -31.284421351123974 , and the loss is : 12436625.44889228\n",
      "When time is : 319, get best_k: -16.099555544389972  best_b: -31.184421351123973 , and the loss is : 12320906.99004446\n",
      "When time is : 320, get best_k: -15.999555544389972  best_b: -31.08442135112397 , and the loss is : 12205730.544161549\n",
      "When time is : 321, get best_k: -15.899555544389973  best_b: -30.98442135112397 , and the loss is : 12091096.111243596\n",
      "When time is : 322, get best_k: -15.799555544389973  best_b: -30.88442135112397 , and the loss is : 11977003.691290587\n",
      "When time is : 323, get best_k: -15.699555544389973  best_b: -30.784421351123967 , and the loss is : 11863453.284302512\n",
      "When time is : 324, get best_k: -15.599555544389974  best_b: -30.684421351123966 , and the loss is : 11750444.890279379\n",
      "When time is : 325, get best_k: -15.499555544389974  best_b: -30.584421351123964 , and the loss is : 11637978.509221196\n",
      "When time is : 326, get best_k: -15.399555544389974  best_b: -30.484421351123963 , and the loss is : 11526054.14112794\n",
      "When time is : 327, get best_k: -15.299555544389975  best_b: -30.38442135112396 , and the loss is : 11414671.785999622\n",
      "When time is : 328, get best_k: -15.199555544389975  best_b: -30.28442135112396 , and the loss is : 11303831.443836244\n",
      "When time is : 329, get best_k: -15.099555544389975  best_b: -30.18442135112396 , and the loss is : 11193533.114637813\n",
      "When time is : 330, get best_k: -14.999555544389976  best_b: -30.084421351123957 , and the loss is : 11083776.79840431\n",
      "When time is : 331, get best_k: -14.899555544389976  best_b: -29.984421351123956 , and the loss is : 10974562.495135782\n",
      "When time is : 332, get best_k: -14.799555544389976  best_b: -29.884421351123954 , and the loss is : 10865890.20483215\n",
      "When time is : 333, get best_k: -14.699555544389977  best_b: -29.784421351123953 , and the loss is : 10757759.927493474\n",
      "When time is : 334, get best_k: -14.599555544389977  best_b: -29.68442135112395 , and the loss is : 10650171.663119748\n",
      "When time is : 335, get best_k: -14.499555544389978  best_b: -29.58442135112395 , and the loss is : 10543125.411710948\n",
      "When time is : 336, get best_k: -14.399555544389978  best_b: -29.48442135112395 , and the loss is : 10436621.173267104\n",
      "When time is : 337, get best_k: -14.299555544389978  best_b: -29.384421351123947 , and the loss is : 10330658.94778819\n",
      "When time is : 338, get best_k: -14.199555544389979  best_b: -29.284421351123946 , and the loss is : 10225238.735274218\n",
      "When time is : 339, get best_k: -14.099555544389979  best_b: -29.184421351123945 , and the loss is : 10120360.535725186\n",
      "When time is : 340, get best_k: -13.99955554438998  best_b: -29.084421351123943 , and the loss is : 10016024.349141082\n",
      "When time is : 341, get best_k: -13.89955554438998  best_b: -28.98442135112394 , and the loss is : 9912230.175521927\n",
      "When time is : 342, get best_k: -13.79955554438998  best_b: -28.88442135112394 , and the loss is : 9808978.014867695\n",
      "When time is : 343, get best_k: -13.69955554438998  best_b: -28.78442135112394 , and the loss is : 9706267.867178453\n",
      "When time is : 344, get best_k: -13.59955554438998  best_b: -28.684421351123937 , and the loss is : 9604099.732454104\n",
      "When time is : 345, get best_k: -13.499555544389981  best_b: -28.584421351123936 , and the loss is : 9502473.610694705\n",
      "When time is : 346, get best_k: -13.399555544389981  best_b: -28.484421351123935 , and the loss is : 9401389.501900269\n",
      "When time is : 347, get best_k: -13.299555544389982  best_b: -28.384421351123933 , and the loss is : 9300847.40607075\n",
      "When time is : 348, get best_k: -13.199555544389982  best_b: -28.28442135112393 , and the loss is : 9200847.323206173\n",
      "When time is : 349, get best_k: -13.099555544389982  best_b: -28.18442135112393 , and the loss is : 9101389.253306532\n",
      "When time is : 350, get best_k: -12.999555544389983  best_b: -28.08442135112393 , and the loss is : 9002473.196371855\n",
      "When time is : 351, get best_k: -12.899555544389983  best_b: -27.984421351123927 , and the loss is : 8904099.152402094\n",
      "When time is : 352, get best_k: -12.799555544389984  best_b: -27.884421351123926 , and the loss is : 8806267.121397289\n",
      "When time is : 353, get best_k: -12.699555544389984  best_b: -27.784421351123925 , and the loss is : 8708977.10335741\n",
      "When time is : 354, get best_k: -12.599555544389984  best_b: -27.684421351123923 , and the loss is : 8612229.09828248\n",
      "When time is : 355, get best_k: -12.499555544389985  best_b: -27.584421351123922 , and the loss is : 8516023.106172474\n",
      "When time is : 356, get best_k: -12.399555544389985  best_b: -27.48442135112392 , and the loss is : 8420359.127027426\n",
      "When time is : 357, get best_k: -12.299555544389985  best_b: -27.38442135112392 , and the loss is : 8325237.160847318\n",
      "When time is : 358, get best_k: -12.199555544389986  best_b: -27.284421351123918 , and the loss is : 8230657.207632147\n",
      "When time is : 359, get best_k: -12.099555544389986  best_b: -27.184421351123916 , and the loss is : 8136619.267381895\n",
      "When time is : 360, get best_k: -11.999555544389986  best_b: -27.084421351123915 , and the loss is : 8043123.340096611\n",
      "When time is : 361, get best_k: -11.899555544389987  best_b: -26.984421351123913 , and the loss is : 7950169.425776254\n",
      "When time is : 362, get best_k: -11.799555544389987  best_b: -26.884421351123912 , and the loss is : 7857757.524420848\n",
      "When time is : 363, get best_k: -11.699555544389987  best_b: -26.78442135112391 , and the loss is : 7765887.636030378\n",
      "When time is : 364, get best_k: -11.599555544389988  best_b: -26.68442135112391 , and the loss is : 7674559.760604841\n",
      "When time is : 365, get best_k: -11.499555544389988  best_b: -26.584421351123908 , and the loss is : 7583773.898144249\n",
      "When time is : 366, get best_k: -11.399555544389989  best_b: -26.484421351123906 , and the loss is : 7493530.048648589\n",
      "When time is : 367, get best_k: -11.299555544389989  best_b: -26.384421351123905 , and the loss is : 7403828.212117884\n",
      "When time is : 368, get best_k: -11.19955554438999  best_b: -26.284421351123903 , and the loss is : 7314668.388552106\n",
      "When time is : 369, get best_k: -11.09955554438999  best_b: -26.184421351123902 , and the loss is : 7226050.57795128\n",
      "When time is : 370, get best_k: -10.99955554438999  best_b: -26.0844213511239 , and the loss is : 7137974.780315377\n",
      "When time is : 371, get best_k: -10.89955554438999  best_b: -25.9844213511239 , and the loss is : 7050440.995644434\n",
      "When time is : 372, get best_k: -10.79955554438999  best_b: -25.884421351123898 , and the loss is : 6963449.223938411\n",
      "When time is : 373, get best_k: -10.699555544389991  best_b: -25.784421351123896 , and the loss is : 6876999.465197344\n",
      "When time is : 374, get best_k: -10.599555544389991  best_b: -25.684421351123895 , and the loss is : 6791091.71942121\n",
      "When time is : 375, get best_k: -10.499555544389992  best_b: -25.584421351123893 , and the loss is : 6705725.986610015\n",
      "When time is : 376, get best_k: -10.399555544389992  best_b: -25.484421351123892 , and the loss is : 6620902.266763766\n",
      "When time is : 377, get best_k: -10.299555544389992  best_b: -25.38442135112389 , and the loss is : 6536620.559882452\n",
      "When time is : 378, get best_k: -10.199555544389993  best_b: -25.28442135112389 , and the loss is : 6452880.86596607\n",
      "When time is : 379, get best_k: -10.099555544389993  best_b: -25.184421351123888 , and the loss is : 6369683.185014634\n",
      "When time is : 380, get best_k: -9.999555544389993  best_b: -25.084421351123886 , and the loss is : 6287027.517028143\n",
      "When time is : 381, get best_k: -9.899555544389994  best_b: -24.984421351123885 , and the loss is : 6204913.862006592\n",
      "When time is : 382, get best_k: -9.799555544389994  best_b: -24.884421351123883 , and the loss is : 6123342.219949984\n",
      "When time is : 383, get best_k: -9.699555544389995  best_b: -24.784421351123882 , and the loss is : 6042312.590858306\n",
      "When time is : 384, get best_k: -9.599555544389995  best_b: -24.68442135112388 , and the loss is : 5961824.974731577\n",
      "When time is : 385, get best_k: -9.499555544389995  best_b: -24.58442135112388 , and the loss is : 5881879.371569776\n",
      "When time is : 386, get best_k: -9.399555544389996  best_b: -24.484421351123878 , and the loss is : 5802475.781372924\n",
      "When time is : 387, get best_k: -9.299555544389996  best_b: -24.384421351123876 , and the loss is : 5723614.204141006\n",
      "When time is : 388, get best_k: -9.199555544389996  best_b: -24.284421351123875 , and the loss is : 5645294.639874037\n",
      "When time is : 389, get best_k: -9.099555544389997  best_b: -24.184421351123873 , and the loss is : 5567517.088572007\n",
      "When time is : 390, get best_k: -8.999555544389997  best_b: -24.084421351123872 , and the loss is : 5490281.550234911\n",
      "When time is : 391, get best_k: -8.899555544389997  best_b: -23.98442135112387 , and the loss is : 5413588.024862762\n",
      "When time is : 392, get best_k: -8.799555544389998  best_b: -23.88442135112387 , and the loss is : 5337436.512455543\n",
      "When time is : 393, get best_k: -8.699555544389998  best_b: -23.784421351123868 , and the loss is : 5261827.013013268\n",
      "When time is : 394, get best_k: -8.599555544389998  best_b: -23.684421351123866 , and the loss is : 5186759.526535936\n",
      "When time is : 395, get best_k: -8.499555544389999  best_b: -23.584421351123865 , and the loss is : 5112234.053023543\n",
      "When time is : 396, get best_k: -8.39955554439  best_b: -23.484421351123864 , and the loss is : 5038250.592476084\n",
      "When time is : 397, get best_k: -8.29955554439  best_b: -23.384421351123862 , and the loss is : 4964809.144893571\n",
      "When time is : 398, get best_k: -8.19955554439  best_b: -23.28442135112386 , and the loss is : 4891909.710276008\n",
      "When time is : 399, get best_k: -8.09955554439  best_b: -23.18442135112386 , and the loss is : 4819552.288623366\n",
      "When time is : 400, get best_k: -7.999555544390001  best_b: -23.084421351123858 , and the loss is : 4747736.879935674\n",
      "When time is : 401, get best_k: -7.899555544390001  best_b: -22.984421351123856 , and the loss is : 4676463.484212923\n",
      "When time is : 402, get best_k: -7.799555544390001  best_b: -22.884421351123855 , and the loss is : 4605732.101455112\n",
      "When time is : 403, get best_k: -7.699555544390002  best_b: -22.784421351123854 , and the loss is : 4535542.731662232\n",
      "When time is : 404, get best_k: -7.599555544390002  best_b: -22.684421351123852 , and the loss is : 4465895.374834299\n",
      "When time is : 405, get best_k: -7.499555544390002  best_b: -22.58442135112385 , and the loss is : 4396790.030971307\n",
      "When time is : 406, get best_k: -7.399555544390003  best_b: -22.48442135112385 , and the loss is : 4328226.700073254\n",
      "When time is : 407, get best_k: -7.299555544390003  best_b: -22.384421351123848 , and the loss is : 4260205.382140136\n",
      "When time is : 408, get best_k: -7.1995555443900034  best_b: -22.284421351123846 , and the loss is : 4192726.0771719655\n",
      "When time is : 409, get best_k: -7.099555544390004  best_b: -22.184421351123845 , and the loss is : 4125788.785168732\n",
      "When time is : 410, get best_k: -6.999555544390004  best_b: -22.084421351123844 , and the loss is : 4059393.5061304374\n",
      "When time is : 411, get best_k: -6.8995555443900045  best_b: -21.984421351123842 , and the loss is : 3993540.2400570856\n",
      "When time is : 412, get best_k: -6.799555544390005  best_b: -21.88442135112384 , and the loss is : 3928228.9869486713\n",
      "When time is : 413, get best_k: -6.699555544390005  best_b: -21.78442135112384 , and the loss is : 3863459.7468052\n",
      "When time is : 414, get best_k: -6.599555544390006  best_b: -21.684421351123838 , and the loss is : 3799232.519626668\n",
      "When time is : 415, get best_k: -6.499555544390006  best_b: -21.584421351123837 , and the loss is : 3735547.305413069\n",
      "When time is : 416, get best_k: -6.399555544390006  best_b: -21.484421351123835 , and the loss is : 3672404.1041644183\n",
      "When time is : 417, get best_k: -6.299555544390007  best_b: -21.384421351123834 , and the loss is : 3609802.9158807076\n",
      "When time is : 418, get best_k: -6.199555544390007  best_b: -21.284421351123832 , and the loss is : 3547743.740561931\n",
      "When time is : 419, get best_k: -6.099555544390007  best_b: -21.18442135112383 , and the loss is : 3486226.578208091\n",
      "When time is : 420, get best_k: -5.999555544390008  best_b: -21.08442135112383 , and the loss is : 3425251.4288192\n",
      "When time is : 421, get best_k: -5.899555544390008  best_b: -20.984421351123828 , and the loss is : 3364818.292395248\n",
      "When time is : 422, get best_k: -5.799555544390008  best_b: -20.884421351123827 , and the loss is : 3304927.168936235\n",
      "When time is : 423, get best_k: -5.699555544390009  best_b: -20.784421351123825 , and the loss is : 3245578.0584421614\n",
      "When time is : 424, get best_k: -5.599555544390009  best_b: -20.684421351123824 , and the loss is : 3186770.96091303\n",
      "When time is : 425, get best_k: -5.4995555443900095  best_b: -20.584421351123822 , and the loss is : 3128505.876348836\n",
      "When time is : 426, get best_k: -5.39955554439001  best_b: -20.48442135112382 , and the loss is : 3070782.8047495824\n",
      "When time is : 427, get best_k: -5.29955554439001  best_b: -20.38442135112382 , and the loss is : 3013601.746115266\n",
      "When time is : 428, get best_k: -5.1995555443900106  best_b: -20.284421351123818 , and the loss is : 2956962.7004458928\n",
      "When time is : 429, get best_k: -5.099555544390011  best_b: -20.184421351123817 , and the loss is : 2900865.6677414556\n",
      "When time is : 430, get best_k: -4.999555544390011  best_b: -20.084421351123815 , and the loss is : 2845310.648001966\n",
      "When time is : 431, get best_k: -4.899555544390012  best_b: -19.984421351123814 , and the loss is : 2790297.641227413\n",
      "When time is : 432, get best_k: -4.799555544390012  best_b: -19.884421351123812 , and the loss is : 2735826.6474177972\n",
      "When time is : 433, get best_k: -4.699555544390012  best_b: -19.78442135112381 , and the loss is : 2681897.666573126\n",
      "When time is : 434, get best_k: -4.599555544390013  best_b: -19.68442135112381 , and the loss is : 2628510.698693394\n"
     ]
    },
    {
     "name": "stdout",
     "output_type": "stream",
     "text": [
      "When time is : 435, get best_k: -4.499555544390013  best_b: -19.584421351123808 , and the loss is : 2575665.7437785952\n",
      "When time is : 436, get best_k: -4.399555544390013  best_b: -19.484421351123807 , and the loss is : 2523362.801828744\n",
      "When time is : 437, get best_k: -4.299555544390014  best_b: -19.384421351123805 , and the loss is : 2471601.8728438327\n",
      "When time is : 438, get best_k: -4.199555544390014  best_b: -19.284421351123804 , and the loss is : 2420382.9568238608\n",
      "When time is : 439, get best_k: -4.0995555443900145  best_b: -19.184421351123802 , and the loss is : 2369706.053768826\n",
      "When time is : 440, get best_k: -3.9995555443900144  best_b: -19.0844213511238 , and the loss is : 2319571.1636787313\n",
      "When time is : 441, get best_k: -3.8995555443900143  best_b: -18.9844213511238 , and the loss is : 2269978.2865535766\n",
      "When time is : 442, get best_k: -3.799555544390014  best_b: -18.884421351123798 , and the loss is : 2220927.4223933634\n",
      "When time is : 443, get best_k: -3.699555544390014  best_b: -18.784421351123797 , and the loss is : 2172418.5711980863\n",
      "When time is : 444, get best_k: -3.599555544390014  best_b: -18.684421351123795 , and the loss is : 2124451.7329677534\n",
      "When time is : 445, get best_k: -3.499555544390014  best_b: -18.584421351123794 , and the loss is : 2077026.9077023612\n",
      "When time is : 446, get best_k: -3.399555544390014  best_b: -18.484421351123792 , and the loss is : 2030144.0954019087\n",
      "When time is : 447, get best_k: -3.2995555443900138  best_b: -18.38442135112379 , and the loss is : 1983803.2960663943\n",
      "When time is : 448, get best_k: -3.1995555443900137  best_b: -18.28442135112379 , and the loss is : 1938004.5096958207\n",
      "When time is : 449, get best_k: -3.0995555443900136  best_b: -18.184421351123788 , and the loss is : 1892747.7362901862\n",
      "When time is : 450, get best_k: -2.9995555443900135  best_b: -18.084421351123787 , and the loss is : 1848032.9758494927\n",
      "When time is : 451, get best_k: -2.8995555443900134  best_b: -17.984421351123785 , and the loss is : 1803860.2283737396\n",
      "When time is : 452, get best_k: -2.7995555443900133  best_b: -17.884421351123784 , and the loss is : 1760229.4938629258\n",
      "When time is : 453, get best_k: -2.699555544390013  best_b: -17.784421351123783 , and the loss is : 1717140.7723170524\n",
      "When time is : 454, get best_k: -2.599555544390013  best_b: -17.68442135112378 , and the loss is : 1674594.063736118\n",
      "When time is : 455, get best_k: -2.499555544390013  best_b: -17.58442135112378 , and the loss is : 1632589.368120127\n",
      "When time is : 456, get best_k: -2.399555544390013  best_b: -17.48442135112378 , and the loss is : 1591126.6854690704\n",
      "When time is : 457, get best_k: -2.299555544390013  best_b: -17.384421351123777 , and the loss is : 1550206.0157829586\n",
      "When time is : 458, get best_k: -2.1995555443900128  best_b: -17.284421351123775 , and the loss is : 1509827.359061783\n",
      "When time is : 459, get best_k: -2.0995555443900127  best_b: -17.184421351123774 , and the loss is : 1469990.7153055512\n",
      "When time is : 460, get best_k: -1.9995555443900126  best_b: -17.084421351123773 , and the loss is : 1430696.0845142584\n",
      "When time is : 461, get best_k: -1.8995555443900125  best_b: -16.98442135112377 , and the loss is : 1391943.4666879007\n",
      "When time is : 462, get best_k: -1.7995555443900124  best_b: -16.88442135112377 , and the loss is : 1353732.8618264874\n",
      "When time is : 463, get best_k: -1.6995555443900123  best_b: -16.78442135112377 , and the loss is : 1316064.2699300135\n",
      "When time is : 464, get best_k: -1.5995555443900122  best_b: -16.684421351123767 , and the loss is : 1278937.6909984818\n",
      "When time is : 465, get best_k: -1.4995555443900122  best_b: -16.584421351123765 , and the loss is : 1242353.1250318866\n",
      "When time is : 466, get best_k: -1.399555544390012  best_b: -16.484421351123764 , and the loss is : 1206310.5720302337\n",
      "When time is : 467, get best_k: -1.299555544390012  best_b: -16.384421351123763 , and the loss is : 1170810.0319935193\n",
      "When time is : 468, get best_k: -1.1995555443900119  best_b: -16.28442135112376 , and the loss is : 1135851.5049217464\n",
      "When time is : 469, get best_k: -1.0995555443900118  best_b: -16.18442135112376 , and the loss is : 1101434.9908149121\n",
      "When time is : 470, get best_k: -0.9995555443900118  best_b: -16.08442135112376 , and the loss is : 1067560.4896730182\n",
      "When time is : 471, get best_k: -0.8995555443900118  best_b: -15.984421351123759 , and the loss is : 1034228.001496065\n",
      "When time is : 472, get best_k: -0.7995555443900119  best_b: -15.884421351123759 , and the loss is : 1001437.526284052\n",
      "When time is : 473, get best_k: -0.6995555443900119  best_b: -15.78442135112376 , and the loss is : 969189.0640369776\n",
      "When time is : 474, get best_k: -0.5995555443900119  best_b: -15.68442135112376 , and the loss is : 937482.6147548448\n",
      "When time is : 475, get best_k: -0.49955554439001193  best_b: -15.58442135112376 , and the loss is : 906318.1784376513\n",
      "When time is : 476, get best_k: -0.39955554439001195  best_b: -15.48442135112376 , and the loss is : 875695.755085398\n",
      "When time is : 477, get best_k: -0.299555544390012  best_b: -15.38442135112376 , and the loss is : 845615.3446980835\n",
      "When time is : 478, get best_k: -0.19955554439001197  best_b: -15.284421351123761 , and the loss is : 816076.947275711\n",
      "When time is : 479, get best_k: -0.09955554439001196  best_b: -15.184421351123762 , and the loss is : 787080.5628182763\n",
      "When time is : 480, get best_k: 0.00044445560998804257  best_b: -15.084421351123762 , and the loss is : 758626.1913257833\n",
      "When time is : 481, get best_k: 0.10044445560998805  best_b: -14.984421351123762 , and the loss is : 730713.832798229\n",
      "When time is : 482, get best_k: 0.20044445560998805  best_b: -14.884421351123763 , and the loss is : 703343.4872356153\n",
      "When time is : 483, get best_k: 0.30044445560998806  best_b: -14.784421351123763 , and the loss is : 676515.1546379427\n",
      "When time is : 484, get best_k: 0.4004444556099881  best_b: -14.684421351123763 , and the loss is : 650228.8350052091\n",
      "When time is : 485, get best_k: 0.5004444556099881  best_b: -14.584421351123764 , and the loss is : 624484.5283374151\n",
      "When time is : 486, get best_k: 0.600444455609988  best_b: -14.484421351123764 , and the loss is : 599282.2346345605\n",
      "When time is : 487, get best_k: 0.700444455609988  best_b: -14.384421351123764 , and the loss is : 574621.953896647\n",
      "When time is : 488, get best_k: 0.800444455609988  best_b: -14.284421351123765 , and the loss is : 550503.6861236738\n",
      "When time is : 489, get best_k: 0.900444455609988  best_b: -14.184421351123765 , and the loss is : 526927.4313156399\n",
      "When time is : 490, get best_k: 1.000444455609988  best_b: -14.084421351123765 , and the loss is : 503893.18947254703\n",
      "When time is : 491, get best_k: 1.1004444556099882  best_b: -13.984421351123766 , and the loss is : 481400.96059439325\n",
      "When time is : 492, get best_k: 1.2004444556099882  best_b: -13.884421351123766 , and the loss is : 459450.7446811795\n",
      "When time is : 493, get best_k: 1.3004444556099883  best_b: -13.784421351123767 , and the loss is : 438042.54173290555\n",
      "When time is : 494, get best_k: 1.4004444556099884  best_b: -13.684421351123767 , and the loss is : 417176.351749572\n",
      "When time is : 495, get best_k: 1.5004444556099885  best_b: -13.584421351123767 , and the loss is : 396852.1747311784\n",
      "When time is : 496, get best_k: 1.6004444556099886  best_b: -13.484421351123768 , and the loss is : 377070.01067772467\n",
      "When time is : 497, get best_k: 1.7004444556099887  best_b: -13.384421351123768 , and the loss is : 357829.8595892111\n",
      "When time is : 498, get best_k: 1.8004444556099888  best_b: -13.284421351123768 , and the loss is : 339131.72146563727\n",
      "When time is : 499, get best_k: 1.9004444556099889  best_b: -13.184421351123769 , and the loss is : 320975.59630700387\n"
     ]
    }
   ],
   "source": [
    "try_times = 500\n",
    "\n",
    "min_loss = float('inf')\n",
    "\n",
    "best_k = random.random() * 200 - 100\n",
    "best_b = random.random() * 200 - 100\n",
    "\n",
    "direction = [\n",
    "    (+1, -1),  # first element: k's change direction, second element; b's change direction\n",
    "    (+1, +1),\n",
    "    (-1, -1),\n",
    "    (-1, +1)\n",
    "]\n",
    "\n",
    "current_direction = random.choice(direction)\n",
    "\n",
    "scalar = 0.1\n",
    "\n",
    "for i in range(try_times):\n",
    "    \n",
    "    k_direction, b_direction = current_direction\n",
    "    current_k, current_b = best_k + k_direction * scalar, best_b + b_direction * scalar\n",
    "\n",
    "    price_by_k_and_b = [price(r, current_k, current_b) for r in x_rm]\n",
    "    \n",
    "    current_loss = loss(y, price_by_k_and_b)\n",
    "    \n",
    "    if current_loss < min_loss:\n",
    "        min_loss = current_loss\n",
    "        best_k, best_b = current_k, current_b\n",
    "        \n",
    "        next_direction = current_direction\n",
    "        print('When time is : {}, get best_k: {}  best_b: {} , and the loss is : {}'.format(i, best_k, best_b, current_loss))\n",
    "        \n",
    "    else:\n",
    "        next_direction = random.choice(direction)\n",
    "        \n",
    "        \n",
    "        \n",
    "        \n",
    "        "
   ]
  }
 ],
 "metadata": {
  "kernelspec": {
   "display_name": "Python 3",
   "language": "python",
   "name": "python3"
  },
  "language_info": {
   "codemirror_mode": {
    "name": "ipython",
    "version": 3
   },
   "file_extension": ".py",
   "mimetype": "text/x-python",
   "name": "python",
   "nbconvert_exporter": "python",
   "pygments_lexer": "ipython3",
   "version": "3.6.9"
  },
  "pycharm": {
   "stem_cell": {
    "cell_type": "raw",
    "metadata": {
     "collapsed": false
    },
    "source": []
   }
  }
 },
 "nbformat": 4,
 "nbformat_minor": 1
}
