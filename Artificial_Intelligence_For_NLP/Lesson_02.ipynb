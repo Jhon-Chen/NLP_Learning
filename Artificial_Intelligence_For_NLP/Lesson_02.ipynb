{
 "cells": [
  {
   "cell_type": "markdown",
   "metadata": {
    "collapsed": true,
    "pycharm": {
     "name": "#%% md\n"
    }
   },
   "source": [
    "## Previous Course\n",
    "1. What's the language model? OOV problem?\n",
    "2. Syntax Tree. lambda\n",
    "\n",
    "$$ pr(word) $$\n",
    "\n",
    "## Out of vocabulary(OOV)\n",
    "求一个词的概率，但是这个词没有出现，有很多的解法，如下是一种：\n",
    "\n",
    "`pr(w_0) = constant < pr(w_1)`\n",
    "\n",
    "## Language Model: Smooth"
   ]
  },
  {
   "cell_type": "markdown",
   "metadata": {
    "pycharm": {
     "name": "#%% md\n"
    }
   },
   "source": [
    "## Problem Solving: Search Based\n",
    "1. Map Application\n",
    "2. Decision System\n",
    "3. Expert System\n",
    "\n",
    "*Online Programming*"
   ]
  },
  {
   "cell_type": "markdown",
   "metadata": {
    "pycharm": {
     "name": "#%% md\n"
    }
   },
   "source": [
    "## Search Policy"
   ]
  },
  {
   "cell_type": "code",
   "execution_count": 139,
   "metadata": {
    "pycharm": {
     "is_executing": false,
     "name": "#%%\n"
    }
   },
   "outputs": [],
   "source": [
    "coordination_source = \"\"\"\n",
    "{name:'兰州', geoCoord:[103.73, 36.03]},\n",
    "{name:'嘉峪关', geoCoord:[98.17, 39.47]},\n",
    "{name:'西宁', geoCoord:[101.74, 36.56]},\n",
    "{name:'成都', geoCoord:[104.06, 30.67]},\n",
    "{name:'石家庄', geoCoord:[114.48, 38.03]},\n",
    "{name:'拉萨', geoCoord:[102.73, 25.04]},\n",
    "{name:'贵阳', geoCoord:[106.71, 26.57]},\n",
    "{name:'武汉', geoCoord:[114.31, 30.52]},\n",
    "{name:'郑州', geoCoord:[113.65, 34.76]},\n",
    "{name:'济南', geoCoord:[117, 36.65]},\n",
    "{name:'南京', geoCoord:[118.78, 32.04]},\n",
    "{name:'合肥', geoCoord:[117.27, 31.86]},\n",
    "{name:'杭州', geoCoord:[120.19, 30.26]},\n",
    "{name:'南昌', geoCoord:[115.89, 28.68]},\n",
    "{name:'福州', geoCoord:[119.3, 26.08]},\n",
    "{name:'广州', geoCoord:[113.23, 23.16]},\n",
    "{name:'长沙', geoCoord:[113, 28.21]},\n",
    "//{name:'海口', geoCoord:[110.35, 20.02]},\n",
    "{name:'沈阳', geoCoord:[123.38, 41.8]},\n",
    "{name:'长春', geoCoord:[125.35, 43.88]},\n",
    "{name:'哈尔滨', geoCoord:[126.63, 45.75]},\n",
    "{name:'太原', geoCoord:[112.53, 37.87]},\n",
    "{name:'西安', geoCoord:[108.95, 34.27]},\n",
    "//{name:'台湾', geoCoord:[121.30, 25.03]},\n",
    "{name:'北京', geoCoord:[116.46, 39.92]},\n",
    "{name:'上海', geoCoord:[121.48, 31.22]},\n",
    "{name:'重庆', geoCoord:[106.54, 29.59]},\n",
    "{name:'天津', geoCoord:[117.2, 39.13]},\n",
    "{name:'呼和浩特', geoCoord:[111.65, 40.82]},\n",
    "{name:'南宁', geoCoord:[108.33, 22.84]},\n",
    "//{name:'西藏', geoCoord:[91.11, 29.97]},\n",
    "{name:'银川', geoCoord:[106.27, 38.47]},\n",
    "{name:'乌鲁木齐', geoCoord:[87.68, 43.77]},\n",
    "{name:'香港', geoCoord:[114.17, 22.28]},\n",
    "{name:'澳门', geoCoord:[113.54, 22.19]}\n",
    "\"\"\""
   ]
  },
  {
   "cell_type": "code",
   "execution_count": 140,
   "metadata": {
    "pycharm": {
     "is_executing": false,
     "name": "#%%\n"
    }
   },
   "outputs": [],
   "source": [
    "city_location = {\n",
    "    '香港' : (114.17, 22.28)\n",
    "}"
   ]
  },
  {
   "cell_type": "markdown",
   "metadata": {
    "pycharm": {
     "is_executing": false,
     "name": "#%% md\n"
    }
   },
   "source": [
    "## 要注意正则表达式的使用"
   ]
  },
  {
   "cell_type": "code",
   "execution_count": 141,
   "metadata": {
    "pycharm": {
     "is_executing": false,
     "name": "#%%\n"
    }
   },
   "outputs": [],
   "source": [
    "test_string = \"{name:'兰州', geoCoord:[103.73, 36.03]}\""
   ]
  },
  {
   "cell_type": "code",
   "execution_count": 142,
   "metadata": {
    "pycharm": {
     "is_executing": false,
     "name": "#%%\n"
    }
   },
   "outputs": [],
   "source": [
    "# 导入正则模块\n",
    "import re"
   ]
  },
  {
   "cell_type": "code",
   "execution_count": 143,
   "metadata": {
    "pycharm": {
     "is_executing": false,
     "name": "#%%\n"
    }
   },
   "outputs": [],
   "source": [
    "# 注意这里的[]需要用\\转义\n",
    "pattern = re.compile(r\"name:'(\\w+)',\\s+geoCoord:\\[(\\d+.?\\d+),\\s(\\d+.?\\d+)\\]\")"
   ]
  },
  {
   "cell_type": "code",
   "execution_count": 144,
   "metadata": {
    "pycharm": {
     "is_executing": false,
     "name": "#%%\n"
    }
   },
   "outputs": [],
   "source": [
    "for line in coordination_source.split('\\n'):\n",
    "    city_info = pattern.findall(line)\n",
    "    if not city_info: continue\n",
    "    \n",
    "    # following we find the city info\n",
    "    \n",
    "    city, long, lat = city_info[0]\n",
    "    \n",
    "    # 要注意正则匹配出的结果都是字符串格式 \n",
    "    long, lat = float(long), float(lat)\n",
    "    \n",
    "    city_location[city] = (long, lat)\n"
   ]
  },
  {
   "cell_type": "code",
   "execution_count": 145,
   "metadata": {
    "pycharm": {
     "is_executing": false,
     "name": "#%%\n"
    }
   },
   "outputs": [
    {
     "data": {
      "text/plain": [
       "{'香港': (114.17, 22.28),\n",
       " '兰州': (103.73, 36.03),\n",
       " '嘉峪关': (98.17, 39.47),\n",
       " '西宁': (101.74, 36.56),\n",
       " '成都': (104.06, 30.67),\n",
       " '石家庄': (114.48, 38.03),\n",
       " '拉萨': (102.73, 25.04),\n",
       " '贵阳': (106.71, 26.57),\n",
       " '武汉': (114.31, 30.52),\n",
       " '郑州': (113.65, 34.76),\n",
       " '济南': (117.0, 36.65),\n",
       " '南京': (118.78, 32.04),\n",
       " '合肥': (117.27, 31.86),\n",
       " '杭州': (120.19, 30.26),\n",
       " '南昌': (115.89, 28.68),\n",
       " '福州': (119.3, 26.08),\n",
       " '广州': (113.23, 23.16),\n",
       " '长沙': (113.0, 28.21),\n",
       " '海口': (110.35, 20.02),\n",
       " '沈阳': (123.38, 41.8),\n",
       " '长春': (125.35, 43.88),\n",
       " '哈尔滨': (126.63, 45.75),\n",
       " '太原': (112.53, 37.87),\n",
       " '西安': (108.95, 34.27),\n",
       " '台湾': (121.3, 25.03),\n",
       " '北京': (116.46, 39.92),\n",
       " '上海': (121.48, 31.22),\n",
       " '重庆': (106.54, 29.59),\n",
       " '天津': (117.2, 39.13),\n",
       " '呼和浩特': (111.65, 40.82),\n",
       " '南宁': (108.33, 22.84),\n",
       " '西藏': (91.11, 29.97),\n",
       " '银川': (106.27, 38.47),\n",
       " '乌鲁木齐': (87.68, 43.77),\n",
       " '澳门': (113.54, 22.19)}"
      ]
     },
     "execution_count": 145,
     "metadata": {},
     "output_type": "execute_result"
    }
   ],
   "source": [
    "city_location"
   ]
  },
  {
   "cell_type": "code",
   "execution_count": 146,
   "metadata": {
    "pycharm": {
     "is_executing": false,
     "name": "#%%\n"
    }
   },
   "outputs": [],
   "source": [
    "import math\n",
    "# 导入数学计算模块，以下是通过经纬度计算两城市之间距离的算法，暂无需掌握"
   ]
  },
  {
   "cell_type": "code",
   "execution_count": 147,
   "metadata": {
    "pycharm": {
     "is_executing": false,
     "name": "#%%\n"
    }
   },
   "outputs": [],
   "source": [
    "def geo_distance(origin, destination):\n",
    "    \"\"\"\n",
    "    Calculate the Haversine distance.\n",
    "\n",
    "    Parameters\n",
    "    ----------\n",
    "    origin : tuple of float\n",
    "        (lat, long)\n",
    "    destination : tuple of float\n",
    "        (lat, long)\n",
    "\n",
    "    Returns\n",
    "    -------\n",
    "    distance_in_km : float\n",
    "\n",
    "    Examples\n",
    "    --------\n",
    "    >>> origin = (48.1372, 11.5756)  # Munich\n",
    "    >>> destination = (52.5186, 13.4083)  # Berlin\n",
    "    >>> round(distance(origin, destination), 1)\n",
    "    504.2\n",
    "    \"\"\"\n",
    "    lat1, lon1 = origin\n",
    "    lat2, lon2 = destination\n",
    "    radius = 6371  # km\n",
    "\n",
    "    dlat = math.radians(lat2 - lat1)\n",
    "    dlon = math.radians(lon2 - lon1)\n",
    "    a = (math.sin(dlat / 2) * math.sin(dlat / 2) +\n",
    "         math.cos(math.radians(lat1)) * math.cos(math.radians(lat2)) *\n",
    "         math.sin(dlon / 2) * math.sin(dlon / 2))\n",
    "    c = 2 * math.atan2(math.sqrt(a), math.sqrt(1 - a))\n",
    "    d = radius * c\n",
    "\n",
    "    return d"
   ]
  },
  {
   "cell_type": "code",
   "execution_count": 148,
   "metadata": {
    "pycharm": {
     "is_executing": false,
     "name": "#%%\n"
    }
   },
   "outputs": [],
   "source": [
    "def get_geo_distance(city1, city2):\n",
    "    return geo_distance(city_location[city1], city_location[city2])"
   ]
  },
  {
   "cell_type": "code",
   "execution_count": 149,
   "metadata": {
    "pycharm": {
     "is_executing": false,
     "name": "#%%\n"
    }
   },
   "outputs": [
    {
     "data": {
      "text/plain": [
       "1719.4501542708233"
      ]
     },
     "execution_count": 149,
     "metadata": {},
     "output_type": "execute_result"
    }
   ],
   "source": [
    "get_geo_distance('上海', '银川')"
   ]
  },
  {
   "cell_type": "code",
   "execution_count": 150,
   "metadata": {
    "pycharm": {
     "is_executing": false,
     "name": "#%%\n"
    }
   },
   "outputs": [],
   "source": [
    "import networkx as nx"
   ]
  },
  {
   "cell_type": "code",
   "execution_count": 151,
   "metadata": {
    "pycharm": {
     "is_executing": false,
     "name": "#%%\n"
    }
   },
   "outputs": [],
   "source": [
    "city_graph = nx.Graph()"
   ]
  },
  {
   "cell_type": "code",
   "execution_count": 152,
   "metadata": {
    "pycharm": {
     "is_executing": false,
     "name": "#%%\n"
    }
   },
   "outputs": [],
   "source": [
    "city_graph.add_nodes_from(city_location.keys())"
   ]
  },
  {
   "cell_type": "code",
   "execution_count": 153,
   "metadata": {
    "pycharm": {
     "is_executing": false,
     "name": "#%%\n"
    }
   },
   "outputs": [
    {
     "data": {
      "image/png": "[encoded data removed]",
      "text/plain": [
       "<Figure size 432x288 with 1 Axes>"
      ]
     },
     "metadata": {},
     "output_type": "display_data"
    }
   ],
   "source": [
    "%matplotlib inline\n",
    "\n",
    "nx.draw(city_graph, city_location, with_labels=True, node_size=20)"
   ]
  },
  {
   "cell_type": "code",
   "execution_count": 154,
   "metadata": {
    "pycharm": {
     "is_executing": false,
     "name": "#%%\n"
    }
   },
   "outputs": [],
   "source": [
    "from collections import defaultdict\n",
    "\n",
    "simple_connection_info = {\n",
    "    '北京': ['太原', '沈阳'],\n",
    "    '太原': ['北京', '西安', '郑州'],\n",
    "    '兰州': ['西安'],\n",
    "    '西安': ['兰州', '长沙'],\n",
    "    '长沙': ['福州', '南宁'],\n",
    "    '沈阳': ['北京'],\n",
    "    '郑州': ['太原']\n",
    "}\n",
    "\n",
    "simple_connection_info_bfs = defaultdict(list)\n",
    "simple_connection_info_bfs.update(simple_connection_info)\n"
   ]
  },
  {
   "cell_type": "code",
   "execution_count": 155,
   "metadata": {
    "pycharm": {
     "is_executing": false,
     "name": "#%%\n"
    }
   },
   "outputs": [
    {
     "data": {
      "image/png": "[encoded data removed]",
      "text/plain": [
       "<Figure size 432x288 with 1 Axes>"
      ]
     },
     "metadata": {},
     "output_type": "display_data"
    }
   ],
   "source": [
    "nx.draw(nx.Graph(simple_connection_info), city_location, with_labels=True)"
   ]
  },
  {
   "cell_type": "code",
   "execution_count": 156,
   "metadata": {
    "pycharm": {
     "is_executing": false,
     "name": "#%%\n"
    }
   },
   "outputs": [],
   "source": [
    "def search(start, destination, connection_graph):\n",
    "    \"\"\"connection_graph: 以字典方式储存的图的邻接表？(存储了以上的simple_connection_info这种信息)\"\"\"\n",
    "    pathes = [[start]]\n",
    "    \n",
    "    visited = set()\n",
    "    while pathes: # if we find existing pathes\n",
    "        path = pathes.pop(0)\n",
    "        froninter = path[-1]\n",
    "        \n",
    "        if froninter in visited: continue\n",
    "        successors = connection_graph[froninter]\n",
    "        \n",
    "        for city in successors:\n",
    "            if city in path: continue # eliminate loop\n",
    "            new_path = path + [city] \n",
    "            pathes.append(new_path)\n",
    "            \n",
    "            if city == destination: return new_path\n",
    "            \n",
    "        visited.add(froninter)"
   ]
  },
  {
   "cell_type": "code",
   "execution_count": 157,
   "metadata": {
    "pycharm": {
     "is_executing": false,
     "name": "#%%\n"
    }
   },
   "outputs": [
    {
     "data": {
      "text/plain": [
       "['兰州', '西安', '长沙', '福州']"
      ]
     },
     "execution_count": 157,
     "metadata": {},
     "output_type": "execute_result"
    }
   ],
   "source": [
    "search('兰州', '福州', simple_connection_info)"
   ]
  },
  {
   "cell_type": "markdown",
   "metadata": {},
   "source": [
    "## 注意，要回顾数据结构的图的BFS和DFS搜索算法原理"
   ]
  },
  {
   "cell_type": "code",
   "execution_count": 158,
   "metadata": {
    "pycharm": {
     "is_executing": false,
     "name": "#%%\n"
    }
   },
   "outputs": [],
   "source": [
    "def pretty_print(cities):\n",
    "    print('-汽车--->'.join(cities))"
   ]
  },
  {
   "cell_type": "code",
   "execution_count": 159,
   "metadata": {
    "pycharm": {
     "is_executing": false,
     "name": "#%%\n"
    }
   },
   "outputs": [
    {
     "name": "stdout",
     "output_type": "stream",
     "text": [
      "兰州-汽车--->西安-汽车--->长沙-汽车--->福州\n"
     ]
    }
   ],
   "source": [
    "pretty_print(search('兰州', '福州', simple_connection_info))"
   ]
  },
  {
   "cell_type": "code",
   "execution_count": 160,
   "metadata": {
    "pycharm": {
     "is_executing": false,
     "name": "#%% \n"
    }
   },
   "outputs": [],
   "source": [
    "def bfs(graph, start):\n",
    "    \"\"\"breadth-first-search\"\"\"\n",
    "    visited = [start]\n",
    "    seen = set()\n",
    "    while visited:\n",
    "        froninter = visited.pop()\n",
    "        if froninter in seen: continue\n",
    "        for successor in graph[froninter]:\n",
    "            print(successor)\n",
    "            visited.append(successor)\n",
    "        seen.add(froninter)\n",
    "    return seen\n",
    "        "
   ]
  },
  {
   "cell_type": "code",
   "execution_count": 161,
   "metadata": {
    "pycharm": {
     "is_executing": false,
     "name": "#%%\n"
    }
   },
   "outputs": [
    {
     "name": "stdout",
     "output_type": "stream",
     "text": [
      "太原\n",
      "沈阳\n",
      "北京\n",
      "北京\n",
      "西安\n",
      "郑州\n",
      "太原\n",
      "兰州\n",
      "长沙\n",
      "福州\n",
      "南宁\n",
      "西安\n"
     ]
    },
    {
     "data": {
      "text/plain": [
       "{'兰州', '北京', '南宁', '太原', '沈阳', '福州', '西安', '郑州', '长沙'}"
      ]
     },
     "execution_count": 161,
     "metadata": {},
     "output_type": "execute_result"
    }
   ],
   "source": [
    "bfs(simple_connection_info_bfs, '北京')"
   ]
  },
  {
   "cell_type": "code",
   "execution_count": 162,
   "metadata": {
    "pycharm": {
     "is_executing": false,
     "name": "#%%\n"
    }
   },
   "outputs": [],
   "source": [
    "def dfs(graph, start):\n",
    "    \"\"\"depth-first-search\"\"\"\n",
    "    visited = [start]\n",
    "    seen = set()\n",
    "    while visited:\n",
    "        froninter = visited.pop()\n",
    "        if froninter in seen: continue\n",
    "        for successor in graph[froninter]:\n",
    "            print(successor)\n",
    "            # visited.append(successor)\n",
    "            \n",
    "            visited = [successor] + visited\n",
    "            \n",
    "        seen.add(froninter)\n",
    "    return seen                    \n",
    "                    "
   ]
  },
  {
   "cell_type": "markdown",
   "metadata": {
    "pycharm": {
     "name": "#%% md\n"
    }
   },
   "source": [
    "### 网络爬虫 + 正则"
   ]
  },
  {
   "cell_type": "code",
   "execution_count": 163,
   "metadata": {
    "pycharm": {
     "is_executing": false,
     "name": "#%%\n"
    }
   },
   "outputs": [],
   "source": [
    "import requests\n",
    "\n",
    "url = 'https://movie.douban.com/subject/26931786/?from=showing'\n",
    "response = requests.get(url)\n",
    "\n",
    "what_we_want = r'<a href=\"https://(movie\\.douban\\.com/subject/\\d+/\\?from=subject-page)\" class=\"\" '\n",
    "\n",
    "pattern = re.compile(what_we_want)\n",
    "\n",
    "likes = pattern.findall(response.text)\n",
    "\n",
    "for like in likes:\n",
    "    print(like)"
   ]
  },
  {
   "cell_type": "markdown",
   "metadata": {
    "pycharm": {
     "name": "#%% md\n"
    }
   },
   "source": [
    "## Machine Learning"
   ]
  },
  {
   "cell_type": "code",
   "execution_count": 164,
   "metadata": {
    "pycharm": {
     "is_executing": false,
     "name": "#%%\n"
    }
   },
   "outputs": [],
   "source": [
    "from sklearn.datasets import load_boston\n",
    "\n",
    "data = load_boston()"
   ]
  },
  {
   "cell_type": "code",
   "execution_count": 165,
   "metadata": {
    "pycharm": {
     "is_executing": false,
     "name": "#%%\n"
    }
   },
   "outputs": [],
   "source": [
    "x, y = data['data'], data['target']"
   ]
  },
  {
   "cell_type": "code",
   "execution_count": 166,
   "metadata": {
    "pycharm": {
     "is_executing": false,
     "name": "#%%\n"
    }
   },
   "outputs": [
    {
     "data": {
      "text/plain": [
       "array([2.7310e-02, 0.0000e+00, 7.0700e+00, 0.0000e+00, 4.6900e-01,\n",
       "       6.4210e+00, 7.8900e+01, 4.9671e+00, 2.0000e+00, 2.4200e+02,\n",
       "       1.7800e+01, 3.9690e+02, 9.1400e+00])"
      ]
     },
     "execution_count": 166,
     "metadata": {},
     "output_type": "execute_result"
    }
   ],
   "source": [
    "x[1]"
   ]
  },
  {
   "cell_type": "code",
   "execution_count": 167,
   "metadata": {
    "pycharm": {
     "is_executing": false,
     "name": "#%%\n"
    }
   },
   "outputs": [
    {
     "data": {
      "text/plain": [
       "21.6"
      ]
     },
     "execution_count": 167,
     "metadata": {},
     "output_type": "execute_result"
    }
   ],
   "source": [
    "y[1]"
   ]
  },
  {
   "cell_type": "code",
   "execution_count": 168,
   "metadata": {
    "pycharm": {
     "is_executing": false,
     "name": "#%%\n"
    }
   },
   "outputs": [
    {
     "data": {
      "text/plain": [
       "506"
      ]
     },
     "execution_count": 168,
     "metadata": {},
     "output_type": "execute_result"
    }
   ],
   "source": [
    "len(x[:, 0])"
   ]
  },
  {
   "cell_type": "code",
   "execution_count": 169,
   "metadata": {
    "pycharm": {
     "is_executing": false,
     "name": "#%%\n"
    }
   },
   "outputs": [
    {
     "data": {
      "text/plain": [
       "506"
      ]
     },
     "execution_count": 169,
     "metadata": {},
     "output_type": "execute_result"
    }
   ],
   "source": [
    "len(y)"
   ]
  },
  {
   "cell_type": "code",
   "execution_count": 170,
   "metadata": {
    "pycharm": {
     "is_executing": false,
     "name": "#%%\n"
    }
   },
   "outputs": [],
   "source": [
    "%matplotlib inline\n",
    "\n",
    "import matplotlib.pyplot as plt"
   ]
  },
  {
   "cell_type": "code",
   "execution_count": 171,
   "metadata": {
    "pycharm": {
     "is_executing": false,
     "name": "#%%\n"
    }
   },
   "outputs": [],
   "source": [
    "def draw_rm_and_price():\n",
    "    plt.scatter(x[:, 5], y)"
   ]
  },
  {
   "cell_type": "code",
   "execution_count": 172,
   "metadata": {
    "pycharm": {
     "is_executing": false,
     "name": "#%%\n"
    }
   },
   "outputs": [
    {
     "data": {
      "image/png": "[encoded data removed]",
      "text/plain": [
       "<Figure size 432x288 with 1 Axes>"
      ]
     },
     "metadata": {
      "needs_background": "light"
     },
     "output_type": "display_data"
    }
   ],
   "source": [
    "draw_rm_and_price()"
   ]
  },
  {
   "cell_type": "code",
   "execution_count": 173,
   "metadata": {
    "pycharm": {
     "is_executing": false,
     "name": "#%%\n"
    }
   },
   "outputs": [],
   "source": [
    "import random"
   ]
  },
  {
   "cell_type": "code",
   "execution_count": 174,
   "metadata": {
    "pycharm": {
     "is_executing": false,
     "name": "#%%\n"
    }
   },
   "outputs": [],
   "source": [
    "def price(rm, k, b):\n",
    "    \"\"\"f(x) = kx + b\"\"\"\n",
    "    return k * rm + b"
   ]
  },
  {
   "cell_type": "code",
   "execution_count": 175,
   "metadata": {
    "pycharm": {
     "is_executing": false,
     "name": "#%%\n"
    }
   },
   "outputs": [],
   "source": [
    "k = random.randint(-100, 100)\n",
    "b = random.randint(-100, 100)\n",
    "x_rm = x[:, 5]"
   ]
  },
  {
   "cell_type": "code",
   "execution_count": 176,
   "metadata": {
    "pycharm": {
     "is_executing": false,
     "name": "#%%\n"
    }
   },
   "outputs": [],
   "source": [
    "price_by_random_k_and_b = [price(r, k, b) for r in x_rm]"
   ]
  },
  {
   "cell_type": "code",
   "execution_count": 177,
   "metadata": {
    "pycharm": {
     "is_executing": false,
     "name": "#%%\n"
    }
   },
   "outputs": [
    {
     "data": {
      "text/plain": [
       "<matplotlib.collections.PathCollection at 0x1b72a504ba8>"
      ]
     },
     "execution_count": 177,
     "metadata": {},
     "output_type": "execute_result"
    },
    {
     "data": {
      "image/png": "[encoded data removed]",
      "text/plain": [
       "<Figure size 432x288 with 1 Axes>"
      ]
     },
     "metadata": {
      "needs_background": "light"
     },
     "output_type": "display_data"
    }
   ],
   "source": [
    "plt.scatter(x_rm, price_by_random_k_and_b)"
   ]
  },
  {
   "cell_type": "code",
   "execution_count": 178,
   "metadata": {
    "pycharm": {
     "is_executing": false,
     "name": "#%%\n"
    }
   },
   "outputs": [],
   "source": [
    "def loss(y, y_hat):  # to evaluate the performance\n",
    "     return sum((y_i - y_hat_i)**2 for y_i, y_hat_i in zip(list(y), list(y_hat)))\n",
    "    "
   ]
  },
  {
   "cell_type": "code",
   "execution_count": 179,
   "metadata": {
    "pycharm": {
     "is_executing": false,
     "name": "#%%\n"
    }
   },
   "outputs": [
    {
     "data": {
      "text/plain": [
       "6"
      ]
     },
     "execution_count": 179,
     "metadata": {},
     "output_type": "execute_result"
    }
   ],
   "source": [
    "loss([1, 1, 1], [2, 2, 3])"
   ]
  },
  {
   "cell_type": "markdown",
   "metadata": {
    "pycharm": {
     "name": "#%% md\n"
    }
   },
   "source": [
    "$$ loss = \\frac{1}{n} \\sum{(y_i - \\hat{y_i})} $$\n"
   ]
  },
  {
   "cell_type": "markdown",
   "metadata": {
    "pycharm": {
     "is_executing": false,
     "name": "#%% md\n"
    }
   },
   "source": [
    "First-Method: Random generation: get best k and best"
   ]
  },
  {
   "cell_type": "code",
   "execution_count": 180,
   "metadata": {
    "pycharm": {
     "is_executing": false,
     "name": "#%%\n"
    }
   },
   "outputs": [
    {
     "name": "stdout",
     "output_type": "stream",
     "text": [
      "Get best_k: -8 best_b: 48, and the loss is : 406437.06940800056\n",
      "Get best_k: 18 best_b: -72, and the loss is : 216678.97842799997\n",
      "Get best_k: 8 best_b: -12, and the loss is : 147792.9862079999\n",
      "Get best_k: 6 best_b: -20, and the loss is : 36240.94569199997\n",
      "Get best_k: 3 best_b: 6, and the loss is : 34070.958622999984\n",
      "Get best_k: 8 best_b: -26, and the loss is : 23904.186207999985\n",
      "Get best_k: 9 best_b: -35, and the loss is : 22541.651207\n"
     ]
    }
   ],
   "source": [
    "try_times = 100\n",
    "\n",
    "min_loss = float('inf')\n",
    "best_k, best_b = None, None\n",
    "\n",
    "for i in range(10000):\n",
    "    k = random.randint(-100, 100)\n",
    "    b = random.randint(-100, 100)\n",
    "    price_by_random_k_and_b = [price(r, k, b) for r in x_rm]\n",
    "    \n",
    "    current_loss = loss(y, price_by_random_k_and_b)\n",
    "    \n",
    "    if current_loss < min_loss:\n",
    "        min_loss = current_loss\n",
    "        best_k, best_b = k, b\n",
    "        print('Get best_k: {} best_b: {}, and the loss is : {}'.format(best_k, best_b, min_loss))"
   ]
  },
  {
   "cell_type": "markdown",
   "metadata": {
    "pycharm": {
     "is_executing": false,
     "name": "#%% md\n"
    }
   },
   "source": [
    "## 2nd-Method: Direction Adjusting"
   ]
  },
  {
   "cell_type": "code",
   "execution_count": 195,
   "metadata": {
    "pycharm": {
     "is_executing": false,
     "name": "#%%\n"
    }
   },
   "outputs": [
    {
     "name": "stdout",
     "text": [
      "When time is : 0, get best_k: 42.53036705620007  best_b: -44.390876772852174 , and the loss is : 20614411.827084962\n",
      "When time is : 1, get best_k: 42.43036705620007  best_b: -44.490876772852175 , and the loss is : 20465306.641163263\n",
      "When time is : 2, get best_k: 42.33036705620007  best_b: -44.59087677285218 , and the loss is : 20316743.468206454\n",
      "When time is : 3, get best_k: 42.230367056200066  best_b: -44.69087677285218 , and the loss is : 20168722.30821465\n",
      "When time is : 4, get best_k: 42.130367056200065  best_b: -44.79087677285218 , and the loss is : 20021243.16118775\n",
      "When time is : 5, get best_k: 42.03036705620006  best_b: -44.89087677285218 , and the loss is : 19874306.027125813\n",
      "When time is : 6, get best_k: 41.93036705620006  best_b: -44.99087677285218 , and the loss is : 19727910.90602879\n",
      "When time is : 7, get best_k: 41.83036705620006  best_b: -45.090876772852184 , and the loss is : 19582057.797896728\n",
      "When time is : 8, get best_k: 41.73036705620006  best_b: -45.190876772852185 , and the loss is : 19436746.702729605\n",
      "When time is : 9, get best_k: 41.63036705620006  best_b: -45.29087677285219 , and the loss is : 19291977.620527387\n",
      "When time is : 10, get best_k: 41.530367056200056  best_b: -45.39087677285219 , and the loss is : 19147750.551290162\n",
      "When time is : 11, get best_k: 41.430367056200055  best_b: -45.49087677285219 , and the loss is : 19004065.495017834\n",
      "When time is : 12, get best_k: 41.33036705620005  best_b: -45.59087677285219 , and the loss is : 18860922.451710466\n",
      "When time is : 13, get best_k: 41.23036705620005  best_b: -45.69087677285219 , and the loss is : 18718321.421368036\n",
      "When time is : 14, get best_k: 41.13036705620005  best_b: -45.790876772852194 , and the loss is : 18576262.403990548\n",
      "When time is : 15, get best_k: 41.03036705620005  best_b: -45.890876772852195 , and the loss is : 18434745.399578005\n",
      "When time is : 16, get best_k: 40.93036705620005  best_b: -45.9908767728522 , and the loss is : 18293770.408130378\n",
      "When time is : 17, get best_k: 40.830367056200046  best_b: -46.0908767728522 , and the loss is : 18153337.429647688\n",
      "When time is : 18, get best_k: 40.730367056200045  best_b: -46.1908767728522 , and the loss is : 18013446.464129988\n",
      "When time is : 19, get best_k: 40.63036705620004  best_b: -46.2908767728522 , and the loss is : 17874097.511577196\n",
      "When time is : 20, get best_k: 40.53036705620004  best_b: -46.3908767728522 , and the loss is : 17735290.57198935\n",
      "When time is : 21, get best_k: 40.43036705620004  best_b: -46.490876772852204 , and the loss is : 17597025.645366438\n",
      "When time is : 22, get best_k: 40.33036705620004  best_b: -46.590876772852205 , and the loss is : 17459302.731708486\n",
      "When time is : 23, get best_k: 40.23036705620004  best_b: -46.69087677285221 , and the loss is : 17322121.83101545\n",
      "When time is : 24, get best_k: 40.130367056200036  best_b: -46.79087677285221 , and the loss is : 17185482.94328735\n",
      "When time is : 25, get best_k: 40.030367056200035  best_b: -46.89087677285221 , and the loss is : 17049386.068524197\n",
      "When time is : 26, get best_k: 39.93036705620003  best_b: -46.99087677285221 , and the loss is : 16913831.206726\n",
      "When time is : 27, get best_k: 39.83036705620003  best_b: -47.09087677285221 , and the loss is : 16778818.3578927\n",
      "When time is : 28, get best_k: 39.73036705620003  best_b: -47.190876772852214 , and the loss is : 16644347.522024378\n",
      "When time is : 29, get best_k: 39.63036705620003  best_b: -47.290876772852215 , and the loss is : 16510418.699121002\n",
      "When time is : 30, get best_k: 39.53036705620003  best_b: -47.39087677285222 , and the loss is : 16377031.889182556\n",
      "When time is : 31, get best_k: 39.430367056200026  best_b: -47.49087677285222 , and the loss is : 16244187.092209022\n",
      "When time is : 32, get best_k: 39.330367056200025  best_b: -47.59087677285222 , and the loss is : 16111884.308200462\n",
      "When time is : 33, get best_k: 39.23036705620002  best_b: -47.69087677285222 , and the loss is : 15980123.537156817\n",
      "When time is : 34, get best_k: 39.13036705620002  best_b: -47.79087677285222 , and the loss is : 15848904.779078146\n",
      "When time is : 35, get best_k: 39.03036705620002  best_b: -47.890876772852224 , and the loss is : 15718228.033964386\n",
      "When time is : 36, get best_k: 38.93036705620002  best_b: -47.990876772852225 , and the loss is : 15588093.301815579\n",
      "When time is : 37, get best_k: 38.83036705620002  best_b: -48.090876772852226 , and the loss is : 15458500.582631707\n",
      "When time is : 38, get best_k: 38.730367056200016  best_b: -48.19087677285223 , and the loss is : 15329449.87641279\n",
      "When time is : 39, get best_k: 38.630367056200015  best_b: -48.29087677285223 , and the loss is : 15200941.183158787\n",
      "When time is : 40, get best_k: 38.530367056200014  best_b: -48.39087677285223 , and the loss is : 15072974.502869733\n",
      "When time is : 41, get best_k: 38.43036705620001  best_b: -48.49087677285223 , and the loss is : 14945549.835545637\n",
      "When time is : 42, get best_k: 38.33036705620001  best_b: -48.59087677285223 , and the loss is : 14818667.181186475\n",
      "When time is : 43, get best_k: 38.23036705620001  best_b: -48.690876772852235 , and the loss is : 14692326.53979223\n",
      "When time is : 44, get best_k: 38.13036705620001  best_b: -48.790876772852236 , and the loss is : 14566527.911362933\n",
      "When time is : 45, get best_k: 38.03036705620001  best_b: -48.89087677285224 , and the loss is : 14441271.29589858\n",
      "When time is : 46, get best_k: 37.930367056200005  best_b: -48.99087677285224 , and the loss is : 14316556.693399183\n",
      "When time is : 47, get best_k: 37.830367056200004  best_b: -49.09087677285224 , and the loss is : 14192384.103864713\n",
      "When time is : 48, get best_k: 37.7303670562  best_b: -49.19087677285224 , and the loss is : 14068753.527295193\n",
      "When time is : 49, get best_k: 37.6303670562  best_b: -49.29087677285224 , and the loss is : 13945664.96369059\n",
      "When time is : 50, get best_k: 37.5303670562  best_b: -49.390876772852245 , and the loss is : 13823118.41305094\n",
      "When time is : 51, get best_k: 37.4303670562  best_b: -49.490876772852246 , and the loss is : 13701113.875376223\n",
      "When time is : 52, get best_k: 37.3303670562  best_b: -49.59087677285225 , and the loss is : 13579651.35066646\n",
      "When time is : 53, get best_k: 37.230367056199995  best_b: -49.69087677285225 , and the loss is : 13458730.838921642\n",
      "When time is : 54, get best_k: 37.130367056199994  best_b: -49.79087677285225 , and the loss is : 13338352.340141753\n",
      "When time is : 55, get best_k: 37.03036705619999  best_b: -49.89087677285225 , and the loss is : 13218515.854326796\n",
      "When time is : 56, get best_k: 36.93036705619999  best_b: -49.99087677285225 , and the loss is : 13099221.381476786\n",
      "When time is : 57, get best_k: 36.83036705619999  best_b: -50.090876772852255 , and the loss is : 12980468.921591712\n",
      "When time is : 58, get best_k: 36.73036705619999  best_b: -50.190876772852256 , and the loss is : 12862258.47467157\n",
      "When time is : 59, get best_k: 36.63036705619999  best_b: -50.29087677285226 , and the loss is : 12744590.040716406\n",
      "When time is : 60, get best_k: 36.530367056199985  best_b: -50.39087677285226 , and the loss is : 12627463.619726133\n",
      "When time is : 61, get best_k: 36.430367056199984  best_b: -50.49087677285226 , and the loss is : 12510879.211700827\n",
      "When time is : 62, get best_k: 36.33036705619998  best_b: -50.59087677285226 , and the loss is : 12394836.816640465\n",
      "When time is : 63, get best_k: 36.23036705619998  best_b: -50.69087677285226 , and the loss is : 12279336.434545033\n",
      "When time is : 64, get best_k: 36.13036705619998  best_b: -50.790876772852265 , and the loss is : 12164378.065414544\n",
      "When time is : 65, get best_k: 36.03036705619998  best_b: -50.890876772852266 , and the loss is : 12049961.709249007\n",
      "When time is : 66, get best_k: 35.93036705619998  best_b: -50.99087677285227 , and the loss is : 11936087.366048386\n",
      "When time is : 67, get best_k: 35.830367056199975  best_b: -51.09087677285227 , and the loss is : 11822755.035812743\n",
      "When time is : 68, get best_k: 35.730367056199974  best_b: -51.19087677285227 , and the loss is : 11709964.718541993\n",
      "When time is : 69, get best_k: 35.63036705619997  best_b: -51.29087677285227 , and the loss is : 11597716.414236203\n",
      "When time is : 70, get best_k: 35.53036705619997  best_b: -51.39087677285227 , and the loss is : 11486010.122895338\n",
      "When time is : 71, get best_k: 35.43036705619997  best_b: -51.490876772852275 , and the loss is : 11374845.844519448\n",
      "When time is : 72, get best_k: 35.33036705619997  best_b: -51.590876772852276 , and the loss is : 11264223.579108471\n",
      "When time is : 73, get best_k: 35.23036705619997  best_b: -51.69087677285228 , and the loss is : 11154143.326662432\n",
      "When time is : 74, get best_k: 35.130367056199965  best_b: -51.79087677285228 , and the loss is : 11044605.087181365\n",
      "When time is : 75, get best_k: 35.030367056199964  best_b: -51.89087677285228 , and the loss is : 10935608.860665202\n",
      "When time is : 76, get best_k: 34.93036705619996  best_b: -51.99087677285228 , and the loss is : 10827154.647113992\n",
      "When time is : 77, get best_k: 34.83036705619996  best_b: -52.09087677285228 , and the loss is : 10719242.446527729\n",
      "When time is : 78, get best_k: 34.73036705619996  best_b: -52.190876772852285 , and the loss is : 10611872.258906396\n",
      "When time is : 79, get best_k: 34.63036705619996  best_b: -52.290876772852286 , and the loss is : 10505044.08425\n",
      "When time is : 80, get best_k: 34.53036705619996  best_b: -52.39087677285229 , and the loss is : 10398757.922558548\n",
      "When time is : 81, get best_k: 34.430367056199955  best_b: -52.49087677285229 , and the loss is : 10293013.773832045\n",
      "When time is : 82, get best_k: 34.330367056199954  best_b: -52.59087677285229 , and the loss is : 10187811.638070468\n",
      "When time is : 83, get best_k: 34.23036705619995  best_b: -52.69087677285229 , and the loss is : 10083151.515273847\n",
      "When time is : 84, get best_k: 34.13036705619995  best_b: -52.79087677285229 , and the loss is : 9979033.40544215\n",
      "When time is : 85, get best_k: 34.03036705619995  best_b: -52.890876772852295 , and the loss is : 9875457.30857541\n",
      "When time is : 86, get best_k: 33.93036705619995  best_b: -52.990876772852296 , and the loss is : 9772423.224673597\n",
      "When time is : 87, get best_k: 33.83036705619995  best_b: -53.0908767728523 , and the loss is : 9669931.153736725\n",
      "When time is : 88, get best_k: 33.730367056199945  best_b: -53.1908767728523 , and the loss is : 9567981.095764786\n",
      "When time is : 89, get best_k: 33.630367056199944  best_b: -53.2908767728523 , and the loss is : 9466573.050757816\n",
      "When time is : 90, get best_k: 33.53036705619994  best_b: -53.3908767728523 , and the loss is : 9365707.018715762\n",
      "When time is : 91, get best_k: 33.43036705619994  best_b: -53.4908767728523 , and the loss is : 9265382.999638654\n",
      "When time is : 92, get best_k: 33.33036705619994  best_b: -53.590876772852305 , and the loss is : 9165600.99352648\n",
      "When time is : 93, get best_k: 33.23036705619994  best_b: -53.690876772852306 , and the loss is : 9066361.000379251\n",
      "When time is : 94, get best_k: 33.13036705619994  best_b: -53.79087677285231 , and the loss is : 8967663.020196961\n",
      "When time is : 95, get best_k: 33.030367056199935  best_b: -53.89087677285231 , and the loss is : 8869507.052979613\n",
      "When time is : 96, get best_k: 32.930367056199934  best_b: -53.99087677285231 , and the loss is : 8771893.098727196\n",
      "When time is : 97, get best_k: 32.83036705619993  best_b: -54.09087677285231 , and the loss is : 8674821.157439735\n",
      "When time is : 98, get best_k: 32.73036705619993  best_b: -54.19087677285231 , and the loss is : 8578291.229117204\n",
      "When time is : 99, get best_k: 32.63036705619993  best_b: -54.290876772852315 , and the loss is : 8482303.313759606\n",
      "When time is : 100, get best_k: 32.53036705619993  best_b: -54.390876772852316 , and the loss is : 8386857.4113669675\n",
      "When time is : 101, get best_k: 32.43036705619993  best_b: -54.49087677285232 , and the loss is : 8291953.521939263\n",
      "When time is : 102, get best_k: 32.330367056199925  best_b: -54.59087677285232 , and the loss is : 8197591.645476494\n",
      "When time is : 103, get best_k: 32.230367056199924  best_b: -54.69087677285232 , and the loss is : 8103771.781978667\n",
      "When time is : 104, get best_k: 32.13036705619992  best_b: -54.79087677285232 , and the loss is : 8010493.931445773\n",
      "When time is : 105, get best_k: 32.03036705619992  best_b: -54.89087677285232 , and the loss is : 7917758.093877835\n",
      "When time is : 106, get best_k: 31.93036705619992  best_b: -54.990876772852324 , and the loss is : 7825564.269274813\n",
      "When time is : 107, get best_k: 31.83036705619992  best_b: -55.090876772852326 , and the loss is : 7733912.457636746\n",
      "When time is : 108, get best_k: 31.730367056199917  best_b: -55.19087677285233 , and the loss is : 7642802.658963617\n",
      "When time is : 109, get best_k: 31.630367056199916  best_b: -55.29087677285233 , and the loss is : 7552234.873255433\n",
      "When time is : 110, get best_k: 31.530367056199914  best_b: -55.39087677285233 , and the loss is : 7462209.100512177\n",
      "When time is : 111, get best_k: 31.430367056199913  best_b: -55.49087677285233 , and the loss is : 7372725.340733867\n",
      "When time is : 112, get best_k: 31.33036705619991  best_b: -55.59087677285233 , and the loss is : 7283783.593920503\n",
      "When time is : 113, get best_k: 31.23036705619991  best_b: -55.690876772852334 , and the loss is : 7195383.860072072\n",
      "When time is : 114, get best_k: 31.13036705619991  best_b: -55.790876772852336 , and the loss is : 7107526.139188586\n",
      "When time is : 115, get best_k: 31.030367056199907  best_b: -55.89087677285234 , and the loss is : 7020210.431270038\n",
      "When time is : 116, get best_k: 30.930367056199906  best_b: -55.99087677285234 , and the loss is : 6933436.736316421\n",
      "When time is : 117, get best_k: 30.830367056199904  best_b: -56.09087677285234 , and the loss is : 6847205.0543277515\n",
      "When time is : 118, get best_k: 30.730367056199903  best_b: -56.19087677285234 , and the loss is : 6761515.385304032\n",
      "When time is : 119, get best_k: 30.6303670561999  best_b: -56.29087677285234 , and the loss is : 6676367.729245234\n",
      "When time is : 120, get best_k: 30.5303670561999  best_b: -56.390876772852344 , and the loss is : 6591762.086151393\n",
      "When time is : 121, get best_k: 30.4303670561999  best_b: -56.490876772852346 , and the loss is : 6507698.456022482\n",
      "When time is : 122, get best_k: 30.330367056199897  best_b: -56.59087677285235 , and the loss is : 6424176.83885852\n",
      "When time is : 123, get best_k: 30.230367056199896  best_b: -56.69087677285235 , and the loss is : 6341197.23465949\n",
      "When time is : 124, get best_k: 30.130367056199894  best_b: -56.79087677285235 , and the loss is : 6258759.643425394\n",
      "When time is : 125, get best_k: 30.030367056199893  best_b: -56.89087677285235 , and the loss is : 6176864.065156247\n",
      "When time is : 126, get best_k: 29.93036705619989  best_b: -56.99087677285235 , and the loss is : 6095510.499852039\n",
      "When time is : 127, get best_k: 29.83036705619989  best_b: -57.090876772852354 , and the loss is : 6014698.947512766\n",
      "When time is : 128, get best_k: 29.73036705619989  best_b: -57.190876772852356 , and the loss is : 5934429.408138443\n",
      "When time is : 129, get best_k: 29.630367056199887  best_b: -57.29087677285236 , and the loss is : 5854701.881729053\n",
      "When time is : 130, get best_k: 29.530367056199886  best_b: -57.39087677285236 , and the loss is : 5775516.368284603\n",
      "When time is : 131, get best_k: 29.430367056199884  best_b: -57.49087677285236 , and the loss is : 5696872.867805089\n",
      "When time is : 132, get best_k: 29.330367056199883  best_b: -57.59087677285236 , and the loss is : 5618771.380290521\n",
      "When time is : 133, get best_k: 29.23036705619988  best_b: -57.69087677285236 , and the loss is : 5541211.905740898\n",
      "When time is : 134, get best_k: 29.13036705619988  best_b: -57.790876772852364 , and the loss is : 5464194.444156211\n",
      "When time is : 135, get best_k: 29.03036705619988  best_b: -57.890876772852366 , and the loss is : 5387718.995536464\n",
      "When time is : 136, get best_k: 28.930367056199877  best_b: -57.99087677285237 , and the loss is : 5311785.559881647\n",
      "When time is : 137, get best_k: 28.830367056199876  best_b: -58.09087677285237 , and the loss is : 5236394.13719179\n",
      "When time is : 138, get best_k: 28.730367056199874  best_b: -58.19087677285237 , and the loss is : 5161544.727466856\n",
      "When time is : 139, get best_k: 28.630367056199873  best_b: -58.29087677285237 , and the loss is : 5087237.330706863\n",
      "When time is : 140, get best_k: 28.53036705619987  best_b: -58.39087677285237 , and the loss is : 5013471.946911819\n",
      "When time is : 141, get best_k: 28.43036705619987  best_b: -58.490876772852374 , and the loss is : 4940248.576081709\n",
      "When time is : 142, get best_k: 28.33036705619987  best_b: -58.590876772852376 , and the loss is : 4867567.218216543\n",
      "When time is : 143, get best_k: 28.230367056199867  best_b: -58.69087677285238 , and the loss is : 4795427.873316308\n",
      "When time is : 144, get best_k: 28.130367056199866  best_b: -58.79087677285238 , and the loss is : 4723830.54138102\n",
      "When time is : 145, get best_k: 28.030367056199864  best_b: -58.89087677285238 , and the loss is : 4652775.222410674\n",
      "When time is : 146, get best_k: 27.930367056199863  best_b: -58.99087677285238 , and the loss is : 4582261.916405266\n",
      "When time is : 147, get best_k: 27.83036705619986  best_b: -59.09087677285238 , and the loss is : 4512290.623364798\n",
      "When time is : 148, get best_k: 27.73036705619986  best_b: -59.190876772852384 , and the loss is : 4442861.34328927\n",
      "When time is : 149, get best_k: 27.63036705619986  best_b: -59.290876772852386 , and the loss is : 4373974.076178683\n",
      "When time is : 150, get best_k: 27.530367056199857  best_b: -59.39087677285239 , and the loss is : 4305628.822033028\n",
      "When time is : 151, get best_k: 27.430367056199856  best_b: -59.49087677285239 , and the loss is : 4237825.580852322\n",
      "When time is : 152, get best_k: 27.330367056199854  best_b: -59.59087677285239 , and the loss is : 4170564.3526365547\n",
      "When time is : 153, get best_k: 27.230367056199853  best_b: -59.69087677285239 , and the loss is : 4103845.1373857274\n",
      "When time is : 154, get best_k: 27.13036705619985  best_b: -59.79087677285239 , and the loss is : 4037667.9350998383\n",
      "When time is : 155, get best_k: 27.03036705619985  best_b: -59.890876772852394 , and the loss is : 3972032.745778886\n",
      "When time is : 156, get best_k: 26.93036705619985  best_b: -59.990876772852396 , and the loss is : 3906939.5694228807\n",
      "When time is : 157, get best_k: 26.830367056199847  best_b: -60.0908767728524 , and the loss is : 3842388.4060318153\n",
      "When time is : 158, get best_k: 26.730367056199846  best_b: -60.1908767728524 , and the loss is : 3778379.2556056865\n",
      "When time is : 159, get best_k: 26.630367056199844  best_b: -60.2908767728524 , and the loss is : 3714912.1181444977\n",
      "When time is : 160, get best_k: 26.530367056199843  best_b: -60.3908767728524 , and the loss is : 3651986.993648251\n",
      "When time is : 161, get best_k: 26.43036705619984  best_b: -60.4908767728524 , and the loss is : 3589603.88211694\n",
      "When time is : 162, get best_k: 26.33036705619984  best_b: -60.590876772852404 , and the loss is : 3527762.783550569\n",
      "When time is : 163, get best_k: 26.23036705619984  best_b: -60.690876772852405 , and the loss is : 3466463.697949145\n",
      "When time is : 164, get best_k: 26.130367056199837  best_b: -60.79087677285241 , and the loss is : 3405706.6253126534\n",
      "When time is : 165, get best_k: 26.030367056199836  best_b: -60.89087677285241 , and the loss is : 3345491.565641109\n",
      "When time is : 166, get best_k: 25.930367056199835  best_b: -60.99087677285241 , and the loss is : 3285818.518934498\n",
      "When time is : 167, get best_k: 25.830367056199833  best_b: -61.09087677285241 , and the loss is : 3226687.485192831\n",
      "When time is : 168, get best_k: 25.73036705619983  best_b: -61.19087677285241 , and the loss is : 3168098.4644160983\n",
      "When time is : 169, get best_k: 25.63036705619983  best_b: -61.290876772852414 , and the loss is : 3110051.4566043164\n",
      "When time is : 170, get best_k: 25.53036705619983  best_b: -61.390876772852415 , and the loss is : 3052546.461757469\n",
      "When time is : 171, get best_k: 25.430367056199827  best_b: -61.49087677285242 , and the loss is : 2995583.4798755553\n",
      "When time is : 172, get best_k: 25.330367056199826  best_b: -61.59087677285242 , and the loss is : 2939162.5109585905\n",
      "When time is : 173, get best_k: 25.230367056199825  best_b: -61.69087677285242 , and the loss is : 2883283.555006562\n",
      "When time is : 174, get best_k: 25.130367056199823  best_b: -61.79087677285242 , and the loss is : 2827946.612019476\n",
      "When time is : 175, get best_k: 25.03036705619982  best_b: -61.89087677285242 , and the loss is : 2773151.681997326\n",
      "When time is : 176, get best_k: 24.93036705619982  best_b: -61.990876772852424 , and the loss is : 2718898.764940118\n",
      "When time is : 177, get best_k: 24.83036705619982  best_b: -62.090876772852425 , and the loss is : 2665187.8608478513\n",
      "When time is : 178, get best_k: 24.730367056199817  best_b: -62.19087677285243 , and the loss is : 2612018.969720523\n",
      "When time is : 179, get best_k: 24.630367056199816  best_b: -62.29087677285243 , and the loss is : 2559392.091558136\n",
      "When time is : 180, get best_k: 24.530367056199815  best_b: -62.39087677285243 , and the loss is : 2507307.2263606866\n",
      "When time is : 181, get best_k: 24.430367056199813  best_b: -62.49087677285243 , and the loss is : 2455764.3741281796\n",
      "When time is : 182, get best_k: 24.33036705619981  best_b: -62.59087677285243 , and the loss is : 2404763.5348606105\n",
      "When time is : 183, get best_k: 24.23036705619981  best_b: -62.690876772852434 , and the loss is : 2354304.7085579843\n",
      "When time is : 184, get best_k: 24.13036705619981  best_b: -62.790876772852435 , and the loss is : 2304387.8952202955\n",
      "When time is : 185, get best_k: 24.030367056199808  best_b: -62.89087677285244 , and the loss is : 2255013.0948475488\n",
      "When time is : 186, get best_k: 23.930367056199806  best_b: -62.99087677285244 , and the loss is : 2206180.3074397407\n",
      "When time is : 187, get best_k: 23.830367056199805  best_b: -63.09087677285244 , and the loss is : 2157889.5329968734\n",
      "When time is : 188, get best_k: 23.730367056199803  best_b: -63.19087677285244 , and the loss is : 2110140.771518941\n",
      "When time is : 189, get best_k: 23.630367056199802  best_b: -63.29087677285244 , and the loss is : 2062934.0230059568\n",
      "When time is : 190, get best_k: 23.5303670561998  best_b: -63.390876772852444 , and the loss is : 2016269.28745791\n",
      "When time is : 191, get best_k: 23.4303670561998  best_b: -63.490876772852445 , and the loss is : 1970146.5648748023\n",
      "When time is : 192, get best_k: 23.330367056199798  best_b: -63.59087677285245 , and the loss is : 1924565.8552566348\n",
      "When time is : 193, get best_k: 23.230367056199796  best_b: -63.69087677285245 , and the loss is : 1879527.1586034081\n",
      "When time is : 194, get best_k: 23.130367056199795  best_b: -63.79087677285245 , and the loss is : 1835030.4749151212\n",
      "When time is : 195, get best_k: 23.030367056199793  best_b: -63.89087677285245 , and the loss is : 1791075.8041917714\n",
      "When time is : 196, get best_k: 22.930367056199792  best_b: -63.99087677285245 , and the loss is : 1747663.146433362\n",
      "When time is : 197, get best_k: 22.83036705619979  best_b: -64.09087677285245 , and the loss is : 1704792.5016398942\n",
      "When time is : 198, get best_k: 22.73036705619979  best_b: -64.19087677285245 , and the loss is : 1662463.8698113703\n",
      "When time is : 199, get best_k: 22.630367056199788  best_b: -64.29087677285244 , and the loss is : 1620677.2509477825\n",
      "When time is : 200, get best_k: 22.530367056199786  best_b: -64.39087677285244 , and the loss is : 1579432.645049133\n",
      "When time is : 201, get best_k: 22.430367056199785  best_b: -64.49087677285243 , and the loss is : 1538730.0521154273\n",
      "When time is : 202, get best_k: 22.330367056199783  best_b: -64.59087677285243 , and the loss is : 1498569.4721466603\n",
      "When time is : 203, get best_k: 22.230367056199782  best_b: -64.69087677285242 , and the loss is : 1458950.9051428332\n",
      "When time is : 204, get best_k: 22.13036705619978  best_b: -64.79087677285241 , and the loss is : 1419874.351103945\n",
      "When time is : 205, get best_k: 22.03036705619978  best_b: -64.89087677285241 , and the loss is : 1381339.8100300003\n",
      "When time is : 206, get best_k: 21.930367056199778  best_b: -64.9908767728524 , and the loss is : 1343347.2819209925\n",
      "When time is : 207, get best_k: 21.830367056199776  best_b: -65.0908767728524 , and the loss is : 1305896.766776923\n",
      "When time is : 208, get best_k: 21.730367056199775  best_b: -65.19087677285239 , and the loss is : 1268988.2645977957\n",
      "When time is : 209, get best_k: 21.630367056199773  best_b: -65.29087677285239 , and the loss is : 1232621.77538361\n",
      "When time is : 210, get best_k: 21.530367056199772  best_b: -65.39087677285238 , and the loss is : 1196797.2991343618\n",
      "When time is : 211, get best_k: 21.43036705619977  best_b: -65.49087677285237 , and the loss is : 1161514.8358500546\n",
      "When time is : 212, get best_k: 21.33036705619977  best_b: -65.59087677285237 , and the loss is : 1126774.385530688\n",
      "When time is : 213, get best_k: 21.230367056199768  best_b: -65.69087677285236 , and the loss is : 1092575.948176261\n",
      "When time is : 214, get best_k: 21.130367056199766  best_b: -65.79087677285236 , and the loss is : 1058919.523786774\n",
      "When time is : 215, get best_k: 21.030367056199765  best_b: -65.89087677285235 , and the loss is : 1025805.1123622272\n",
      "When time is : 216, get best_k: 20.930367056199763  best_b: -65.99087677285235 , and the loss is : 993232.7139026194\n",
      "When time is : 217, get best_k: 20.830367056199762  best_b: -66.09087677285234 , and the loss is : 961202.3284079519\n",
      "When time is : 218, get best_k: 20.73036705619976  best_b: -66.19087677285233 , and the loss is : 929713.9558782255\n",
      "When time is : 219, get best_k: 20.63036705619976  best_b: -66.29087677285233 , and the loss is : 898767.5963134394\n",
      "When time is : 220, get best_k: 20.530367056199758  best_b: -66.39087677285232 , and the loss is : 868363.2497135918\n",
      "When time is : 221, get best_k: 20.430367056199756  best_b: -66.49087677285232 , and the loss is : 838500.9160786831\n",
      "When time is : 222, get best_k: 20.330367056199755  best_b: -66.59087677285231 , and the loss is : 809180.5954087168\n",
      "When time is : 223, get best_k: 20.230367056199754  best_b: -66.6908767728523 , and the loss is : 780402.2877036897\n",
      "When time is : 224, get best_k: 20.130367056199752  best_b: -66.7908767728523 , and the loss is : 752165.9929636018\n",
      "When time is : 225, get best_k: 20.03036705619975  best_b: -66.8908767728523 , and the loss is : 724471.7111884558\n",
      "When time is : 226, get best_k: 19.93036705619975  best_b: -66.99087677285229 , and the loss is : 697319.442378249\n",
      "When time is : 227, get best_k: 19.830367056199748  best_b: -67.09087677285228 , and the loss is : 670709.1865329817\n",
      "When time is : 228, get best_k: 19.730367056199746  best_b: -67.19087677285228 , and the loss is : 644640.9436526544\n",
      "When time is : 229, get best_k: 19.630367056199745  best_b: -67.29087677285227 , and the loss is : 619114.7137372668\n",
      "When time is : 230, get best_k: 19.530367056199744  best_b: -67.39087677285227 , and the loss is : 594130.4967868208\n",
      "When time is : 231, get best_k: 19.430367056199742  best_b: -67.49087677285226 , and the loss is : 569688.2928013138\n",
      "When time is : 232, get best_k: 19.33036705619974  best_b: -67.59087677285225 , and the loss is : 545788.1017807465\n",
      "When time is : 233, get best_k: 19.23036705619974  best_b: -67.69087677285225 , and the loss is : 522429.92372511927\n",
      "When time is : 234, get best_k: 19.130367056199738  best_b: -67.79087677285224 , and the loss is : 499613.75863443234\n",
      "When time is : 235, get best_k: 19.030367056199736  best_b: -67.89087677285224 , and the loss is : 477339.6065086854\n",
      "When time is : 236, get best_k: 18.930367056199735  best_b: -67.99087677285223 , and the loss is : 455607.46734787815\n",
      "When time is : 237, get best_k: 18.830367056199734  best_b: -68.09087677285223 , and the loss is : 434417.34115201107\n",
      "When time is : 238, get best_k: 18.730367056199732  best_b: -68.19087677285222 , and the loss is : 413769.22792108473\n",
      "When time is : 239, get best_k: 18.63036705619973  best_b: -68.29087677285222 , and the loss is : 393663.1276550973\n",
      "When time is : 240, get best_k: 18.53036705619973  best_b: -68.39087677285221 , and the loss is : 374099.0403540503\n",
      "When time is : 241, get best_k: 18.430367056199728  best_b: -68.4908767728522 , and the loss is : 355076.96601794305\n",
      "When time is : 242, get best_k: 18.330367056199727  best_b: -68.5908767728522 , and the loss is : 336596.90464677627\n",
      "When time is : 243, get best_k: 18.230367056199725  best_b: -68.69087677285219 , and the loss is : 318658.8562405494\n",
      "When time is : 244, get best_k: 18.130367056199724  best_b: -68.79087677285219 , and the loss is : 301262.8207992623\n",
      "When time is : 245, get best_k: 18.030367056199722  best_b: -68.89087677285218 , and the loss is : 284408.7983229152\n",
      "When time is : 246, get best_k: 17.93036705619972  best_b: -68.99087677285218 , and the loss is : 268096.788811508\n",
      "When time is : 247, get best_k: 17.83036705619972  best_b: -69.09087677285217 , and the loss is : 252326.79226504112\n",
      "When time is : 248, get best_k: 17.730367056199718  best_b: -69.19087677285216 , and the loss is : 237098.80868351427\n",
      "When time is : 249, get best_k: 17.630367056199717  best_b: -69.29087677285216 , and the loss is : 222412.8380669274\n",
      "When time is : 250, get best_k: 17.530367056199715  best_b: -69.39087677285215 , and the loss is : 208268.88041528035\n",
      "When time is : 251, get best_k: 17.430367056199714  best_b: -69.49087677285215 , and the loss is : 194666.93572857362\n",
      "When time is : 252, get best_k: 17.330367056199712  best_b: -69.59087677285214 , and the loss is : 181607.00400680662\n",
      "When time is : 253, get best_k: 17.23036705619971  best_b: -69.69087677285214 , and the loss is : 169089.08524997978\n",
      "When time is : 254, get best_k: 17.13036705619971  best_b: -69.79087677285213 , and the loss is : 157113.17945809278\n",
      "When time is : 255, get best_k: 17.030367056199708  best_b: -69.89087677285212 , and the loss is : 145679.2866311457\n",
      "When time is : 256, get best_k: 16.930367056199707  best_b: -69.99087677285212 , and the loss is : 134787.40676913894\n",
      "When time is : 257, get best_k: 16.830367056199705  best_b: -70.09087677285211 , and the loss is : 124437.53987207184\n",
      "When time is : 258, get best_k: 16.730367056199704  best_b: -70.1908767728521 , and the loss is : 114629.68593994499\n",
      "When time is : 259, get best_k: 16.630367056199702  best_b: -70.2908767728521 , and the loss is : 105363.84497275803\n",
      "When time is : 260, get best_k: 16.5303670561997  best_b: -70.3908767728521 , and the loss is : 96640.01697051112\n",
      "When time is : 261, get best_k: 16.4303670561997  best_b: -70.49087677285209 , and the loss is : 88458.20193320417\n",
      "When time is : 262, get best_k: 16.330367056199698  best_b: -70.59087677285208 , and the loss is : 80818.39986083732\n",
      "When time is : 263, get best_k: 16.230367056199697  best_b: -70.69087677285208 , and the loss is : 73720.61075341034\n",
      "When time is : 264, get best_k: 16.130367056199695  best_b: -70.79087677285207 , and the loss is : 67164.83461092356\n",
      "When time is : 265, get best_k: 16.030367056199694  best_b: -70.89087677285207 , and the loss is : 61151.07143337661\n",
      "When time is : 266, get best_k: 15.930367056199694  best_b: -70.99087677285206 , and the loss is : 55679.32122076989\n",
      "When time is : 267, get best_k: 15.830367056199695  best_b: -71.09087677285206 , and the loss is : 50749.58397310306\n",
      "When time is : 268, get best_k: 15.730367056199695  best_b: -71.19087677285205 , and the loss is : 46361.85969037623\n",
      "When time is : 269, get best_k: 15.630367056199695  best_b: -71.29087677285204 , and the loss is : 42516.14837258939\n",
      "When time is : 270, get best_k: 15.530367056199696  best_b: -71.39087677285204 , and the loss is : 39212.45001974252\n",
      "When time is : 271, get best_k: 15.430367056199696  best_b: -71.49087677285203 , and the loss is : 36450.76463183571\n",
      "When time is : 272, get best_k: 15.330367056199696  best_b: -71.59087677285203 , and the loss is : 34231.09220886884\n",
      "When time is : 273, get best_k: 15.230367056199697  best_b: -71.69087677285202 , and the loss is : 32553.432750841945\n",
      "When time is : 274, get best_k: 15.130367056199697  best_b: -71.79087677285202 , and the loss is : 31417.78625775505\n",
      "When time is : 275, get best_k: 15.030367056199697  best_b: -71.89087677285201 , and the loss is : 30824.15272960814\n",
      "When time is : 276, get best_k: 14.930367056199698  best_b: -71.990876772852 , and the loss is : 30772.532166401248\n"
     ],
     "output_type": "stream"
    }
   ],
   "source": [
    "try_times = 1000\n",
    "\n",
    "min_loss = float('inf')\n",
    "\n",
    "best_k = random.random() * 200 - 100\n",
    "best_b = random.random() * 200 - 100\n",
    "\n",
    "direction = [\n",
    "    (+1, -1),  # first element: k's change direction, second element; b's change direction\n",
    "    (+1, +1),\n",
    "    (-1, -1),\n",
    "    (-1, +1)\n",
    "]\n",
    "\n",
    "current_direction = random.choice(direction)\n",
    "\n",
    "scalar = 0.1\n",
    "\n",
    "for i in range(try_times):\n",
    "    \n",
    "    k_direction, b_direction = current_direction\n",
    "    current_k, current_b = best_k + k_direction * scalar, best_b + b_direction * scalar\n",
    "\n",
    "    price_by_k_and_b = [price(r, current_k, current_b) for r in x_rm]\n",
    "    \n",
    "    current_loss = loss(y, price_by_k_and_b)\n",
    "    \n",
    "    if current_loss < min_loss:\n",
    "        min_loss = current_loss\n",
    "        best_k, best_b = current_k, current_b\n",
    "        \n",
    "        next_direction = current_direction\n",
    "        print('When time is : {}, get best_k: {}  best_b: {} , and the loss is : {}'.format(i, best_k, best_b, current_loss))\n",
    "        \n",
    "    else:\n",
    "        next_direction = random.choice(direction)\n",
    "               \n",
    "     "
   ]
  },
  {
   "cell_type": "markdown",
   "source": [
    "### 如果我们想得到更快的更新，在更短的时间内获得更好的结果，我们需要一件事情\n",
    "\n",
    "* 找对改变的方向\n",
    "* 如何找对改变的方向呢\n",
    "* 2nd_method：监督让他变化 ---> 监督学习"
   ],
   "metadata": {
    "collapsed": false,
    "pycharm": {
     "name": "#%% md\n"
    }
   }
  },
  {
   "cell_type": "code",
   "execution_count": null,
   "outputs": [],
   "source": [
    "\n"
   ],
   "metadata": {
    "collapsed": false,
    "pycharm": {
     "name": "#%%\n"
    }
   }
  }
 ],
 "metadata": {
  "kernelspec": {
   "display_name": "Python 3",
   "language": "python",
   "name": "python3"
  },
  "language_info": {
   "codemirror_mode": {
    "name": "ipython",
    "version": 3
   },
   "file_extension": ".py",
   "mimetype": "text/x-python",
   "name": "python",
   "nbconvert_exporter": "python",
   "pygments_lexer": "ipython3",
   "version": "3.6.9"
  },
  "pycharm": {
   "stem_cell": {
    "cell_type": "raw",
    "source": [],
    "metadata": {
     "collapsed": false
    }
   }
  }
 },
 "nbformat": 4,
 "nbformat_minor": 1
}