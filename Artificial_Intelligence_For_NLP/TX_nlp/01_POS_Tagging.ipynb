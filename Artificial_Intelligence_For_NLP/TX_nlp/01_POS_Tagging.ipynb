{
 "cells": [
  {
   "cell_type": "code",
   "execution_count": 71,
   "outputs": [],
   "source": [
    "tag2id, id2tag = {}, {} # maps tag to id. tag2id: {\"VB\": 0, \"NNP\":1, ...}, id2tag: {0: \"VB\", 1: \"NNP\"...}\n",
    "word2id, id2word = {}, {} # maps word to id\n",
    "\n",
    "for line in open(\"traindata.txt\"):\n",
    "    items = line.split('/')\n",
    "    word, tag = items[0], items[1].rstrip() # 抽取每一个行里的单词和词性\n",
    "    \n",
    "    if word not in word2id:\n",
    "        word2id[word] = len(word2id) # 如果word不在word2id中，就把它加进去然后赋予它一个下标，下标是长度即可\n",
    "        id2word[len(id2word)] = word # 同上\n",
    "        \n",
    "    if tag not in tag2id:\n",
    "        tag2id[tag] = len(tag2id)\n",
    "        id2tag[len(id2tag)] = tag\n",
    "\n",
    "M = len(word2id) # M: 词典的大小  # of word in dictionary\n",
    "N = len(tag2id) # N: 词性的种类个数 # of tags in tag set\n",
    "        \n",
    "        "
   ],
   "metadata": {
    "collapsed": false,
    "pycharm": {
     "name": "#%%\n",
     "is_executing": false
    }
   }
  },
  {
   "cell_type": "code",
   "execution_count": 72,
   "outputs": [],
   "source": [
    "# 构建π, A, B, 先将他们初始化为0\n",
    "import numpy as np\n",
    "pi= np.zeros(N) # 每个词性出现在句子中第一个位置的概率。 # of tags\n",
    "A = np.zeros((N, M)) # 给定A[i][j], 给定tag i, 出现单词 j 的概率。 N: # of tags, M: # of words in dictionary\n",
    "B = np.zeros((N, N)) # 给定B[i][j], 之前的状态是 i, 转换成状态 j, 的概率"
   ],
   "metadata": {
    "collapsed": false,
    "pycharm": {
     "name": "#%%\n",
     "is_executing": false
    }
   }
  },
  {
   "cell_type": "code",
   "execution_count": 73,
   "outputs": [],
   "source": [
    "# 接下来就要在读取过程中将上边的信息一个一个的写入到 pi, A, B中\n",
    "\n",
    "prev_tag = \"\"\n",
    "for line in open('traindata.txt'):\n",
    "    items = line.split('/')\n",
    "    wordID, tagID = word2id[items[0]], tag2id[items[1].rstrip()] \n",
    "    \n",
    "    if prev_tag == \"\": # 这意味着是句子的开始\n",
    "        pi[tagID] += 1\n",
    "        A[tagID][wordID] += 1\n",
    "    else: # 如果不是句子的开头\n",
    "        A[tagID][wordID] += 1\n",
    "        B[tag2id[prev_tag]][tagID] += 1\n",
    "        \n",
    "    if items[0] == '.': # 意味着这个句子结束了\n",
    "        prev_tag = ''\n",
    "    else:\n",
    "        prev_tag = items[1].rstrip()\n",
    "        "
   ],
   "metadata": {
    "collapsed": false,
    "pycharm": {
     "name": "#%%\n",
     "is_executing": false
    }
   }
  },
  {
   "cell_type": "code",
   "execution_count": 74,
   "outputs": [],
   "source": [
    "# 我们前面算完了A, B, pi的次数, 现在我们考虑把次数转换成概率\n",
    "# normalize\n",
    "pi = pi/sum(pi)\n",
    "for i in range(N):\n",
    "    A[i] /= sum(A[i])\n",
    "    B[i] /= sum(B[i])\n",
    "# 到此为止我们计算完了模型的而所有的参数: pi, A, B"
   ],
   "metadata": {
    "collapsed": false,
    "pycharm": {
     "name": "#%%\n",
     "is_executing": false
    }
   }
  },
  {
   "cell_type": "code",
   "execution_count": 75,
   "outputs": [],
   "source": [
    "def log(v):\n",
    "    if v == 0:\n",
    "        return np.log(v+0.0000000000000000000000001)\n",
    "    return np.log(v)"
   ],
   "metadata": {
    "collapsed": false,
    "pycharm": {
     "name": "#%%\n",
     "is_executing": false
    }
   }
  },
  {
   "cell_type": "code",
   "execution_count": 76,
   "outputs": [],
   "source": [
    "# 定义维特比算法\n",
    "def viterbi(x, pi, A, B):\n",
    "    \"\"\"\n",
    "    :param x: user input string/sentence \n",
    "    :param pi: initial probability of tags\n",
    "    :param A: 给定tag，每个单词出现的概率\n",
    "    :param B: 不同tag之间的状态转移概率\n",
    "    :return: \n",
    "    \"\"\"\n",
    "    x = [word2id[word] for word in x.split(' ')] # x代表的是针对每个单词的序号\n",
    "    T = len(x)\n",
    "    dp = np.zeros((T, N)) # dp[i][j]: w1...wi, 假设wi的tag是第j个tag \n",
    "    \n",
    "    for j in range(N): # base case for DP算法\n",
    "        dp[0][j] = log(pi[j]) + log(A[j][x[0]]) \n",
    "        \n",
    "    #　以下只是动态规划的结果，而我现在要记录下路径\n",
    "    ptr = np.array([[0 for x in range(N)] for y in range(T)]) # 一个T*N的矩阵\n",
    "    \n",
    "    for i in range(1, T): # 每个单词\n",
    "        for j in range(N): # 每个词性\n",
    "            # TODO：以下几行的代码可以写成一行，（vectorize的操作，会使得效率变高）\n",
    "            dp[i][j] = -99999999\n",
    "            for k in range(N): # 从每一个k可以到达j\n",
    "                score = dp[i-1][k] + log(A[j][x[i]]) + log(B[k][j])\n",
    "                if score > dp[i][j]:\n",
    "                    dp[i][j] = score  # 在这里我们可以看出，算法的时间复杂度是N平方乘以T\n",
    "                    ptr[i][j] = k # 记录下每个点的上一个路径\n",
    "    # decoding: 把最好的 tag sequence 打印出来\n",
    "    best_seq = [0] * T   # best_seq = [1, 5, 2, 23, 4, ...]\n",
    "    # step1: 找出对应于最后一个单词的词性\n",
    "    best_seq[T-1] = np.argmax(dp[T-1]) # argmax求出最后一列的那个单词的最大的score\n",
    "    # step2: 通过从后到前的循环来一次求出每个单词的词性\n",
    "    # 注意：range函数(开始位置, 结束位置, 步长), 不包括结束位置的元素\n",
    "    for i in range(T-2, -1, -1): # T-2, T-1, ..., 1, 0\n",
    "        best_seq[i] = ptr[i+1][best_seq[i+1]]\n",
    "    \n",
    "    # 到目前为止，best_seq存放了对应于x的词性序列\n",
    "    for i in range(len(best_seq)):\n",
    "        print(id2tag[best_seq[i]])\n",
    "        \n",
    "    "
   ],
   "metadata": {
    "collapsed": false,
    "pycharm": {
     "name": "#%%\n",
     "is_executing": false
    }
   }
  },
  {
   "cell_type": "code",
   "execution_count": 77,
   "outputs": [
    {
     "name": "stdout",
     "text": [
      "DT\n",
      "NNP\n",
      "NN\n",
      "NN\n",
      "IN\n",
      "DT\n",
      "NN\n",
      ".\n",
      "DT\n",
      "NN\n",
      "VBZ\n",
      "JJ\n"
     ],
     "output_type": "stream"
    }
   ],
   "source": [
    "x = 'the U.S. security burden in the region . The issue is further'\n",
    "viterbi(x, pi, A, B)\n",
    " "
   ],
   "metadata": {
    "collapsed": false,
    "pycharm": {
     "name": "#%%\n",
     "is_executing": false
    }
   }
  },
  {
   "cell_type": "code",
   "execution_count": 77,
   "outputs": [],
   "source": [
    "\n"
   ],
   "metadata": {
    "collapsed": false,
    "pycharm": {
     "name": "#%%\n",
     "is_executing": false
    }
   }
  }
 ],
 "metadata": {
  "kernelspec": {
   "display_name": "Python 3",
   "language": "python",
   "name": "python3"
  },
  "language_info": {
   "codemirror_mode": {
    "name": "ipython",
    "version": 2
   },
   "file_extension": ".py",
   "mimetype": "text/x-python",
   "name": "python",
   "nbconvert_exporter": "python",
   "pygments_lexer": "ipython2",
   "version": "2.7.6"
  },
  "pycharm": {
   "stem_cell": {
    "cell_type": "raw",
    "source": [],
    "metadata": {
     "collapsed": false
    }
   }
  }
 },
 "nbformat": 4,
 "nbformat_minor": 0
}