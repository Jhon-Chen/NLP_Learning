{
 "cells": [
  {
   "cell_type": "markdown",
   "metadata": {
    "collapsed": true,
    "pycharm": {
     "name": "#%% md\n"
    }
   },
   "source": [
    "# Fibonanci number(斐波那契数列)"
   ]
  },
  {
   "cell_type": "code",
   "execution_count": 7,
   "outputs": [],
   "source": [
    "def fib(n):\n",
    "    # base case 一定要有终结条件\n",
    "    if n < 3:\n",
    "        return 1\n",
    "    return fib(n - 2) + fib(n - 1)"
   ],
   "metadata": {
    "collapsed": false,
    "pycharm": {
     "name": "#%%\n",
     "is_executing": false
    }
   }
  },
  {
   "cell_type": "code",
   "execution_count": 8,
   "outputs": [
    {
     "name": "stdout",
     "text": [
      "6765\n"
     ],
     "output_type": "stream"
    }
   ],
   "source": [
    "# 注意 当n较大时基本就算不出来了\n",
    "print(fib(20))"
   ],
   "metadata": {
    "collapsed": false,
    "pycharm": {
     "name": "#%%\n",
     "is_executing": false
    }
   }
  },
  {
   "cell_type": "markdown",
   "source": [
    "### 时间复杂度？\n",
    "* 分析这种递归是，往往需要画一棵树（递归树）\n",
    "\n",
    "### 空间复杂度？\n",
    "* 想象有一个栈，为O(n)"
   ],
   "metadata": {
    "collapsed": false,
    "pycharm": {
     "name": "#%% md\n"
    }
   }
  },
  {
   "cell_type": "code",
   "execution_count": 9,
   "outputs": [],
   "source": [
    "# 利用循环实现, 可以降低时间复杂度，但是提高了空间复杂度\n",
    "import numpy as np\n",
    "def fib2(n):\n",
    "    tmp = np.zeros(n)\n",
    "    tmp[0] = 1\n",
    "    tmp[1] = 1\n",
    "    for i in range(2, n):\n",
    "        tmp[i] = tmp[i-2] + tmp[i-1]\n",
    "    return tmp[n-1]"
   ],
   "metadata": {
    "collapsed": false,
    "pycharm": {
     "name": "#%%\n",
     "is_executing": false
    }
   }
  },
  {
   "cell_type": "code",
   "execution_count": 10,
   "outputs": [
    {
     "name": "stdout",
     "text": [
      "3.54224848179262e+20\n"
     ],
     "output_type": "stream"
    }
   ],
   "source": [
    "print(fib2(100))\n"
   ],
   "metadata": {
    "collapsed": false,
    "pycharm": {
     "name": "#%%\n",
     "is_executing": false
    }
   }
  }
 ],
 "metadata": {
  "kernelspec": {
   "display_name": "Python 3",
   "language": "python",
   "name": "python3"
  },
  "language_info": {
   "codemirror_mode": {
    "name": "ipython",
    "version": 2
   },
   "file_extension": ".py",
   "mimetype": "text/x-python",
   "name": "python",
   "nbconvert_exporter": "python",
   "pygments_lexer": "ipython2",
   "version": "2.7.6"
  },
  "pycharm": {
   "stem_cell": {
    "cell_type": "raw",
    "source": [],
    "metadata": {
     "collapsed": false
    }
   }
  }
 },
 "nbformat": 4,
 "nbformat_minor": 0
}